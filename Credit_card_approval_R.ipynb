{
  "nbformat": 4,
  "nbformat_minor": 0,
  "metadata": {
    "colab": {
      "name": "Credit card approval R.ipynb",
      "provenance": [],
      "collapsed_sections": [],
      "toc_visible": true,
      "include_colab_link": true
    },
    "kernelspec": {
      "name": "ir",
      "display_name": "R"
    }
  },
  "cells": [
    {
      "cell_type": "markdown",
      "metadata": {
        "id": "view-in-github",
        "colab_type": "text"
      },
      "source": [
        "<a href=\"https://colab.research.google.com/github/nestorsgarzonc/Data-Science-Proyects/blob/master/Credit_card_approval_R.ipynb\" target=\"_parent\"><img src=\"https://colab.research.google.com/assets/colab-badge.svg\" alt=\"Open In Colab\"/></a>"
      ]
    },
    {
      "cell_type": "markdown",
      "metadata": {
        "id": "UO-VaLr0EtFq",
        "colab_type": "text"
      },
      "source": [
        "#Importar librerias necesarias"
      ]
    },
    {
      "cell_type": "markdown",
      "metadata": {
        "id": "uMqtkYmWE3K8",
        "colab_type": "text"
      },
      "source": [
        "## Descargar paquetes"
      ]
    },
    {
      "cell_type": "markdown",
      "metadata": {
        "id": "Xy1rDKDBOXyv",
        "colab_type": "text"
      },
      "source": [
        "Al instalar los paquetes puede tardar aproximadamente 5 minutos\n",
        "\n",
        "Nota: mnormt es una dependencia del paquete psych, se intala una version anterior por compatibilidad de version con la 2.0 de mnormt\n",
        "\n"
      ]
    },
    {
      "cell_type": "code",
      "metadata": {
        "id": "9qeBa8tjQhxY",
        "colab_type": "code",
        "colab": {}
      },
      "source": [
        "packageurl <- \"https://cran.r-project.org/src/contrib/Archive/mnormt/mnormt_1.5-7.tar.gz\"\n",
        "install.packages(packageurl, repos=NULL, type=\"source\")"
      ],
      "execution_count": null,
      "outputs": []
    },
    {
      "cell_type": "code",
      "metadata": {
        "id": "V1xBjU5qD9Qu",
        "colab_type": "code",
        "colab": {}
      },
      "source": [
        "install.packages(\"psych\", repos='https://www.icesi.edu.co/CRAN/')\n",
        "install.packages(\"dplyr\")   #Resumenes estadisticos\n",
        "install.packages(\"ggplot2\") #Graficos en general\n",
        "install.packages('RCurl')   #Paquete para obtener archivos desde internet\n",
        "install.packages(\"modeest\") #Calcular moda\n",
        "install.packages(\"dplyr\")   #Agrupar datos\n",
        "install.packages(\"fdth\")    #Graficos descriptivos\n",
        "install.packages(\"ggpubr\")  #Grafico de medias"
      ],
      "execution_count": null,
      "outputs": []
    },
    {
      "cell_type": "markdown",
      "metadata": {
        "id": "S0lp1Ge_E7Ub",
        "colab_type": "text"
      },
      "source": [
        "##Cargar paquetes"
      ]
    },
    {
      "cell_type": "code",
      "metadata": {
        "id": "lM6qVfc7EzbM",
        "colab_type": "code",
        "colab": {}
      },
      "source": [
        "library(\"ggplot2\")\n",
        "library(\"psych\")\n",
        "library(\"dplyr\")\n",
        "library (\"RCurl\")\n",
        "library (\"modeest\")\n",
        "library(\"fdth\")\n",
        "library(\"ggpubr\")"
      ],
      "execution_count": null,
      "outputs": []
    },
    {
      "cell_type": "markdown",
      "metadata": {
        "id": "YtB2c83tNyq_",
        "colab_type": "text"
      },
      "source": [
        "# Cargar dataset"
      ]
    },
    {
      "cell_type": "markdown",
      "metadata": {
        "id": "akoe1v2pN-yk",
        "colab_type": "text"
      },
      "source": [
        "Nota: el dataset original tenia un problema de interpretacion en colab, por ello se modifico la codificacion y esta disponible ambas versiones en el siguiente repositorio: https://github.com/nestorsgarzonc/Data-analysis-R"
      ]
    },
    {
      "cell_type": "code",
      "metadata": {
        "id": "g8vx6PFsFfQ0",
        "colab_type": "code",
        "colab": {}
      },
      "source": [
        "#download <- getURL(\"https://raw.githubusercontent.com/nestorsgarzonc/Data-analysis-R/master/Base_Banco.csv\")\n",
        "#data <- read.table (text = download, sep = ';', fileEncoding = \"UCS-2LE\")"
      ],
      "execution_count": null,
      "outputs": []
    },
    {
      "cell_type": "code",
      "metadata": {
        "id": "FUmNxFC5Fw8B",
        "colab_type": "code",
        "colab": {}
      },
      "source": [
        "#head(data)"
      ],
      "execution_count": null,
      "outputs": []
    },
    {
      "cell_type": "code",
      "metadata": {
        "id": "NkA0NvK8IZRO",
        "colab_type": "code",
        "colab": {}
      },
      "source": [
        "#dim(data)"
      ],
      "execution_count": null,
      "outputs": []
    },
    {
      "cell_type": "code",
      "metadata": {
        "id": "ERTTxL2xLlOD",
        "colab_type": "code",
        "colab": {}
      },
      "source": [
        "#colnames(data) <- as.character(unlist(data[1,]))\n",
        "#data = data[-1, ]"
      ],
      "execution_count": null,
      "outputs": []
    },
    {
      "cell_type": "markdown",
      "metadata": {
        "id": "QfwHNG_8Dl7i",
        "colab_type": "text"
      },
      "source": [
        "Importar dataframe modificado, se descarga el dataset alojado en GitHub usando el metodo:\n",
        "\n",
        "```\n",
        "getURL('URL')\n",
        "```\n",
        "\n",
        "Como la primera columna del dataset (X) es el indice del dataset, se define como el index del dataframe\n",
        "```\n",
        "read.csv(row.names='X')\n",
        "```\n",
        "\n",
        "\n",
        "\n"
      ]
    },
    {
      "cell_type": "code",
      "metadata": {
        "id": "-zr8pGBmNl65",
        "colab_type": "code",
        "colab": {}
      },
      "source": [
        "download <- getURL(\"https://raw.githubusercontent.com/nestorsgarzonc/Data-analysis-R/master/banco_dataframe.csv\")\n",
        "BaseBanco <- read.csv(text = download, row.names = 'X')"
      ],
      "execution_count": null,
      "outputs": []
    },
    {
      "cell_type": "markdown",
      "metadata": {
        "id": "kpZRaE3dRncv",
        "colab_type": "text"
      },
      "source": [
        "#Exploracion de datos"
      ]
    },
    {
      "cell_type": "markdown",
      "metadata": {
        "id": "AN_73olrCF6v",
        "colab_type": "text"
      },
      "source": [
        "Las variables estan definidas de la siguiente manera\n",
        "\n",
        "\n",
        "1.   **Edad**: Edad en años del cliente.\n",
        "2.   **Ocupación**: Ocupación del cliente.\n",
        "3.   **Est_civil**: Estado civil del cliente.\n",
        "4. **Nivel_educativo**: Máximo nivel escolar alcanzado por el cliente.\n",
        "5. **Contrato_meses**: Duración del último o actual contrato de trabajo del cliente.\n",
        "6. **Cred_hipotecario**: Si el cliente tiene o no crédito hipotecario vigente con el banco.\n",
        "7. **Cred_personal**: Si el cliente tiene o no crédito personal vigente con el banco.\n",
        "8. **Medio_contacto**: Medio por el cual se contactó al cliente.\n",
        "9. **Día**: Día del mes en el que se realizó el último contacto con el cliente.\n",
        "10. **Mes**: Mes del año en el que se realizó el último contacto con el cliente.\n",
        "11. **Duración_seg**: Duración en segundos del último contacto con el cliente.\n",
        "12. **Cont_campaña_actual**: Número de veces que se contactó al cliente en la campaña mencionada.\n",
        "13. **Campañas_previas**: Número de campañas de promoción en las que se ha incluido al cliente previamente.\n",
        "14. **Aceptación_TC**: Si el cliente aceptó o no la tarjeta de crédito en la campaña mencionada."
      ]
    },
    {
      "cell_type": "markdown",
      "metadata": {
        "id": "eU305SYy2KyU",
        "colab_type": "text"
      },
      "source": [
        "A continuacion se realiza la inspeccion de las 5 primeras y 5 ultimas columnas del dataset"
      ]
    },
    {
      "cell_type": "code",
      "metadata": {
        "id": "MSKotsHiB0lq",
        "colab_type": "code",
        "colab": {
          "base_uri": "https://localhost:8080/",
          "height": 176
        },
        "outputId": "b48d59d6-eb6d-401f-b818-9288194a53ad"
      },
      "source": [
        "head(BaseBanco)"
      ],
      "execution_count": null,
      "outputs": [
        {
          "output_type": "display_data",
          "data": {
            "text/plain": [
              "  edad ocupación     est_civil nivel_educativo contrato_meses Cred_hipotecario\n",
              "0 30   desempleado   casado    primaria        21             no              \n",
              "1 33   profesor      casado    bachillerato    37             si              \n",
              "2 35   administrador soltero   universitario   52             si              \n",
              "3 30   administrador casado    universitario   27             si              \n",
              "4 59   informal      casado    bachillerato     6             si              \n",
              "5 35   administrador soltero   universitario   29             no              \n",
              "  Cred_personal Medio_contacto Dia Mes     duracion_seg cont_campaña_actual\n",
              "0 no            celular        19  octubre  79          1                  \n",
              "1 si            celular        11  mayo    220          1                  \n",
              "2 no            celular        16  abril   185          1                  \n",
              "3 si            chat            3  junio   199          4                  \n",
              "4 no            chat            5  mayo    226          1                  \n",
              "5 no            celular        23  febrero 141          2                  \n",
              "  campañas_previas aceptacion_TC\n",
              "0 0                no           \n",
              "1 4                no           \n",
              "2 1                no           \n",
              "3 0                no           \n",
              "4 0                no           \n",
              "5 3                no           "
            ],
            "text/latex": "A data.frame: 6 × 14\n\\begin{tabular}{r|llllllllllllll}\n  & edad & ocupación & est\\_civil & nivel\\_educativo & contrato\\_meses & Cred\\_hipotecario & Cred\\_personal & Medio\\_contacto & Dia & Mes & duracion\\_seg & cont\\_campaña\\_actual & campañas\\_previas & aceptacion\\_TC\\\\\n  & <int> & <fct> & <fct> & <fct> & <int> & <fct> & <fct> & <fct> & <int> & <fct> & <int> & <int> & <int> & <fct>\\\\\n\\hline\n\t0 & 30 & desempleado   & casado  & primaria      & 21 & no & no & celular & 19 & octubre &  79 & 1 & 0 & no\\\\\n\t1 & 33 & profesor      & casado  & bachillerato  & 37 & si & si & celular & 11 & mayo    & 220 & 1 & 4 & no\\\\\n\t2 & 35 & administrador & soltero & universitario & 52 & si & no & celular & 16 & abril   & 185 & 1 & 1 & no\\\\\n\t3 & 30 & administrador & casado  & universitario & 27 & si & si & chat    &  3 & junio   & 199 & 4 & 0 & no\\\\\n\t4 & 59 & informal      & casado  & bachillerato  &  6 & si & no & chat    &  5 & mayo    & 226 & 1 & 0 & no\\\\\n\t5 & 35 & administrador & soltero & universitario & 29 & no & no & celular & 23 & febrero & 141 & 2 & 3 & no\\\\\n\\end{tabular}\n",
            "text/markdown": "\nA data.frame: 6 × 14\n\n| <!--/--> | edad &lt;int&gt; | ocupación &lt;fct&gt; | est_civil &lt;fct&gt; | nivel_educativo &lt;fct&gt; | contrato_meses &lt;int&gt; | Cred_hipotecario &lt;fct&gt; | Cred_personal &lt;fct&gt; | Medio_contacto &lt;fct&gt; | Dia &lt;int&gt; | Mes &lt;fct&gt; | duracion_seg &lt;int&gt; | cont_campaña_actual &lt;int&gt; | campañas_previas &lt;int&gt; | aceptacion_TC &lt;fct&gt; |\n|---|---|---|---|---|---|---|---|---|---|---|---|---|---|---|\n| 0 | 30 | desempleado   | casado  | primaria      | 21 | no | no | celular | 19 | octubre |  79 | 1 | 0 | no |\n| 1 | 33 | profesor      | casado  | bachillerato  | 37 | si | si | celular | 11 | mayo    | 220 | 1 | 4 | no |\n| 2 | 35 | administrador | soltero | universitario | 52 | si | no | celular | 16 | abril   | 185 | 1 | 1 | no |\n| 3 | 30 | administrador | casado  | universitario | 27 | si | si | chat    |  3 | junio   | 199 | 4 | 0 | no |\n| 4 | 59 | informal      | casado  | bachillerato  |  6 | si | no | chat    |  5 | mayo    | 226 | 1 | 0 | no |\n| 5 | 35 | administrador | soltero | universitario | 29 | no | no | celular | 23 | febrero | 141 | 2 | 3 | no |\n\n",
            "text/html": [
              "<table>\n",
              "<caption>A data.frame: 6 × 14</caption>\n",
              "<thead>\n",
              "\t<tr><th></th><th scope=col>edad</th><th scope=col>ocupación</th><th scope=col>est_civil</th><th scope=col>nivel_educativo</th><th scope=col>contrato_meses</th><th scope=col>Cred_hipotecario</th><th scope=col>Cred_personal</th><th scope=col>Medio_contacto</th><th scope=col>Dia</th><th scope=col>Mes</th><th scope=col>duracion_seg</th><th scope=col>cont_campaña_actual</th><th scope=col>campañas_previas</th><th scope=col>aceptacion_TC</th></tr>\n",
              "\t<tr><th></th><th scope=col>&lt;int&gt;</th><th scope=col>&lt;fct&gt;</th><th scope=col>&lt;fct&gt;</th><th scope=col>&lt;fct&gt;</th><th scope=col>&lt;int&gt;</th><th scope=col>&lt;fct&gt;</th><th scope=col>&lt;fct&gt;</th><th scope=col>&lt;fct&gt;</th><th scope=col>&lt;int&gt;</th><th scope=col>&lt;fct&gt;</th><th scope=col>&lt;int&gt;</th><th scope=col>&lt;int&gt;</th><th scope=col>&lt;int&gt;</th><th scope=col>&lt;fct&gt;</th></tr>\n",
              "</thead>\n",
              "<tbody>\n",
              "\t<tr><th scope=row>0</th><td>30</td><td>desempleado  </td><td>casado </td><td>primaria     </td><td>21</td><td>no</td><td>no</td><td>celular</td><td>19</td><td>octubre</td><td> 79</td><td>1</td><td>0</td><td>no</td></tr>\n",
              "\t<tr><th scope=row>1</th><td>33</td><td>profesor     </td><td>casado </td><td>bachillerato </td><td>37</td><td>si</td><td>si</td><td>celular</td><td>11</td><td>mayo   </td><td>220</td><td>1</td><td>4</td><td>no</td></tr>\n",
              "\t<tr><th scope=row>2</th><td>35</td><td>administrador</td><td>soltero</td><td>universitario</td><td>52</td><td>si</td><td>no</td><td>celular</td><td>16</td><td>abril  </td><td>185</td><td>1</td><td>1</td><td>no</td></tr>\n",
              "\t<tr><th scope=row>3</th><td>30</td><td>administrador</td><td>casado </td><td>universitario</td><td>27</td><td>si</td><td>si</td><td>chat   </td><td> 3</td><td>junio  </td><td>199</td><td>4</td><td>0</td><td>no</td></tr>\n",
              "\t<tr><th scope=row>4</th><td>59</td><td>informal     </td><td>casado </td><td>bachillerato </td><td> 6</td><td>si</td><td>no</td><td>chat   </td><td> 5</td><td>mayo   </td><td>226</td><td>1</td><td>0</td><td>no</td></tr>\n",
              "\t<tr><th scope=row>5</th><td>35</td><td>administrador</td><td>soltero</td><td>universitario</td><td>29</td><td>no</td><td>no</td><td>celular</td><td>23</td><td>febrero</td><td>141</td><td>2</td><td>3</td><td>no</td></tr>\n",
              "</tbody>\n",
              "</table>\n"
            ]
          },
          "metadata": {
            "tags": []
          }
        }
      ]
    },
    {
      "cell_type": "code",
      "metadata": {
        "id": "NYr9KrgjHwYE",
        "colab_type": "code",
        "colab": {
          "base_uri": "https://localhost:8080/",
          "height": 176
        },
        "outputId": "e5ad1676-9333-4fe0-8f46-8ed4a987f901"
      },
      "source": [
        "tail(BaseBanco)"
      ],
      "execution_count": null,
      "outputs": [
        {
          "output_type": "display_data",
          "data": {
            "text/plain": [
              "     edad ocupación     est_civil nivel_educativo contrato_meses\n",
              "4515 32   profesor      soltero   bachillerato    69            \n",
              "4516 33   profesor      casado    bachillerato    10            \n",
              "4517 57   independiente casado    universitario   59            \n",
              "4518 57   empresario    casado    bachillerato    40            \n",
              "4519 28   informal      casado    bachillerato    59            \n",
              "4520 44   emprendedor   soltero   universitario   49            \n",
              "     Cred_hipotecario Cred_personal Medio_contacto Dia Mes     duracion_seg\n",
              "4515 si               no            celular         7  julio   624         \n",
              "4516 si               no            celular        30  julio   329         \n",
              "4517 si               si            chat            9  mayo    153         \n",
              "4518 no               no            celular        19  agosto  151         \n",
              "4519 no               no            celular         6  febrero 129         \n",
              "4520 si               si            celular         3  abril   345         \n",
              "     cont_campaña_actual campañas_previas aceptacion_TC\n",
              "4515  5                  0                no           \n",
              "4516  5                  0                no           \n",
              "4517  1                  0                no           \n",
              "4518 11                  0                no           \n",
              "4519  4                  3                no           \n",
              "4520  2                  7                no           "
            ],
            "text/latex": "A data.frame: 6 × 14\n\\begin{tabular}{r|llllllllllllll}\n  & edad & ocupación & est\\_civil & nivel\\_educativo & contrato\\_meses & Cred\\_hipotecario & Cred\\_personal & Medio\\_contacto & Dia & Mes & duracion\\_seg & cont\\_campaña\\_actual & campañas\\_previas & aceptacion\\_TC\\\\\n  & <int> & <fct> & <fct> & <fct> & <int> & <fct> & <fct> & <fct> & <int> & <fct> & <int> & <int> & <int> & <fct>\\\\\n\\hline\n\t4515 & 32 & profesor      & soltero & bachillerato  & 69 & si & no & celular &  7 & julio   & 624 &  5 & 0 & no\\\\\n\t4516 & 33 & profesor      & casado  & bachillerato  & 10 & si & no & celular & 30 & julio   & 329 &  5 & 0 & no\\\\\n\t4517 & 57 & independiente & casado  & universitario & 59 & si & si & chat    &  9 & mayo    & 153 &  1 & 0 & no\\\\\n\t4518 & 57 & empresario    & casado  & bachillerato  & 40 & no & no & celular & 19 & agosto  & 151 & 11 & 0 & no\\\\\n\t4519 & 28 & informal      & casado  & bachillerato  & 59 & no & no & celular &  6 & febrero & 129 &  4 & 3 & no\\\\\n\t4520 & 44 & emprendedor   & soltero & universitario & 49 & si & si & celular &  3 & abril   & 345 &  2 & 7 & no\\\\\n\\end{tabular}\n",
            "text/markdown": "\nA data.frame: 6 × 14\n\n| <!--/--> | edad &lt;int&gt; | ocupación &lt;fct&gt; | est_civil &lt;fct&gt; | nivel_educativo &lt;fct&gt; | contrato_meses &lt;int&gt; | Cred_hipotecario &lt;fct&gt; | Cred_personal &lt;fct&gt; | Medio_contacto &lt;fct&gt; | Dia &lt;int&gt; | Mes &lt;fct&gt; | duracion_seg &lt;int&gt; | cont_campaña_actual &lt;int&gt; | campañas_previas &lt;int&gt; | aceptacion_TC &lt;fct&gt; |\n|---|---|---|---|---|---|---|---|---|---|---|---|---|---|---|\n| 4515 | 32 | profesor      | soltero | bachillerato  | 69 | si | no | celular |  7 | julio   | 624 |  5 | 0 | no |\n| 4516 | 33 | profesor      | casado  | bachillerato  | 10 | si | no | celular | 30 | julio   | 329 |  5 | 0 | no |\n| 4517 | 57 | independiente | casado  | universitario | 59 | si | si | chat    |  9 | mayo    | 153 |  1 | 0 | no |\n| 4518 | 57 | empresario    | casado  | bachillerato  | 40 | no | no | celular | 19 | agosto  | 151 | 11 | 0 | no |\n| 4519 | 28 | informal      | casado  | bachillerato  | 59 | no | no | celular |  6 | febrero | 129 |  4 | 3 | no |\n| 4520 | 44 | emprendedor   | soltero | universitario | 49 | si | si | celular |  3 | abril   | 345 |  2 | 7 | no |\n\n",
            "text/html": [
              "<table>\n",
              "<caption>A data.frame: 6 × 14</caption>\n",
              "<thead>\n",
              "\t<tr><th></th><th scope=col>edad</th><th scope=col>ocupación</th><th scope=col>est_civil</th><th scope=col>nivel_educativo</th><th scope=col>contrato_meses</th><th scope=col>Cred_hipotecario</th><th scope=col>Cred_personal</th><th scope=col>Medio_contacto</th><th scope=col>Dia</th><th scope=col>Mes</th><th scope=col>duracion_seg</th><th scope=col>cont_campaña_actual</th><th scope=col>campañas_previas</th><th scope=col>aceptacion_TC</th></tr>\n",
              "\t<tr><th></th><th scope=col>&lt;int&gt;</th><th scope=col>&lt;fct&gt;</th><th scope=col>&lt;fct&gt;</th><th scope=col>&lt;fct&gt;</th><th scope=col>&lt;int&gt;</th><th scope=col>&lt;fct&gt;</th><th scope=col>&lt;fct&gt;</th><th scope=col>&lt;fct&gt;</th><th scope=col>&lt;int&gt;</th><th scope=col>&lt;fct&gt;</th><th scope=col>&lt;int&gt;</th><th scope=col>&lt;int&gt;</th><th scope=col>&lt;int&gt;</th><th scope=col>&lt;fct&gt;</th></tr>\n",
              "</thead>\n",
              "<tbody>\n",
              "\t<tr><th scope=row>4515</th><td>32</td><td>profesor     </td><td>soltero</td><td>bachillerato </td><td>69</td><td>si</td><td>no</td><td>celular</td><td> 7</td><td>julio  </td><td>624</td><td> 5</td><td>0</td><td>no</td></tr>\n",
              "\t<tr><th scope=row>4516</th><td>33</td><td>profesor     </td><td>casado </td><td>bachillerato </td><td>10</td><td>si</td><td>no</td><td>celular</td><td>30</td><td>julio  </td><td>329</td><td> 5</td><td>0</td><td>no</td></tr>\n",
              "\t<tr><th scope=row>4517</th><td>57</td><td>independiente</td><td>casado </td><td>universitario</td><td>59</td><td>si</td><td>si</td><td>chat   </td><td> 9</td><td>mayo   </td><td>153</td><td> 1</td><td>0</td><td>no</td></tr>\n",
              "\t<tr><th scope=row>4518</th><td>57</td><td>empresario   </td><td>casado </td><td>bachillerato </td><td>40</td><td>no</td><td>no</td><td>celular</td><td>19</td><td>agosto </td><td>151</td><td>11</td><td>0</td><td>no</td></tr>\n",
              "\t<tr><th scope=row>4519</th><td>28</td><td>informal     </td><td>casado </td><td>bachillerato </td><td>59</td><td>no</td><td>no</td><td>celular</td><td> 6</td><td>febrero</td><td>129</td><td> 4</td><td>3</td><td>no</td></tr>\n",
              "\t<tr><th scope=row>4520</th><td>44</td><td>emprendedor  </td><td>soltero</td><td>universitario</td><td>49</td><td>si</td><td>si</td><td>celular</td><td> 3</td><td>abril  </td><td>345</td><td> 2</td><td>7</td><td>no</td></tr>\n",
              "</tbody>\n",
              "</table>\n"
            ]
          },
          "metadata": {
            "tags": []
          }
        }
      ]
    },
    {
      "cell_type": "code",
      "metadata": {
        "id": "g8VIy8M-B2my",
        "colab_type": "code",
        "colab": {
          "base_uri": "https://localhost:8080/",
          "height": 33
        },
        "outputId": "6945f418-04c3-4112-d9ac-4e8673e15d25"
      },
      "source": [
        "dim(BaseBanco)"
      ],
      "execution_count": null,
      "outputs": [
        {
          "output_type": "display_data",
          "data": {
            "text/plain": [
              "[1] 4521   14"
            ],
            "text/latex": "\\begin{enumerate*}\n\\item 4521\n\\item 14\n\\end{enumerate*}\n",
            "text/markdown": "1. 4521\n2. 14\n\n\n",
            "text/html": [
              "<style>\n",
              ".list-inline {list-style: none; margin:0; padding: 0}\n",
              ".list-inline>li {display: inline-block}\n",
              ".list-inline>li:not(:last-child)::after {content: \"\\00b7\"; padding: 0 .5ex}\n",
              "</style>\n",
              "<ol class=list-inline><li>4521</li><li>14</li></ol>\n"
            ]
          },
          "metadata": {
            "tags": []
          }
        }
      ]
    },
    {
      "cell_type": "markdown",
      "metadata": {
        "id": "TMgFcRnt2eBX",
        "colab_type": "text"
      },
      "source": [
        "Nuestro dataset esta conformado de 4521 filas y 14 columnas las cuales son estan distribuidas de la siguiente manera"
      ]
    },
    {
      "cell_type": "code",
      "metadata": {
        "id": "x51qh5SyRqkc",
        "colab_type": "code",
        "colab": {
          "base_uri": "https://localhost:8080/",
          "height": 303
        },
        "outputId": "3d4b1b24-72f7-4ec2-b47f-431b9810252c"
      },
      "source": [
        "str(BaseBanco)"
      ],
      "execution_count": null,
      "outputs": [
        {
          "output_type": "stream",
          "text": [
            "'data.frame':\t4521 obs. of  14 variables:\n",
            " $ edad               : int  30 33 35 30 59 35 36 39 41 43 ...\n",
            " $ ocupación          : Factor w/ 11 levels \"administrador\",..: 4 11 1 1 9 1 8 6 5 11 ...\n",
            " $ est_civil          : Factor w/ 3 levels \"casado\",\"divorciado\",..: 1 1 3 1 1 3 1 1 1 1 ...\n",
            " $ nivel_educativo    : Factor w/ 4 levels \"bachillerato\",..: 2 1 4 4 1 4 4 1 4 2 ...\n",
            " $ contrato_meses     : int  21 37 52 27 6 29 38 42 67 62 ...\n",
            " $ Cred_hipotecario   : Factor w/ 2 levels \"no\",\"si\": 1 2 2 2 2 1 2 2 2 2 ...\n",
            " $ Cred_personal      : Factor w/ 2 levels \"no\",\"si\": 1 2 1 2 1 1 1 1 1 2 ...\n",
            " $ Medio_contacto     : Factor w/ 3 levels \"celular\",\"chat\",..: 1 1 1 2 2 1 1 1 2 1 ...\n",
            " $ Dia                : int  19 11 16 3 5 23 14 6 14 17 ...\n",
            " $ Mes                : Factor w/ 12 levels \"abril\",\"agosto\",..: 11 9 1 7 9 5 9 9 9 1 ...\n",
            " $ duracion_seg       : int  79 220 185 199 226 141 341 151 57 313 ...\n",
            " $ cont_campaña_actual: int  1 1 1 4 1 2 1 2 2 1 ...\n",
            " $ campañas_previas   : int  0 4 1 0 0 3 2 0 0 2 ...\n",
            " $ aceptacion_TC      : Factor w/ 2 levels \"no\",\"si\": 1 1 1 1 1 1 1 1 1 1 ...\n"
          ],
          "name": "stdout"
        }
      ]
    },
    {
      "cell_type": "markdown",
      "metadata": {
        "id": "L0Cd3-nI2uuw",
        "colab_type": "text"
      },
      "source": [
        "El dataset esta conformado por 14 variables las cuales 6 son cuantitativas y 8 son cualitativas.\n",
        "Las variables cualitativas estan definidas como factores y tienen las siguientes clases:"
      ]
    },
    {
      "cell_type": "code",
      "metadata": {
        "id": "wcLLe2Lc5ejU",
        "colab_type": "code",
        "colab": {
          "base_uri": "https://localhost:8080/",
          "height": 66
        },
        "outputId": "78cae567-c404-4467-8459-1cd9c0f6fb2d"
      },
      "source": [
        "#Ocupacion\n",
        "unique(BaseBanco$`ocupación`)"
      ],
      "execution_count": null,
      "outputs": [
        {
          "output_type": "display_data",
          "data": {
            "text/plain": [
              " [1] desempleado     profesor        administrador   informal       \n",
              " [5] independiente   empresario      emprendedor     estudiante     \n",
              " [9] amadiciembreasa pensionado      desconocido    \n",
              "11 Levels: administrador amadiciembreasa desconocido ... profesor"
            ],
            "text/latex": "\\begin{enumerate*}\n\\item desempleado\n\\item profesor\n\\item administrador\n\\item informal\n\\item independiente\n\\item empresario\n\\item emprendedor\n\\item estudiante\n\\item amadiciembreasa\n\\item pensionado\n\\item desconocido\n\\end{enumerate*}\n\n\\emph{Levels}: \\begin{enumerate*}\n\\item 'administrador'\n\\item 'amadiciembreasa'\n\\item 'desconocido'\n\\item 'desempleado'\n\\item 'emprendedor'\n\\item 'empresario'\n\\item 'estudiante'\n\\item 'independiente'\n\\item 'informal'\n\\item 'pensionado'\n\\item 'profesor'\n\\end{enumerate*}\n",
            "text/markdown": "1. desempleado\n2. profesor\n3. administrador\n4. informal\n5. independiente\n6. empresario\n7. emprendedor\n8. estudiante\n9. amadiciembreasa\n10. pensionado\n11. desconocido\n\n\n\n**Levels**: 1. 'administrador'\n2. 'amadiciembreasa'\n3. 'desconocido'\n4. 'desempleado'\n5. 'emprendedor'\n6. 'empresario'\n7. 'estudiante'\n8. 'independiente'\n9. 'informal'\n10. 'pensionado'\n11. 'profesor'\n\n\n",
            "text/html": [
              "<style>\n",
              ".list-inline {list-style: none; margin:0; padding: 0}\n",
              ".list-inline>li {display: inline-block}\n",
              ".list-inline>li:not(:last-child)::after {content: \"\\00b7\"; padding: 0 .5ex}\n",
              "</style>\n",
              "<ol class=list-inline><li>desempleado</li><li>profesor</li><li>administrador</li><li>informal</li><li>independiente</li><li>empresario</li><li>emprendedor</li><li>estudiante</li><li>amadiciembreasa</li><li>pensionado</li><li>desconocido</li></ol>\n",
              "\n",
              "<details>\n",
              "\t<summary style=display:list-item;cursor:pointer>\n",
              "\t\t<strong>Levels</strong>:\n",
              "\t</summary>\n",
              "\t<style>\n",
              "\t.list-inline {list-style: none; margin:0; padding: 0}\n",
              "\t.list-inline>li {display: inline-block}\n",
              "\t.list-inline>li:not(:last-child)::after {content: \"\\00b7\"; padding: 0 .5ex}\n",
              "\t</style>\n",
              "\t<ol class=list-inline><li>'administrador'</li><li>'amadiciembreasa'</li><li>'desconocido'</li><li>'desempleado'</li><li>'emprendedor'</li><li>'empresario'</li><li>'estudiante'</li><li>'independiente'</li><li>'informal'</li><li>'pensionado'</li><li>'profesor'</li></ol>\n",
              "</details>"
            ]
          },
          "metadata": {
            "tags": []
          }
        }
      ]
    },
    {
      "cell_type": "code",
      "metadata": {
        "id": "EGZOCMoa5qs1",
        "colab_type": "code",
        "colab": {
          "base_uri": "https://localhost:8080/",
          "height": 50
        },
        "outputId": "b0549295-809e-4a65-bb1a-c806669280e4"
      },
      "source": [
        "#Estado civil\n",
        "unique(BaseBanco$est_civil)"
      ],
      "execution_count": null,
      "outputs": [
        {
          "output_type": "display_data",
          "data": {
            "text/plain": [
              "[1] casado     soltero    divorciado\n",
              "Levels: casado divorciado soltero"
            ],
            "text/latex": "\\begin{enumerate*}\n\\item casado\n\\item soltero\n\\item divorciado\n\\end{enumerate*}\n\n\\emph{Levels}: \\begin{enumerate*}\n\\item 'casado'\n\\item 'divorciado'\n\\item 'soltero'\n\\end{enumerate*}\n",
            "text/markdown": "1. casado\n2. soltero\n3. divorciado\n\n\n\n**Levels**: 1. 'casado'\n2. 'divorciado'\n3. 'soltero'\n\n\n",
            "text/html": [
              "<style>\n",
              ".list-inline {list-style: none; margin:0; padding: 0}\n",
              ".list-inline>li {display: inline-block}\n",
              ".list-inline>li:not(:last-child)::after {content: \"\\00b7\"; padding: 0 .5ex}\n",
              "</style>\n",
              "<ol class=list-inline><li>casado</li><li>soltero</li><li>divorciado</li></ol>\n",
              "\n",
              "<details>\n",
              "\t<summary style=display:list-item;cursor:pointer>\n",
              "\t\t<strong>Levels</strong>:\n",
              "\t</summary>\n",
              "\t<style>\n",
              "\t.list-inline {list-style: none; margin:0; padding: 0}\n",
              "\t.list-inline>li {display: inline-block}\n",
              "\t.list-inline>li:not(:last-child)::after {content: \"\\00b7\"; padding: 0 .5ex}\n",
              "\t</style>\n",
              "\t<ol class=list-inline><li>'casado'</li><li>'divorciado'</li><li>'soltero'</li></ol>\n",
              "</details>"
            ]
          },
          "metadata": {
            "tags": []
          }
        }
      ]
    },
    {
      "cell_type": "code",
      "metadata": {
        "id": "8wu9Lx7J5qwi",
        "colab_type": "code",
        "colab": {
          "base_uri": "https://localhost:8080/",
          "height": 50
        },
        "outputId": "7e648594-022e-4e7e-9160-80917a28fa49"
      },
      "source": [
        "#Nivel educativo\n",
        "unique(BaseBanco$nivel_educativo)"
      ],
      "execution_count": null,
      "outputs": [
        {
          "output_type": "display_data",
          "data": {
            "text/plain": [
              "[1] primaria      bachillerato  universitario técnico      \n",
              "Levels: bachillerato primaria técnico universitario"
            ],
            "text/latex": "\\begin{enumerate*}\n\\item primaria\n\\item bachillerato\n\\item universitario\n\\item técnico\n\\end{enumerate*}\n\n\\emph{Levels}: \\begin{enumerate*}\n\\item 'bachillerato'\n\\item 'primaria'\n\\item 'técnico'\n\\item 'universitario'\n\\end{enumerate*}\n",
            "text/markdown": "1. primaria\n2. bachillerato\n3. universitario\n4. técnico\n\n\n\n**Levels**: 1. 'bachillerato'\n2. 'primaria'\n3. 'técnico'\n4. 'universitario'\n\n\n",
            "text/html": [
              "<style>\n",
              ".list-inline {list-style: none; margin:0; padding: 0}\n",
              ".list-inline>li {display: inline-block}\n",
              ".list-inline>li:not(:last-child)::after {content: \"\\00b7\"; padding: 0 .5ex}\n",
              "</style>\n",
              "<ol class=list-inline><li>primaria</li><li>bachillerato</li><li>universitario</li><li>técnico</li></ol>\n",
              "\n",
              "<details>\n",
              "\t<summary style=display:list-item;cursor:pointer>\n",
              "\t\t<strong>Levels</strong>:\n",
              "\t</summary>\n",
              "\t<style>\n",
              "\t.list-inline {list-style: none; margin:0; padding: 0}\n",
              "\t.list-inline>li {display: inline-block}\n",
              "\t.list-inline>li:not(:last-child)::after {content: \"\\00b7\"; padding: 0 .5ex}\n",
              "\t</style>\n",
              "\t<ol class=list-inline><li>'bachillerato'</li><li>'primaria'</li><li>'técnico'</li><li>'universitario'</li></ol>\n",
              "</details>"
            ]
          },
          "metadata": {
            "tags": []
          }
        }
      ]
    },
    {
      "cell_type": "code",
      "metadata": {
        "id": "uh1Eurw47UGr",
        "colab_type": "code",
        "colab": {
          "base_uri": "https://localhost:8080/",
          "height": 50
        },
        "outputId": "36796c38-162e-44a9-e670-13dd68d8a0b9"
      },
      "source": [
        "#Medio de contacto\n",
        "unique(BaseBanco$Medio_contacto)"
      ],
      "execution_count": null,
      "outputs": [
        {
          "output_type": "display_data",
          "data": {
            "text/plain": [
              "[1] celular  chat     telefono\n",
              "Levels: celular chat telefono"
            ],
            "text/latex": "\\begin{enumerate*}\n\\item celular\n\\item chat\n\\item telefono\n\\end{enumerate*}\n\n\\emph{Levels}: \\begin{enumerate*}\n\\item 'celular'\n\\item 'chat'\n\\item 'telefono'\n\\end{enumerate*}\n",
            "text/markdown": "1. celular\n2. chat\n3. telefono\n\n\n\n**Levels**: 1. 'celular'\n2. 'chat'\n3. 'telefono'\n\n\n",
            "text/html": [
              "<style>\n",
              ".list-inline {list-style: none; margin:0; padding: 0}\n",
              ".list-inline>li {display: inline-block}\n",
              ".list-inline>li:not(:last-child)::after {content: \"\\00b7\"; padding: 0 .5ex}\n",
              "</style>\n",
              "<ol class=list-inline><li>celular</li><li>chat</li><li>telefono</li></ol>\n",
              "\n",
              "<details>\n",
              "\t<summary style=display:list-item;cursor:pointer>\n",
              "\t\t<strong>Levels</strong>:\n",
              "\t</summary>\n",
              "\t<style>\n",
              "\t.list-inline {list-style: none; margin:0; padding: 0}\n",
              "\t.list-inline>li {display: inline-block}\n",
              "\t.list-inline>li:not(:last-child)::after {content: \"\\00b7\"; padding: 0 .5ex}\n",
              "\t</style>\n",
              "\t<ol class=list-inline><li>'celular'</li><li>'chat'</li><li>'telefono'</li></ol>\n",
              "</details>"
            ]
          },
          "metadata": {
            "tags": []
          }
        }
      ]
    },
    {
      "cell_type": "markdown",
      "metadata": {
        "id": "xJWBSid48Mja",
        "colab_type": "text"
      },
      "source": [
        "Las siguientes variables categoricas tienen salida binaria, si o no"
      ]
    },
    {
      "cell_type": "code",
      "metadata": {
        "id": "7GXdbXkZ7KTg",
        "colab_type": "code",
        "colab": {
          "base_uri": "https://localhost:8080/",
          "height": 116
        },
        "outputId": "f61dbf96-6235-4f48-c9db-ccd01549a950"
      },
      "source": [
        "#Credito hipotecario\n",
        "unique(BaseBanco$Cred_hipotecario)\n",
        "#Credito personal\n",
        "unique(BaseBanco$Cred_personal)\n",
        "#Aceptacion de la tarjeta de credito\n",
        "unique(BaseBanco$aceptacion_TC)"
      ],
      "execution_count": null,
      "outputs": [
        {
          "output_type": "display_data",
          "data": {
            "text/plain": [
              "[1] no si\n",
              "Levels: no si"
            ],
            "text/latex": "\\begin{enumerate*}\n\\item no\n\\item si\n\\end{enumerate*}\n\n\\emph{Levels}: \\begin{enumerate*}\n\\item 'no'\n\\item 'si'\n\\end{enumerate*}\n",
            "text/markdown": "1. no\n2. si\n\n\n\n**Levels**: 1. 'no'\n2. 'si'\n\n\n",
            "text/html": [
              "<style>\n",
              ".list-inline {list-style: none; margin:0; padding: 0}\n",
              ".list-inline>li {display: inline-block}\n",
              ".list-inline>li:not(:last-child)::after {content: \"\\00b7\"; padding: 0 .5ex}\n",
              "</style>\n",
              "<ol class=list-inline><li>no</li><li>si</li></ol>\n",
              "\n",
              "<details>\n",
              "\t<summary style=display:list-item;cursor:pointer>\n",
              "\t\t<strong>Levels</strong>:\n",
              "\t</summary>\n",
              "\t<style>\n",
              "\t.list-inline {list-style: none; margin:0; padding: 0}\n",
              "\t.list-inline>li {display: inline-block}\n",
              "\t.list-inline>li:not(:last-child)::after {content: \"\\00b7\"; padding: 0 .5ex}\n",
              "\t</style>\n",
              "\t<ol class=list-inline><li>'no'</li><li>'si'</li></ol>\n",
              "</details>"
            ]
          },
          "metadata": {
            "tags": []
          }
        },
        {
          "output_type": "display_data",
          "data": {
            "text/plain": [
              "[1] no si\n",
              "Levels: no si"
            ],
            "text/latex": "\\begin{enumerate*}\n\\item no\n\\item si\n\\end{enumerate*}\n\n\\emph{Levels}: \\begin{enumerate*}\n\\item 'no'\n\\item 'si'\n\\end{enumerate*}\n",
            "text/markdown": "1. no\n2. si\n\n\n\n**Levels**: 1. 'no'\n2. 'si'\n\n\n",
            "text/html": [
              "<style>\n",
              ".list-inline {list-style: none; margin:0; padding: 0}\n",
              ".list-inline>li {display: inline-block}\n",
              ".list-inline>li:not(:last-child)::after {content: \"\\00b7\"; padding: 0 .5ex}\n",
              "</style>\n",
              "<ol class=list-inline><li>no</li><li>si</li></ol>\n",
              "\n",
              "<details>\n",
              "\t<summary style=display:list-item;cursor:pointer>\n",
              "\t\t<strong>Levels</strong>:\n",
              "\t</summary>\n",
              "\t<style>\n",
              "\t.list-inline {list-style: none; margin:0; padding: 0}\n",
              "\t.list-inline>li {display: inline-block}\n",
              "\t.list-inline>li:not(:last-child)::after {content: \"\\00b7\"; padding: 0 .5ex}\n",
              "\t</style>\n",
              "\t<ol class=list-inline><li>'no'</li><li>'si'</li></ol>\n",
              "</details>"
            ]
          },
          "metadata": {
            "tags": []
          }
        },
        {
          "output_type": "display_data",
          "data": {
            "text/plain": [
              "[1] no si\n",
              "Levels: no si"
            ],
            "text/latex": "\\begin{enumerate*}\n\\item no\n\\item si\n\\end{enumerate*}\n\n\\emph{Levels}: \\begin{enumerate*}\n\\item 'no'\n\\item 'si'\n\\end{enumerate*}\n",
            "text/markdown": "1. no\n2. si\n\n\n\n**Levels**: 1. 'no'\n2. 'si'\n\n\n",
            "text/html": [
              "<style>\n",
              ".list-inline {list-style: none; margin:0; padding: 0}\n",
              ".list-inline>li {display: inline-block}\n",
              ".list-inline>li:not(:last-child)::after {content: \"\\00b7\"; padding: 0 .5ex}\n",
              "</style>\n",
              "<ol class=list-inline><li>no</li><li>si</li></ol>\n",
              "\n",
              "<details>\n",
              "\t<summary style=display:list-item;cursor:pointer>\n",
              "\t\t<strong>Levels</strong>:\n",
              "\t</summary>\n",
              "\t<style>\n",
              "\t.list-inline {list-style: none; margin:0; padding: 0}\n",
              "\t.list-inline>li {display: inline-block}\n",
              "\t.list-inline>li:not(:last-child)::after {content: \"\\00b7\"; padding: 0 .5ex}\n",
              "\t</style>\n",
              "\t<ol class=list-inline><li>'no'</li><li>'si'</li></ol>\n",
              "</details>"
            ]
          },
          "metadata": {
            "tags": []
          }
        }
      ]
    },
    {
      "cell_type": "markdown",
      "metadata": {
        "id": "hTWE3cfM8dg1",
        "colab_type": "text"
      },
      "source": [
        "A continuacion vamos a desestructurar el dataframe en variables para mayor comodidad y renombrar algunas variables que contienen simbolos como tildes, ñ y demas para seguir una misma convencion 👨‍💻👩‍💻"
      ]
    },
    {
      "cell_type": "code",
      "metadata": {
        "id": "fTvFvFcK7UfH",
        "colab_type": "code",
        "colab": {}
      },
      "source": [
        "attach(BaseBanco)"
      ],
      "execution_count": null,
      "outputs": []
    },
    {
      "cell_type": "code",
      "metadata": {
        "id": "D-FonN_U7Kb3",
        "colab_type": "code",
        "colab": {
          "base_uri": "https://localhost:8080/",
          "height": 66
        },
        "outputId": "4aeb4e57-58e2-4dc5-a72a-551532d24b45"
      },
      "source": [
        "colnames(BaseBanco)"
      ],
      "execution_count": null,
      "outputs": [
        {
          "output_type": "display_data",
          "data": {
            "text/plain": [
              " [1] \"edad\"                \"ocupación\"           \"est_civil\"          \n",
              " [4] \"nivel_educativo\"     \"contrato_meses\"      \"Cred_hipotecario\"   \n",
              " [7] \"Cred_personal\"       \"Medio_contacto\"      \"Dia\"                \n",
              "[10] \"Mes\"                 \"duracion_seg\"        \"cont_campaña_actual\"\n",
              "[13] \"campañas_previas\"    \"aceptacion_TC\"      "
            ],
            "text/latex": "\\begin{enumerate*}\n\\item 'edad'\n\\item 'ocupación'\n\\item 'est\\_civil'\n\\item 'nivel\\_educativo'\n\\item 'contrato\\_meses'\n\\item 'Cred\\_hipotecario'\n\\item 'Cred\\_personal'\n\\item 'Medio\\_contacto'\n\\item 'Dia'\n\\item 'Mes'\n\\item 'duracion\\_seg'\n\\item 'cont\\_campaña\\_actual'\n\\item 'campañas\\_previas'\n\\item 'aceptacion\\_TC'\n\\end{enumerate*}\n",
            "text/markdown": "1. 'edad'\n2. 'ocupación'\n3. 'est_civil'\n4. 'nivel_educativo'\n5. 'contrato_meses'\n6. 'Cred_hipotecario'\n7. 'Cred_personal'\n8. 'Medio_contacto'\n9. 'Dia'\n10. 'Mes'\n11. 'duracion_seg'\n12. 'cont_campaña_actual'\n13. 'campañas_previas'\n14. 'aceptacion_TC'\n\n\n",
            "text/html": [
              "<style>\n",
              ".list-inline {list-style: none; margin:0; padding: 0}\n",
              ".list-inline>li {display: inline-block}\n",
              ".list-inline>li:not(:last-child)::after {content: \"\\00b7\"; padding: 0 .5ex}\n",
              "</style>\n",
              "<ol class=list-inline><li>'edad'</li><li>'ocupación'</li><li>'est_civil'</li><li>'nivel_educativo'</li><li>'contrato_meses'</li><li>'Cred_hipotecario'</li><li>'Cred_personal'</li><li>'Medio_contacto'</li><li>'Dia'</li><li>'Mes'</li><li>'duracion_seg'</li><li>'cont_campaña_actual'</li><li>'campañas_previas'</li><li>'aceptacion_TC'</li></ol>\n"
            ]
          },
          "metadata": {
            "tags": []
          }
        }
      ]
    },
    {
      "cell_type": "code",
      "metadata": {
        "id": "lHzuGIZG7KW6",
        "colab_type": "code",
        "colab": {}
      },
      "source": [
        "ocupacion            <- `ocupación`\n",
        "cred_hipotecario     <- Cred_hipotecario\n",
        "cred_personal        <- Cred_personal\n",
        "medio_contacto       <- Medio_contacto\n",
        "dia                  <- Dia\n",
        "mes                  <- Mes\n",
        "cont_campana_actual  <- `cont_campaña_actual`\n",
        "campanas_previas     <- `campañas_previas`"
      ],
      "execution_count": null,
      "outputs": []
    },
    {
      "cell_type": "markdown",
      "metadata": {
        "id": "ID1-xWoHRrS7",
        "colab_type": "text"
      },
      "source": [
        "#Analisis datos"
      ]
    },
    {
      "cell_type": "markdown",
      "metadata": {
        "id": "15c0z3bf-FQa",
        "colab_type": "text"
      },
      "source": [
        "## Analisis variables cuantitativas"
      ]
    },
    {
      "cell_type": "markdown",
      "metadata": {
        "id": "OjT2CP7BD0DI",
        "colab_type": "text"
      },
      "source": [
        "Las variables cuantitativas son:\n",
        "\n",
        "\n",
        "1.   edad\n",
        "2.   contrato_meses\n",
        "3.   dia\n",
        "4.   duracion_seg\n",
        "5.   cont_campana_actual\n",
        "6.   campanas_previas\n",
        "\n",
        "Las variables cuantitativas a analizar individualmente son:\n",
        "\n",
        "\n",
        "1.   edad\n",
        "2.   contrato_meses\n",
        "3.   duracion_seg\n",
        "4.   cont_campana_actual\n"
      ]
    },
    {
      "cell_type": "markdown",
      "metadata": {
        "id": "Mhu0U1nXYCxs",
        "colab_type": "text"
      },
      "source": [
        "###Analisis general\n",
        "\n",
        "Haciendo el summary de nuestro dataset se puede ver que para la edad media de los clientes es de 41 años con al parecer presencia de datos atipicos.\n",
        "\n",
        "La mayoria de clientes son personas con un nivel educativo de bachillerato y universitario, son personas casadas y solteras, administradores e informales.\n",
        "\n",
        "Generalmente hacen un contrato de 36 meses (la media y la mediana estan en un valor muy cercano, se prevee que sea simetrico), la mayoria de personas no tiene un credito vigente con el banco\n",
        "\n",
        "El medio de contacto es fuertemente por celular siendo generalmente a mitad de mes (notese que la media y la mediana son muy cercanas), siendo fuertemente para casi desde mitad de año (mayo) con una duración de contacto medio de 185 segundos.\n",
        "\n",
        "El numero de campañas que se realizo tiene una media de 0.54 y el numero de campañas en las que se contacto al cliente fue de 2, para estas dos variables seria interesante un analisis con media recortada ya que las colas estan fuertementes inclinadas en ambos casos. Finalmente la proporcion de personas que aceptan la tarjeta de credito es de 0.1152\n",
        "\n"
      ]
    },
    {
      "cell_type": "code",
      "metadata": {
        "id": "UNqRv0pSYIBn",
        "colab_type": "code",
        "colab": {
          "base_uri": "https://localhost:8080/",
          "height": 585
        },
        "outputId": "03658c7f-766a-41f5-aee5-2736bf9bf3d6"
      },
      "source": [
        "summary(BaseBanco)"
      ],
      "execution_count": null,
      "outputs": [
        {
          "output_type": "display_data",
          "data": {
            "text/plain": [
              "      edad               ocupación        est_civil         nivel_educativo\n",
              " Min.   :19.00   administrador:969   casado    :2797   bachillerato :2306  \n",
              " 1st Qu.:33.00   informal     :946   divorciado: 528   primaria     : 678  \n",
              " Median :39.00   empresario   :768   soltero   :1196   técnico      : 187  \n",
              " Mean   :41.17   independiente:661                     universitario:1350  \n",
              " 3rd Qu.:49.00   profesor     :417                                         \n",
              " Max.   :87.00   pensionado   :230                                         \n",
              "                 (Other)      :530                                         \n",
              " contrato_meses  Cred_hipotecario Cred_personal  Medio_contacto      Dia       \n",
              " Min.   : 1.00   no:1962          no:3830       celular :2896   Min.   : 1.00  \n",
              " 1st Qu.:18.00   si:2559          si: 691       chat    :1324   1st Qu.: 9.00  \n",
              " Median :36.00                                  telefono: 301   Median :16.00  \n",
              " Mean   :36.27                                                  Mean   :15.92  \n",
              " 3rd Qu.:54.00                                                  3rd Qu.:21.00  \n",
              " Max.   :72.00                                                  Max.   :31.00  \n",
              "                                                                               \n",
              "        Mes        duracion_seg  cont_campaña_actual campañas_previas \n",
              " mayo     :1398   Min.   :   4   Min.   : 1.000      Min.   : 0.0000  \n",
              " julio    : 706   1st Qu.: 104   1st Qu.: 1.000      1st Qu.: 0.0000  \n",
              " agosto   : 633   Median : 185   Median : 2.000      Median : 0.0000  \n",
              " junio    : 531   Mean   : 264   Mean   : 2.794      Mean   : 0.5426  \n",
              " noviembre: 389   3rd Qu.: 329   3rd Qu.: 3.000      3rd Qu.: 0.0000  \n",
              " abril    : 293   Max.   :3025   Max.   :50.000      Max.   :25.0000  \n",
              " (Other)  : 571                                                       \n",
              " aceptacion_TC\n",
              " no:4000      \n",
              " si: 521      \n",
              "              \n",
              "              \n",
              "              \n",
              "              \n",
              "              "
            ]
          },
          "metadata": {
            "tags": []
          }
        }
      ]
    },
    {
      "cell_type": "markdown",
      "metadata": {
        "id": "pHHKRIWfYc0e",
        "colab_type": "text"
      },
      "source": [
        "###Analisis especifico (por cada variable)"
      ]
    },
    {
      "cell_type": "markdown",
      "metadata": {
        "id": "KeCy8IrfqDzE",
        "colab_type": "text"
      },
      "source": [
        "####Edad"
      ]
    },
    {
      "cell_type": "markdown",
      "metadata": {
        "id": "h8PyQAWkWOYY",
        "colab_type": "text"
      },
      "source": [
        "La media de la edad al ser sensible a datos atipicos se procede a analizar la media con media recortada recortada para reducir la inestabilidad de la media concluyendo que esta mucho mas cercano a la mediana que es una medida robusta.\n",
        "\n",
        "La moda de la edad es unica (unimodal), la edad media de los clientes es de 39-40 años\n"
      ]
    },
    {
      "cell_type": "code",
      "metadata": {
        "id": "tjqQDiHE7Khp",
        "colab_type": "code",
        "colab": {
          "base_uri": "https://localhost:8080/",
          "height": 101
        },
        "outputId": "e330a18a-d39c-4edf-9c55-5c3cb10bc1ec"
      },
      "source": [
        "#Tendencia central y posicion\n",
        "paste('Media:', mean(edad))\n",
        "paste('Mediana:', median(edad))\n",
        "paste('Moda:', mfv(edad))\n",
        "print('Quantiles:')\n",
        "quantile(edad) "
      ],
      "execution_count": null,
      "outputs": [
        {
          "output_type": "display_data",
          "data": {
            "text/plain": [
              "[1] \"Media: 41.170095111701\""
            ],
            "text/latex": "'Media: 41.170095111701'",
            "text/markdown": "'Media: 41.170095111701'",
            "text/html": [
              "'Media: 41.170095111701'"
            ]
          },
          "metadata": {
            "tags": []
          }
        },
        {
          "output_type": "display_data",
          "data": {
            "text/plain": [
              "[1] \"Mediana: 39\""
            ],
            "text/latex": "'Mediana: 39'",
            "text/markdown": "'Mediana: 39'",
            "text/html": [
              "'Mediana: 39'"
            ]
          },
          "metadata": {
            "tags": []
          }
        },
        {
          "output_type": "display_data",
          "data": {
            "text/plain": [
              "[1] \"Moda: 34\""
            ],
            "text/latex": "'Moda: 34'",
            "text/markdown": "'Moda: 34'",
            "text/html": [
              "'Moda: 34'"
            ]
          },
          "metadata": {
            "tags": []
          }
        },
        {
          "output_type": "stream",
          "text": [
            "[1] \"Quantiles:\"\n"
          ],
          "name": "stdout"
        },
        {
          "output_type": "display_data",
          "data": {
            "text/plain": [
              "  0%  25%  50%  75% 100% \n",
              "  19   33   39   49   87 "
            ],
            "text/latex": "\\begin{description*}\n\\item[0\\textbackslash{}\\%] 19\n\\item[25\\textbackslash{}\\%] 33\n\\item[50\\textbackslash{}\\%] 39\n\\item[75\\textbackslash{}\\%] 49\n\\item[100\\textbackslash{}\\%] 87\n\\end{description*}\n",
            "text/markdown": "0%\n:   1925%\n:   3350%\n:   3975%\n:   49100%\n:   87\n\n",
            "text/html": [
              "<style>\n",
              ".dl-inline {width: auto; margin:0; padding: 0}\n",
              ".dl-inline>dt, .dl-inline>dd {float: none; width: auto; display: inline-block}\n",
              ".dl-inline>dt::after {content: \":\\0020\"; padding-right: .5ex}\n",
              ".dl-inline>dt:not(:first-of-type) {padding-left: .5ex}\n",
              "</style><dl class=dl-inline><dt>0%</dt><dd>19</dd><dt>25%</dt><dd>33</dd><dt>50%</dt><dd>39</dd><dt>75%</dt><dd>49</dd><dt>100%</dt><dd>87</dd></dl>\n"
            ]
          },
          "metadata": {
            "tags": []
          }
        }
      ]
    },
    {
      "cell_type": "code",
      "metadata": {
        "id": "fOH9aiiP7KnW",
        "colab_type": "code",
        "colab": {
          "base_uri": "https://localhost:8080/",
          "height": 33
        },
        "outputId": "6aee0c8f-fd1c-4a20-971b-4dbf1fb3fccf"
      },
      "source": [
        "paste('Media con media recortada al 20%: ', mean(edad, trim=0.2))"
      ],
      "execution_count": null,
      "outputs": [
        {
          "output_type": "display_data",
          "data": {
            "text/plain": [
              "[1] \"Media con media recortada al 20%:  39.969037965352\""
            ],
            "text/latex": "'Media con media recortada al 20\\%:  39.969037965352'",
            "text/markdown": "<span style=white-space:pre-wrap>'Media con media recortada al 20%:  39.969037965352'</span>",
            "text/html": [
              "<span style=white-space:pre-wrap>'Media con media recortada al 20%:  39.969037965352'</span>"
            ]
          },
          "metadata": {
            "tags": []
          }
        }
      ]
    },
    {
      "cell_type": "markdown",
      "metadata": {
        "id": "2QM3xFOCjbM8",
        "colab_type": "text"
      },
      "source": [
        "Podemos ver que la edad va desde los 19 años hasta los 87 años, con un rango intercuantilico de 16 años"
      ]
    },
    {
      "cell_type": "code",
      "metadata": {
        "id": "y2-1MzbPiwM2",
        "colab_type": "code",
        "colab": {
          "base_uri": "https://localhost:8080/",
          "height": 66
        },
        "outputId": "2662288e-fd7d-4f42-d47d-c8e2474602ab"
      },
      "source": [
        "#Dispersion:\n",
        "paste('Rango de la edad', range(edad))\n",
        "paste('Rango intercuartilico de la edad', IQR(edad))\n",
        "paste('Varianza de la edad', var(edad))"
      ],
      "execution_count": null,
      "outputs": [
        {
          "output_type": "display_data",
          "data": {
            "text/plain": [
              "[1] \"Rango de la edad 19\" \"Rango de la edad 87\""
            ],
            "text/latex": "\\begin{enumerate*}\n\\item 'Rango de la edad 19'\n\\item 'Rango de la edad 87'\n\\end{enumerate*}\n",
            "text/markdown": "1. 'Rango de la edad 19'\n2. 'Rango de la edad 87'\n\n\n",
            "text/html": [
              "<style>\n",
              ".list-inline {list-style: none; margin:0; padding: 0}\n",
              ".list-inline>li {display: inline-block}\n",
              ".list-inline>li:not(:last-child)::after {content: \"\\00b7\"; padding: 0 .5ex}\n",
              "</style>\n",
              "<ol class=list-inline><li>'Rango de la edad 19'</li><li>'Rango de la edad 87'</li></ol>\n"
            ]
          },
          "metadata": {
            "tags": []
          }
        },
        {
          "output_type": "display_data",
          "data": {
            "text/plain": [
              "[1] \"Rango intercuartilico de la edad 16\""
            ],
            "text/latex": "'Rango intercuartilico de la edad 16'",
            "text/markdown": "'Rango intercuartilico de la edad 16'",
            "text/html": [
              "'Rango intercuartilico de la edad 16'"
            ]
          },
          "metadata": {
            "tags": []
          }
        },
        {
          "output_type": "display_data",
          "data": {
            "text/plain": [
              "[1] \"Varianza de la edad 111.856238243164\""
            ],
            "text/latex": "'Varianza de la edad 111.856238243164'",
            "text/markdown": "'Varianza de la edad 111.856238243164'",
            "text/html": [
              "'Varianza de la edad 111.856238243164'"
            ]
          },
          "metadata": {
            "tags": []
          }
        }
      ]
    },
    {
      "cell_type": "code",
      "metadata": {
        "id": "Hcipp63N7Kym",
        "colab_type": "code",
        "colab": {
          "base_uri": "https://localhost:8080/",
          "height": 33
        },
        "outputId": "f7414174-d594-401a-f2ba-8a334423296a"
      },
      "source": [
        "paste('La edad de los clientes estan desviados de la media un: ', sd(edad), 'de la muestra')"
      ],
      "execution_count": null,
      "outputs": [
        {
          "output_type": "display_data",
          "data": {
            "text/plain": [
              "[1] \"La edad de los clientes estan desviados de la media un:  10.5762109587113 de la muestra\""
            ],
            "text/latex": "'La edad de los clientes estan desviados de la media un:  10.5762109587113 de la muestra'",
            "text/markdown": "<span style=white-space:pre-wrap>'La edad de los clientes estan desviados de la media un:  10.5762109587113 de la muestra'</span>",
            "text/html": [
              "<span style=white-space:pre-wrap>'La edad de los clientes estan desviados de la media un:  10.5762109587113 de la muestra'</span>"
            ]
          },
          "metadata": {
            "tags": []
          }
        }
      ]
    },
    {
      "cell_type": "code",
      "metadata": {
        "id": "LZGhNzYG7Kwj",
        "colab_type": "code",
        "colab": {
          "base_uri": "https://localhost:8080/",
          "height": 66
        },
        "outputId": "9d74c1a0-f3b1-4681-82c8-715a35d3dc24"
      },
      "source": [
        "limiteSup<-mean(edad)+sd(edad)\n",
        "limiteInf<-mean(edad)-sd(edad)\n",
        "paste('La edad de los clientes que estan a una desviacion estandar de la media son:')\n",
        "paste('X-s: ', limiteInf)\n",
        "paste('X+s: ', limiteSup)"
      ],
      "execution_count": null,
      "outputs": [
        {
          "output_type": "display_data",
          "data": {
            "text/plain": [
              "[1] \"La edad de los clientes que estan a una desviacion estandar de la media son:\""
            ],
            "text/latex": "'La edad de los clientes que estan a una desviacion estandar de la media son:'",
            "text/markdown": "'La edad de los clientes que estan a una desviacion estandar de la media son:'",
            "text/html": [
              "'La edad de los clientes que estan a una desviacion estandar de la media son:'"
            ]
          },
          "metadata": {
            "tags": []
          }
        },
        {
          "output_type": "display_data",
          "data": {
            "text/plain": [
              "[1] \"X-s:  30.5938841529897\""
            ],
            "text/latex": "'X-s:  30.5938841529897'",
            "text/markdown": "<span style=white-space:pre-wrap>'X-s:  30.5938841529897'</span>",
            "text/html": [
              "<span style=white-space:pre-wrap>'X-s:  30.5938841529897'</span>"
            ]
          },
          "metadata": {
            "tags": []
          }
        },
        {
          "output_type": "display_data",
          "data": {
            "text/plain": [
              "[1] \"X+s:  51.7463060704122\""
            ],
            "text/latex": "'X+s:  51.7463060704122'",
            "text/markdown": "<span style=white-space:pre-wrap>'X+s:  51.7463060704122'</span>",
            "text/html": [
              "<span style=white-space:pre-wrap>'X+s:  51.7463060704122'</span>"
            ]
          },
          "metadata": {
            "tags": []
          }
        }
      ]
    },
    {
      "cell_type": "code",
      "metadata": {
        "id": "b-6Rfy4J7Kqa",
        "colab_type": "code",
        "colab": {
          "base_uri": "https://localhost:8080/",
          "height": 33
        },
        "outputId": "8feca056-c20c-492c-e25f-6fffe2f55f04"
      },
      "source": [
        "numClientesEdad<-sum(edad>limiteInf & edad<limiteSup)\n",
        "paste('La cantidad de clientes que esta a una desviacion estandar son de:',\n",
        "      numClientesEdad)"
      ],
      "execution_count": null,
      "outputs": [
        {
          "output_type": "display_data",
          "data": {
            "text/plain": [
              "[1] \"La cantidad de clientes que esta a una desviacion estandar son de: 3053\""
            ],
            "text/latex": "'La cantidad de clientes que esta a una desviacion estandar son de: 3053'",
            "text/markdown": "'La cantidad de clientes que esta a una desviacion estandar son de: 3053'",
            "text/html": [
              "'La cantidad de clientes que esta a una desviacion estandar son de: 3053'"
            ]
          },
          "metadata": {
            "tags": []
          }
        }
      ]
    },
    {
      "cell_type": "markdown",
      "metadata": {
        "id": "JNm1_I76me8P",
        "colab_type": "text"
      },
      "source": [
        "El coeficiente de variacion al ser un valor bajo significa que no hay mucha dispersion respecto la media"
      ]
    },
    {
      "cell_type": "code",
      "metadata": {
        "id": "BjrhYaQ07KlY",
        "colab_type": "code",
        "colab": {
          "base_uri": "https://localhost:8080/",
          "height": 33
        },
        "outputId": "24c070f1-60aa-4d19-9103-1a33641d09ef"
      },
      "source": [
        "cv <- sd(edad)/mean(edad)*100\n",
        "paste('El coeficiente de variacion es de: ', cv)"
      ],
      "execution_count": null,
      "outputs": [
        {
          "output_type": "display_data",
          "data": {
            "text/plain": [
              "[1] \"El coeficiente de variacion es de:  25.6890612713338\""
            ],
            "text/latex": "'El coeficiente de variacion es de:  25.6890612713338'",
            "text/markdown": "<span style=white-space:pre-wrap>'El coeficiente de variacion es de:  25.6890612713338'</span>",
            "text/html": [
              "<span style=white-space:pre-wrap>'El coeficiente de variacion es de:  25.6890612713338'</span>"
            ]
          },
          "metadata": {
            "tags": []
          }
        }
      ]
    },
    {
      "cell_type": "markdown",
      "metadata": {
        "id": "m_xiLHyGnrvT",
        "colab_type": "text"
      },
      "source": [
        "La simetria al ser positiva cercana a cero significa que la cola esta levemente distribuida a la derecha\n",
        "Por curtosis se sabe que la curva es mesocurtica tiende a cero"
      ]
    },
    {
      "cell_type": "code",
      "metadata": {
        "id": "hYIoq2Hn7KfY",
        "colab_type": "code",
        "colab": {
          "base_uri": "https://localhost:8080/",
          "height": 50
        },
        "outputId": "2e75afa2-0dd6-45d3-890f-4aca8e5be765"
      },
      "source": [
        "paste('Asimetria de la edad: ', skew(edad))\n",
        "paste('Curtosis de la edad: ', kurtosi(edad))"
      ],
      "execution_count": null,
      "outputs": [
        {
          "output_type": "display_data",
          "data": {
            "text/plain": [
              "[1] \"Asimetria de la edad:  0.699037353618127\""
            ],
            "text/latex": "'Asimetria de la edad:  0.699037353618127'",
            "text/markdown": "<span style=white-space:pre-wrap>'Asimetria de la edad:  0.699037353618127'</span>",
            "text/html": [
              "<span style=white-space:pre-wrap>'Asimetria de la edad:  0.699037353618127'</span>"
            ]
          },
          "metadata": {
            "tags": []
          }
        },
        {
          "output_type": "display_data",
          "data": {
            "text/plain": [
              "[1] \"Curtosis de la edad:  0.345582521903384\""
            ],
            "text/latex": "'Curtosis de la edad:  0.345582521903384'",
            "text/markdown": "<span style=white-space:pre-wrap>'Curtosis de la edad:  0.345582521903384'</span>",
            "text/html": [
              "<span style=white-space:pre-wrap>'Curtosis de la edad:  0.345582521903384'</span>"
            ]
          },
          "metadata": {
            "tags": []
          }
        }
      ]
    },
    {
      "cell_type": "code",
      "metadata": {
        "id": "obKebW4R7KZs",
        "colab_type": "code",
        "colab": {
          "base_uri": "https://localhost:8080/",
          "height": 436
        },
        "outputId": "f9bb915e-1718-4bbc-f194-f2997dc14d89"
      },
      "source": [
        "hist(edad, freq = F, main = \"Histograma edad de los clientes\", xlab = \"edad\", ylab=\"Frecuencia relativa\")\n",
        "curve(dnorm(x,mean=mean(edad),sd=sd(edad)), col=\"darkred\",lwd=2, add=TRUE)"
      ],
      "execution_count": null,
      "outputs": [
        {
          "output_type": "display_data",
          "data": {
            "image/png": "[encoded data removed]",
            "text/plain": [
              "Plot with title “Histograma edad de los clientes”"
            ]
          },
          "metadata": {
            "tags": [],
            "image/png": {
              "width": 420,
              "height": 420
            },
            "text/plain": {
              "width": 420,
              "height": 420
            }
          }
        }
      ]
    },
    {
      "cell_type": "markdown",
      "metadata": {
        "id": "CAzwwUQht6u7",
        "colab_type": "text"
      },
      "source": [
        "####Contrato por meses\n",
        "\n",
        "El contrato a meses es la duracion del actual o ultimo contrato de trabajo del cliente.\n",
        "\n",
        "La media y la mediana estan muy cercanas.\n",
        "El contrato por meses sigue una moda del tipo unimodal"
      ]
    },
    {
      "cell_type": "code",
      "metadata": {
        "id": "powTxcWwRsoW",
        "colab_type": "code",
        "colab": {
          "base_uri": "https://localhost:8080/",
          "height": 101
        },
        "outputId": "1f65c3d9-1651-4aae-af43-7ae3f2a404df"
      },
      "source": [
        "#Tendencia central y posicion\n",
        "paste('Media:', mean(contrato_meses))\n",
        "paste('Mediana:', median(contrato_meses))\n",
        "paste('Moda:', mfv(contrato_meses))\n",
        "print('Quantiles:')\n",
        "quantile(contrato_meses) "
      ],
      "execution_count": null,
      "outputs": [
        {
          "output_type": "display_data",
          "data": {
            "text/plain": [
              "[1] \"Media: 36.2720637027206\""
            ],
            "text/latex": "'Media: 36.2720637027206'",
            "text/markdown": "'Media: 36.2720637027206'",
            "text/html": [
              "'Media: 36.2720637027206'"
            ]
          },
          "metadata": {
            "tags": []
          }
        },
        {
          "output_type": "display_data",
          "data": {
            "text/plain": [
              "[1] \"Mediana: 36\""
            ],
            "text/latex": "'Mediana: 36'",
            "text/markdown": "'Mediana: 36'",
            "text/html": [
              "'Mediana: 36'"
            ]
          },
          "metadata": {
            "tags": []
          }
        },
        {
          "output_type": "display_data",
          "data": {
            "text/plain": [
              "[1] \"Moda: 52\""
            ],
            "text/latex": "'Moda: 52'",
            "text/markdown": "'Moda: 52'",
            "text/html": [
              "'Moda: 52'"
            ]
          },
          "metadata": {
            "tags": []
          }
        },
        {
          "output_type": "stream",
          "text": [
            "[1] \"Quantiles:\"\n"
          ],
          "name": "stdout"
        },
        {
          "output_type": "display_data",
          "data": {
            "text/plain": [
              "  0%  25%  50%  75% 100% \n",
              "   1   18   36   54   72 "
            ],
            "text/latex": "\\begin{description*}\n\\item[0\\textbackslash{}\\%] 1\n\\item[25\\textbackslash{}\\%] 18\n\\item[50\\textbackslash{}\\%] 36\n\\item[75\\textbackslash{}\\%] 54\n\\item[100\\textbackslash{}\\%] 72\n\\end{description*}\n",
            "text/markdown": "0%\n:   125%\n:   1850%\n:   3675%\n:   54100%\n:   72\n\n",
            "text/html": [
              "<style>\n",
              ".dl-inline {width: auto; margin:0; padding: 0}\n",
              ".dl-inline>dt, .dl-inline>dd {float: none; width: auto; display: inline-block}\n",
              ".dl-inline>dt::after {content: \":\\0020\"; padding-right: .5ex}\n",
              ".dl-inline>dt:not(:first-of-type) {padding-left: .5ex}\n",
              "</style><dl class=dl-inline><dt>0%</dt><dd>1</dd><dt>25%</dt><dd>18</dd><dt>50%</dt><dd>36</dd><dt>75%</dt><dd>54</dd><dt>100%</dt><dd>72</dd></dl>\n"
            ]
          },
          "metadata": {
            "tags": []
          }
        }
      ]
    },
    {
      "cell_type": "markdown",
      "metadata": {
        "id": "c3OLQNRfvbFN",
        "colab_type": "text"
      },
      "source": [
        "El contrato por meses va desde 1 hasta 72 meses con un rango intercuantilico de 36"
      ]
    },
    {
      "cell_type": "code",
      "metadata": {
        "id": "rBAyFVlNuYk_",
        "colab_type": "code",
        "colab": {
          "base_uri": "https://localhost:8080/",
          "height": 66
        },
        "outputId": "75ac2582-15b8-4455-a686-049b6e3aebf5"
      },
      "source": [
        "#Dispersion:\n",
        "paste('Rango de la contrato_meses', range(contrato_meses))\n",
        "paste('Rango intercuartilico de la contrato_meses', IQR(contrato_meses))\n",
        "paste('Varianza de la contrato_meses', var(contrato_meses))"
      ],
      "execution_count": null,
      "outputs": [
        {
          "output_type": "display_data",
          "data": {
            "text/plain": [
              "[1] \"Rango de la contrato_meses 1\"  \"Rango de la contrato_meses 72\""
            ],
            "text/latex": "\\begin{enumerate*}\n\\item 'Rango de la contrato\\_meses 1'\n\\item 'Rango de la contrato\\_meses 72'\n\\end{enumerate*}\n",
            "text/markdown": "1. 'Rango de la contrato_meses 1'\n2. 'Rango de la contrato_meses 72'\n\n\n",
            "text/html": [
              "<style>\n",
              ".list-inline {list-style: none; margin:0; padding: 0}\n",
              ".list-inline>li {display: inline-block}\n",
              ".list-inline>li:not(:last-child)::after {content: \"\\00b7\"; padding: 0 .5ex}\n",
              "</style>\n",
              "<ol class=list-inline><li>'Rango de la contrato_meses 1'</li><li>'Rango de la contrato_meses 72'</li></ol>\n"
            ]
          },
          "metadata": {
            "tags": []
          }
        },
        {
          "output_type": "display_data",
          "data": {
            "text/plain": [
              "[1] \"Rango intercuartilico de la contrato_meses 36\""
            ],
            "text/latex": "'Rango intercuartilico de la contrato\\_meses 36'",
            "text/markdown": "'Rango intercuartilico de la contrato_meses 36'",
            "text/html": [
              "'Rango intercuartilico de la contrato_meses 36'"
            ]
          },
          "metadata": {
            "tags": []
          }
        },
        {
          "output_type": "display_data",
          "data": {
            "text/plain": [
              "[1] \"Varianza de la contrato_meses 429.754283549923\""
            ],
            "text/latex": "'Varianza de la contrato\\_meses 429.754283549923'",
            "text/markdown": "'Varianza de la contrato_meses 429.754283549923'",
            "text/html": [
              "'Varianza de la contrato_meses 429.754283549923'"
            ]
          },
          "metadata": {
            "tags": []
          }
        }
      ]
    },
    {
      "cell_type": "code",
      "metadata": {
        "id": "zvfAkvgrvY9_",
        "colab_type": "code",
        "colab": {
          "base_uri": "https://localhost:8080/",
          "height": 50
        },
        "outputId": "0b20330c-414f-4e08-ee9f-5dceeb961cc9"
      },
      "source": [
        "paste('El contrato por meses de los clientes estan desviados de la media un: ', \n",
        "      sd(contrato_meses), 'de la muestra')"
      ],
      "execution_count": null,
      "outputs": [
        {
          "output_type": "display_data",
          "data": {
            "text/plain": [
              "[1] \"El contrato por meses de los clientes estan desviados de la media un:  20.7305157569686 de la muestra\""
            ],
            "text/latex": "'El contrato por meses de los clientes estan desviados de la media un:  20.7305157569686 de la muestra'",
            "text/markdown": "<span style=white-space:pre-wrap>'El contrato por meses de los clientes estan desviados de la media un:  20.7305157569686 de la muestra'</span>",
            "text/html": [
              "<span style=white-space:pre-wrap>'El contrato por meses de los clientes estan desviados de la media un:  20.7305157569686 de la muestra'</span>"
            ]
          },
          "metadata": {
            "tags": []
          }
        }
      ]
    },
    {
      "cell_type": "code",
      "metadata": {
        "id": "ZjaPyr3hvoL3",
        "colab_type": "code",
        "colab": {
          "base_uri": "https://localhost:8080/",
          "height": 66
        },
        "outputId": "24311fb1-95dd-4dc6-c5b4-a2cf0ff583ba"
      },
      "source": [
        "limiteSup<-mean(contrato_meses)+sd(contrato_meses)\n",
        "limiteInf<-mean(contrato_meses)-sd(contrato_meses)\n",
        "paste('El contrato por meses de los clientes que estan a una desviacion estandar de la media son:')\n",
        "paste('X-s: ', limiteInf)\n",
        "paste('X+s: ', limiteSup)"
      ],
      "execution_count": null,
      "outputs": [
        {
          "output_type": "display_data",
          "data": {
            "text/plain": [
              "[1] \"El contrato por meses de los clientes que estan a una desviacion estandar de la media son:\""
            ],
            "text/latex": "'El contrato por meses de los clientes que estan a una desviacion estandar de la media son:'",
            "text/markdown": "'El contrato por meses de los clientes que estan a una desviacion estandar de la media son:'",
            "text/html": [
              "'El contrato por meses de los clientes que estan a una desviacion estandar de la media son:'"
            ]
          },
          "metadata": {
            "tags": []
          }
        },
        {
          "output_type": "display_data",
          "data": {
            "text/plain": [
              "[1] \"X-s:  15.541547945752\""
            ],
            "text/latex": "'X-s:  15.541547945752'",
            "text/markdown": "<span style=white-space:pre-wrap>'X-s:  15.541547945752'</span>",
            "text/html": [
              "<span style=white-space:pre-wrap>'X-s:  15.541547945752'</span>"
            ]
          },
          "metadata": {
            "tags": []
          }
        },
        {
          "output_type": "display_data",
          "data": {
            "text/plain": [
              "[1] \"X+s:  57.0025794596892\""
            ],
            "text/latex": "'X+s:  57.0025794596892'",
            "text/markdown": "<span style=white-space:pre-wrap>'X+s:  57.0025794596892'</span>",
            "text/html": [
              "<span style=white-space:pre-wrap>'X+s:  57.0025794596892'</span>"
            ]
          },
          "metadata": {
            "tags": []
          }
        }
      ]
    },
    {
      "cell_type": "markdown",
      "metadata": {
        "id": "rlUN57WVwEoM",
        "colab_type": "text"
      },
      "source": [
        "El coeficiende de variacion al ser un valor alto significa que hay dspersion de los datos respecto la media"
      ]
    },
    {
      "cell_type": "code",
      "metadata": {
        "id": "ijWRJkPrv5Aa",
        "colab_type": "code",
        "colab": {
          "base_uri": "https://localhost:8080/",
          "height": 33
        },
        "outputId": "de3dee12-3171-4ffb-c213-f14def1d3149"
      },
      "source": [
        "cv <- sd(contrato_meses)/mean(contrato_meses)*100\n",
        "paste('El coeficiente de variacion es de: ', cv)"
      ],
      "execution_count": null,
      "outputs": [
        {
          "output_type": "display_data",
          "data": {
            "text/plain": [
              "[1] \"El coeficiente de variacion es de:  57.1528433751997\""
            ],
            "text/latex": "'El coeficiente de variacion es de:  57.1528433751997'",
            "text/markdown": "<span style=white-space:pre-wrap>'El coeficiente de variacion es de:  57.1528433751997'</span>",
            "text/html": [
              "<span style=white-space:pre-wrap>'El coeficiente de variacion es de:  57.1528433751997'</span>"
            ]
          },
          "metadata": {
            "tags": []
          }
        }
      ]
    },
    {
      "cell_type": "markdown",
      "metadata": {
        "id": "N8WmrjnUwdM9",
        "colab_type": "text"
      },
      "source": [
        "La asimetria por ser cercana a cero significa que esta levemente inclinada a la derecha y la curtosis es negativa por ende es platicurtica"
      ]
    },
    {
      "cell_type": "code",
      "metadata": {
        "id": "-T203rCXwTtz",
        "colab_type": "code",
        "colab": {
          "base_uri": "https://localhost:8080/",
          "height": 50
        },
        "outputId": "1d82e959-a8b0-48cb-f6e6-9cda24f512be"
      },
      "source": [
        "paste('Asimetria: ', skew(contrato_meses))\n",
        "paste('Curtosis: ', kurtosi(contrato_meses))"
      ],
      "execution_count": null,
      "outputs": [
        {
          "output_type": "display_data",
          "data": {
            "text/plain": [
              "[1] \"Asimetria:  0.012156707701867\""
            ],
            "text/latex": "'Asimetria:  0.012156707701867'",
            "text/markdown": "<span style=white-space:pre-wrap>'Asimetria:  0.012156707701867'</span>",
            "text/html": [
              "<span style=white-space:pre-wrap>'Asimetria:  0.012156707701867'</span>"
            ]
          },
          "metadata": {
            "tags": []
          }
        },
        {
          "output_type": "display_data",
          "data": {
            "text/plain": [
              "[1] \"Curtosis:  -1.21561298993624\""
            ],
            "text/latex": "'Curtosis:  -1.21561298993624'",
            "text/markdown": "<span style=white-space:pre-wrap>'Curtosis:  -1.21561298993624'</span>",
            "text/html": [
              "<span style=white-space:pre-wrap>'Curtosis:  -1.21561298993624'</span>"
            ]
          },
          "metadata": {
            "tags": []
          }
        }
      ]
    },
    {
      "cell_type": "code",
      "metadata": {
        "id": "XyWr8pyMwpGo",
        "colab_type": "code",
        "colab": {
          "base_uri": "https://localhost:8080/",
          "height": 436
        },
        "outputId": "80e77a25-29b4-4f04-c313-4f261f2ef018"
      },
      "source": [
        "hist(contrato_meses, freq = F, main = \"Histograma contrato por meses de los clientes\", xlab = \"contrato_meses\", ylab=\"Frecuencia relativa\", xlim=range(-10, 90), ylim=range(0, 0.02) )\n",
        "curve(dnorm(x,mean=mean(contrato_meses),sd=sd(contrato_meses)), col=\"darkred\",lwd=2, add=TRUE)"
      ],
      "execution_count": null,
      "outputs": [
        {
          "output_type": "display_data",
          "data": {
            "image/png": "[encoded data removed]",
            "text/plain": [
              "Plot with title “Histograma contrato por meses de los clientes”"
            ]
          },
          "metadata": {
            "tags": [],
            "image/png": {
              "width": 420,
              "height": 420
            },
            "text/plain": {
              "width": 420,
              "height": 420
            }
          }
        }
      ]
    },
    {
      "cell_type": "markdown",
      "metadata": {
        "id": "8phzOf6bywqf",
        "colab_type": "text"
      },
      "source": [
        "####Duracion segundos contacto cliente"
      ]
    },
    {
      "cell_type": "markdown",
      "metadata": {
        "id": "EFIpr_Cv00sZ",
        "colab_type": "text"
      },
      "source": [
        "La duracion en segundos del ultimo contacto con el cliente tiene una media y mediana alejada por presencia de datos atipicos, por ello vamos a tomar la media recortada al 20% para evitar los posibles datos atipicos, como se ve en el rango intercuantilico pasamos de tener 329  en el 75% a tener 3025 en el 100%. La media recortada ahora esta mas cercana a la mediana"
      ]
    },
    {
      "cell_type": "code",
      "metadata": {
        "id": "svgOixfTw7Dv",
        "colab_type": "code",
        "colab": {
          "base_uri": "https://localhost:8080/",
          "height": 101
        },
        "outputId": "78cff834-5a01-4c16-d545-6c5f828b697e"
      },
      "source": [
        "#Tendencia central y posicion\n",
        "paste('Media:', mean(duracion_seg))\n",
        "paste('Mediana:', median(duracion_seg))\n",
        "paste('Moda:', mfv(duracion_seg))\n",
        "print('Quantiles:')\n",
        "quantile(duracion_seg) "
      ],
      "execution_count": null,
      "outputs": [
        {
          "output_type": "display_data",
          "data": {
            "text/plain": [
              "[1] \"Media: 263.961291749613\""
            ],
            "text/latex": "'Media: 263.961291749613'",
            "text/markdown": "'Media: 263.961291749613'",
            "text/html": [
              "'Media: 263.961291749613'"
            ]
          },
          "metadata": {
            "tags": []
          }
        },
        {
          "output_type": "display_data",
          "data": {
            "text/plain": [
              "[1] \"Mediana: 185\""
            ],
            "text/latex": "'Mediana: 185'",
            "text/markdown": "'Mediana: 185'",
            "text/html": [
              "'Mediana: 185'"
            ]
          },
          "metadata": {
            "tags": []
          }
        },
        {
          "output_type": "display_data",
          "data": {
            "text/plain": [
              "[1] \"Moda: 123\""
            ],
            "text/latex": "'Moda: 123'",
            "text/markdown": "'Moda: 123'",
            "text/html": [
              "'Moda: 123'"
            ]
          },
          "metadata": {
            "tags": []
          }
        },
        {
          "output_type": "stream",
          "text": [
            "[1] \"Quantiles:\"\n"
          ],
          "name": "stdout"
        },
        {
          "output_type": "display_data",
          "data": {
            "text/plain": [
              "  0%  25%  50%  75% 100% \n",
              "   4  104  185  329 3025 "
            ],
            "text/latex": "\\begin{description*}\n\\item[0\\textbackslash{}\\%] 4\n\\item[25\\textbackslash{}\\%] 104\n\\item[50\\textbackslash{}\\%] 185\n\\item[75\\textbackslash{}\\%] 329\n\\item[100\\textbackslash{}\\%] 3025\n\\end{description*}\n",
            "text/markdown": "0%\n:   425%\n:   10450%\n:   18575%\n:   329100%\n:   3025\n\n",
            "text/html": [
              "<style>\n",
              ".dl-inline {width: auto; margin:0; padding: 0}\n",
              ".dl-inline>dt, .dl-inline>dd {float: none; width: auto; display: inline-block}\n",
              ".dl-inline>dt::after {content: \":\\0020\"; padding-right: .5ex}\n",
              ".dl-inline>dt:not(:first-of-type) {padding-left: .5ex}\n",
              "</style><dl class=dl-inline><dt>0%</dt><dd>4</dd><dt>25%</dt><dd>104</dd><dt>50%</dt><dd>185</dd><dt>75%</dt><dd>329</dd><dt>100%</dt><dd>3025</dd></dl>\n"
            ]
          },
          "metadata": {
            "tags": []
          }
        }
      ]
    },
    {
      "cell_type": "code",
      "metadata": {
        "id": "wFrAM9fZywbs",
        "colab_type": "code",
        "colab": {
          "base_uri": "https://localhost:8080/",
          "height": 33
        },
        "outputId": "199929ae-6753-454a-f552-e2dae4d89390"
      },
      "source": [
        "paste('Media con media recortada al 20%: ', mean(duracion_seg, trim=0.2))"
      ],
      "execution_count": null,
      "outputs": [
        {
          "output_type": "display_data",
          "data": {
            "text/plain": [
              "[1] \"Media con media recortada al 20%:  198.719498709915\""
            ],
            "text/latex": "'Media con media recortada al 20\\%:  198.719498709915'",
            "text/markdown": "<span style=white-space:pre-wrap>'Media con media recortada al 20%:  198.719498709915'</span>",
            "text/html": [
              "<span style=white-space:pre-wrap>'Media con media recortada al 20%:  198.719498709915'</span>"
            ]
          },
          "metadata": {
            "tags": []
          }
        }
      ]
    },
    {
      "cell_type": "markdown",
      "metadata": {
        "id": "a-RqvmM-16cm",
        "colab_type": "text"
      },
      "source": [
        "En el anterior punto se analizo la presencia de grandes datos atipicos, en el rango intercuantilico va desde 3 hasta 3025"
      ]
    },
    {
      "cell_type": "code",
      "metadata": {
        "id": "s4UzXIjT1QwJ",
        "colab_type": "code",
        "colab": {
          "base_uri": "https://localhost:8080/",
          "height": 66
        },
        "outputId": "08409133-9e1b-40c4-d7b3-e2dc662206db"
      },
      "source": [
        "#Dispersion:\n",
        "paste('Rango de la duracion_seg', range(duracion_seg))\n",
        "paste('Rango intercuartilico de la duracion_seg', IQR(duracion_seg))\n",
        "paste('Varianza de la duracion_seg', var(duracion_seg))"
      ],
      "execution_count": null,
      "outputs": [
        {
          "output_type": "display_data",
          "data": {
            "text/plain": [
              "[1] \"Rango de la duracion_seg 4\"    \"Rango de la duracion_seg 3025\""
            ],
            "text/latex": "\\begin{enumerate*}\n\\item 'Rango de la duracion\\_seg 4'\n\\item 'Rango de la duracion\\_seg 3025'\n\\end{enumerate*}\n",
            "text/markdown": "1. 'Rango de la duracion_seg 4'\n2. 'Rango de la duracion_seg 3025'\n\n\n",
            "text/html": [
              "<style>\n",
              ".list-inline {list-style: none; margin:0; padding: 0}\n",
              ".list-inline>li {display: inline-block}\n",
              ".list-inline>li:not(:last-child)::after {content: \"\\00b7\"; padding: 0 .5ex}\n",
              "</style>\n",
              "<ol class=list-inline><li>'Rango de la duracion_seg 4'</li><li>'Rango de la duracion_seg 3025'</li></ol>\n"
            ]
          },
          "metadata": {
            "tags": []
          }
        },
        {
          "output_type": "display_data",
          "data": {
            "text/plain": [
              "[1] \"Rango intercuartilico de la duracion_seg 225\""
            ],
            "text/latex": "'Rango intercuartilico de la duracion\\_seg 225'",
            "text/markdown": "'Rango intercuartilico de la duracion_seg 225'",
            "text/html": [
              "'Rango intercuartilico de la duracion_seg 225'"
            ]
          },
          "metadata": {
            "tags": []
          }
        },
        {
          "output_type": "display_data",
          "data": {
            "text/plain": [
              "[1] \"Varianza de la duracion_seg 67525.469519039\""
            ],
            "text/latex": "'Varianza de la duracion\\_seg 67525.469519039'",
            "text/markdown": "'Varianza de la duracion_seg 67525.469519039'",
            "text/html": [
              "'Varianza de la duracion_seg 67525.469519039'"
            ]
          },
          "metadata": {
            "tags": []
          }
        }
      ]
    },
    {
      "cell_type": "code",
      "metadata": {
        "id": "kk_SnHH413gO",
        "colab_type": "code",
        "colab": {
          "base_uri": "https://localhost:8080/",
          "height": 50
        },
        "outputId": "94553768-4612-47c5-f31a-7456e2272f84"
      },
      "source": [
        "paste('El ultimo contacto con los clientes estan desviados de la media un: ', \n",
        "      sd(duracion_seg), 'de la muestra')"
      ],
      "execution_count": null,
      "outputs": [
        {
          "output_type": "display_data",
          "data": {
            "text/plain": [
              "[1] \"El ultimo contacto con los clientes estan desviados de la media un:  259.856632624682 de la muestra\""
            ],
            "text/latex": "'El ultimo contacto con los clientes estan desviados de la media un:  259.856632624682 de la muestra'",
            "text/markdown": "<span style=white-space:pre-wrap>'El ultimo contacto con los clientes estan desviados de la media un:  259.856632624682 de la muestra'</span>",
            "text/html": [
              "<span style=white-space:pre-wrap>'El ultimo contacto con los clientes estan desviados de la media un:  259.856632624682 de la muestra'</span>"
            ]
          },
          "metadata": {
            "tags": []
          }
        }
      ]
    },
    {
      "cell_type": "code",
      "metadata": {
        "id": "tddRm8l8hnhf",
        "colab_type": "code",
        "colab": {
          "base_uri": "https://localhost:8080/",
          "height": 66
        },
        "outputId": "2f4ab046-570d-4431-b507-ed80234e7b8a"
      },
      "source": [
        "limiteSup<-mean(duracion_seg)+sd(duracion_seg)\n",
        "limiteInf<-mean(duracion_seg)-sd(duracion_seg)\n",
        "paste('El ultimo contacto con los clientes que estan a una desviacion estandar de la media son:')\n",
        "paste('X-s: ', limiteInf)\n",
        "paste('X+s: ', limiteSup)"
      ],
      "execution_count": null,
      "outputs": [
        {
          "output_type": "display_data",
          "data": {
            "text/plain": [
              "[1] \"El ultimo contacto con los clientes que estan a una desviacion estandar de la media son:\""
            ],
            "text/latex": "'El ultimo contacto con los clientes que estan a una desviacion estandar de la media son:'",
            "text/markdown": "'El ultimo contacto con los clientes que estan a una desviacion estandar de la media son:'",
            "text/html": [
              "'El ultimo contacto con los clientes que estan a una desviacion estandar de la media son:'"
            ]
          },
          "metadata": {
            "tags": []
          }
        },
        {
          "output_type": "display_data",
          "data": {
            "text/plain": [
              "[1] \"X-s:  4.10465912493089\""
            ],
            "text/latex": "'X-s:  4.10465912493089'",
            "text/markdown": "<span style=white-space:pre-wrap>'X-s:  4.10465912493089'</span>",
            "text/html": [
              "<span style=white-space:pre-wrap>'X-s:  4.10465912493089'</span>"
            ]
          },
          "metadata": {
            "tags": []
          }
        },
        {
          "output_type": "display_data",
          "data": {
            "text/plain": [
              "[1] \"X+s:  523.817924374295\""
            ],
            "text/latex": "'X+s:  523.817924374295'",
            "text/markdown": "<span style=white-space:pre-wrap>'X+s:  523.817924374295'</span>",
            "text/html": [
              "<span style=white-space:pre-wrap>'X+s:  523.817924374295'</span>"
            ]
          },
          "metadata": {
            "tags": []
          }
        }
      ]
    },
    {
      "cell_type": "markdown",
      "metadata": {
        "id": "3cMKDgSkhyg_",
        "colab_type": "text"
      },
      "source": [
        "El coeficiente de variacion de lo clientes al ser un valor alto signiifica que hay una alta dispersion de los datos respecto la media"
      ]
    },
    {
      "cell_type": "code",
      "metadata": {
        "id": "gSWNZdh8hsKK",
        "colab_type": "code",
        "colab": {
          "base_uri": "https://localhost:8080/",
          "height": 33
        },
        "outputId": "a31aef96-4c1b-47ee-9c70-74a95dd4d6ad"
      },
      "source": [
        "cv <- sd(duracion_seg)/mean(duracion_seg)*100\n",
        "paste('El coeficiente de variacion es de: ', cv)"
      ],
      "execution_count": null,
      "outputs": [
        {
          "output_type": "display_data",
          "data": {
            "text/plain": [
              "[1] \"El coeficiente de variacion es de:  98.44497687607\""
            ],
            "text/latex": "'El coeficiente de variacion es de:  98.44497687607'",
            "text/markdown": "<span style=white-space:pre-wrap>'El coeficiente de variacion es de:  98.44497687607'</span>",
            "text/html": [
              "<span style=white-space:pre-wrap>'El coeficiente de variacion es de:  98.44497687607'</span>"
            ]
          },
          "metadata": {
            "tags": []
          }
        }
      ]
    },
    {
      "cell_type": "markdown",
      "metadata": {
        "id": "o9jEdTYEiARt",
        "colab_type": "text"
      },
      "source": [
        "La asimetria al ser positiva significa que la cola esta a la derecha con un nivel de cursosis leptocurtico"
      ]
    },
    {
      "cell_type": "code",
      "metadata": {
        "id": "fyoeWUhDh10G",
        "colab_type": "code",
        "colab": {
          "base_uri": "https://localhost:8080/",
          "height": 50
        },
        "outputId": "b1e9b9c8-177f-472c-a5c0-b1843aa79744"
      },
      "source": [
        "paste('Asimetria: ', skew(duracion_seg))\n",
        "paste('Curtosis: ', kurtosi(duracion_seg))"
      ],
      "execution_count": null,
      "outputs": [
        {
          "output_type": "display_data",
          "data": {
            "text/plain": [
              "[1] \"Asimetria:  2.77058029362506\""
            ],
            "text/latex": "'Asimetria:  2.77058029362506'",
            "text/markdown": "<span style=white-space:pre-wrap>'Asimetria:  2.77058029362506'</span>",
            "text/html": [
              "<span style=white-space:pre-wrap>'Asimetria:  2.77058029362506'</span>"
            ]
          },
          "metadata": {
            "tags": []
          }
        },
        {
          "output_type": "display_data",
          "data": {
            "text/plain": [
              "[1] \"Curtosis:  12.5080068641227\""
            ],
            "text/latex": "'Curtosis:  12.5080068641227'",
            "text/markdown": "<span style=white-space:pre-wrap>'Curtosis:  12.5080068641227'</span>",
            "text/html": [
              "<span style=white-space:pre-wrap>'Curtosis:  12.5080068641227'</span>"
            ]
          },
          "metadata": {
            "tags": []
          }
        }
      ]
    },
    {
      "cell_type": "code",
      "metadata": {
        "id": "BKx8Qc2NiA0U",
        "colab_type": "code",
        "colab": {
          "base_uri": "https://localhost:8080/",
          "height": 436
        },
        "outputId": "959ba020-abaf-40c4-94c2-dd761155c27d"
      },
      "source": [
        "hist(duracion_seg, freq = F, main = \"Histograma contrato por meses de los clientes\", xlab = \"duracion_seg\", ylab=\"Frecuencia relativa\")\n",
        "curve(dnorm(x,mean=mean(duracion_seg),sd=sd(duracion_seg)), col=\"darkred\",lwd=2, add=TRUE)"
      ],
      "execution_count": null,
      "outputs": [
        {
          "output_type": "display_data",
          "data": {
            "image/png": "[encoded data removed]",
            "text/plain": [
              "Plot with title “Histograma contrato por meses de los clientes”"
            ]
          },
          "metadata": {
            "tags": [],
            "image/png": {
              "width": 420,
              "height": 420
            },
            "text/plain": {
              "width": 420,
              "height": 420
            }
          }
        }
      ]
    },
    {
      "cell_type": "markdown",
      "metadata": {
        "id": "5vMQoH6fjOZx",
        "colab_type": "text"
      },
      "source": [
        "###Analisis varias varibles\n",
        "\n",
        "En esta sesion vamos a comparar graficos las siguientes variables y hacer su respectivo analisis:\n",
        "1. Edad vs aceptacion tarjeta de credito\n",
        "2. Medio de contacto vs contrato meses\n",
        "3. Contador camapaña actual vs aceptacion tarjeta credito\n",
        "4. Medio de contacto vs Dia\n",
        "5. Dia vs aceptacion TC\n",
        "6. Nivel educativo vs contrato meses\n",
        "7. Estado civil vs contrato meses"
      ]
    },
    {
      "cell_type": "markdown",
      "metadata": {
        "id": "rphMim2Yk1gS",
        "colab_type": "text"
      },
      "source": [
        "####1. Edad vs aceptacion tarjeta de credito\n",
        "\n",
        "Segun la grafica comparando si las personas aceptaron o no una tarjeta de credito segun las edades se puede concluir que tiene una asimetria positiva en ambos casos significando que las personas mas joven sean el publico objetivo para los bancos, no obstante son muchas mas las personas que rechazan que las que aceptan la tarjeta.\n",
        "En personas de edad mayor (vease la cola) se puede ver que el banco son las que menos acuden"
      ]
    },
    {
      "cell_type": "code",
      "metadata": {
        "id": "t2jnCEYRiY-X",
        "colab_type": "code",
        "colab": {
          "base_uri": "https://localhost:8080/",
          "height": 436
        },
        "outputId": "0b4a20a4-cb63-4051-d443-d65d85982aac"
      },
      "source": [
        "par(mfrow=c(2,1))\n",
        "hist(edad[aceptacion_TC==\"si\"], main=\"Edad en la que acepta tarjeta credito\", xlab=\"edad\", ylab=\"\")\n",
        "hist(edad[aceptacion_TC==\"no\"], main=\"Edad en la que no acepta tarjeta credito\", xlab=\"edad\", ylab=\"\")"
      ],
      "execution_count": null,
      "outputs": [
        {
          "output_type": "display_data",
          "data": {
            "image/png": "[encoded data removed]",
            "text/plain": [
              "Plot with title “Edad en la que no acepta tarjeta credito”"
            ]
          },
          "metadata": {
            "tags": [],
            "image/png": {
              "width": 420,
              "height": 420
            },
            "text/plain": {
              "width": 420,
              "height": 420
            }
          }
        }
      ]
    },
    {
      "cell_type": "markdown",
      "metadata": {
        "id": "Fic_1-comxDv",
        "colab_type": "text"
      },
      "source": [
        "####2. Medio de contacto vs contrato meses\n",
        "\n",
        "Por las graficas se puede ver que se comporta de manera casi uniforme excepto por la cola los ultimos meses.\n",
        "Se puede ver que la mayoria de los clientes fueron por celular siendo el canal mas efectivo seguido por el chat. Para cuando son una gran cantidad de meses se  puede ver que hay una menor cantidad de clientes."
      ]
    },
    {
      "cell_type": "code",
      "metadata": {
        "id": "a0QjwddKlUlo",
        "colab_type": "code",
        "colab": {
          "base_uri": "https://localhost:8080/",
          "height": 436
        },
        "outputId": "a25f8a2f-128d-4445-e164-052e56f94cdb"
      },
      "source": [
        "par(mfrow=c(3,1))\n",
        "hist(contrato_meses[medio_contacto==\"celular\"], main=\"Tiempo de contrato por canal de adquisicion (Celular)\", xlab=\"meses\", ylab=\"\")\n",
        "hist(contrato_meses[medio_contacto==\"chat\"], main=\"Tiempo de contrato por canal de adquisicion (Chat)\", xlab=\"meses\", ylab=\"\")\n",
        "hist(contrato_meses[medio_contacto==\"telefono\"], main=\"Tiempo de contrato por canal de adquisicion (Telefono)\", xlab=\"meses\", ylab=\"\")"
      ],
      "execution_count": null,
      "outputs": [
        {
          "output_type": "display_data",
          "data": {
            "image/png": "[encoded data removed]",
            "text/plain": [
              "Plot with title “Tiempo de contrato por canal de adquisicion (Telefono)”"
            ]
          },
          "metadata": {
            "tags": [],
            "image/png": {
              "width": 420,
              "height": 420
            },
            "text/plain": {
              "width": 420,
              "height": 420
            }
          }
        }
      ]
    },
    {
      "cell_type": "markdown",
      "metadata": {
        "id": "gN4HN39BpY8P",
        "colab_type": "text"
      },
      "source": [
        "####3. Contador campaña actual vs aceptacion tarjeta credito\n",
        "\n",
        "Segun los histogramas se puede ver que los datos siguen una alta asimetria positiva mostrando que la mayoria de veces en que se tiene una respuesta son en las primeras iteraciones."
      ]
    },
    {
      "cell_type": "code",
      "metadata": {
        "id": "a2ZdBG60nMoB",
        "colab_type": "code",
        "colab": {
          "base_uri": "https://localhost:8080/",
          "height": 436
        },
        "outputId": "6c1f32be-9cda-4f48-a33b-688b1987147e"
      },
      "source": [
        "par(mfrow=c(2,1))\n",
        "hist(cont_campana_actual[aceptacion_TC==\"si\"], main=\"Numero de veces que se contacto al cliente y acepto la tarjeta de credito\", xlab=\"# contactos\", ylab=\"\")\n",
        "hist(cont_campana_actual[aceptacion_TC==\"no\"], main=\"Numero de veces que se contacto al cliente y no acepto la tarjeta de credito\", xlab=\"# contactos\", ylab=\"\")"
      ],
      "execution_count": null,
      "outputs": [
        {
          "output_type": "display_data",
          "data": {
            "image/png": "[encoded data removed]",
            "text/plain": [
              "Plot with title “Numero de veces que se contacto al cliente y no acepto la tarjeta de credito”"
            ]
          },
          "metadata": {
            "tags": [],
            "image/png": {
              "width": 420,
              "height": 420
            },
            "text/plain": {
              "width": 420,
              "height": 420
            }
          }
        }
      ]
    },
    {
      "cell_type": "markdown",
      "metadata": {
        "id": "DB5Hq0eXrKxd",
        "colab_type": "text"
      },
      "source": [
        "####4. Medio de contacto vs dia\n",
        "\n",
        "Como se puede ver en las graficas las solicitudes de las tarjetas de credito al principio y a final de mes se comporta muy similar en el caso de el celular y chat como canal de adquisicion"
      ]
    },
    {
      "cell_type": "code",
      "metadata": {
        "id": "6ese2qCwpunw",
        "colab_type": "code",
        "colab": {
          "base_uri": "https://localhost:8080/",
          "height": 436
        },
        "outputId": "88c9f49e-734b-4567-9f17-7f2043fc099e"
      },
      "source": [
        "par(mfrow=c(3,1))\n",
        "hist(dia[medio_contacto==\"celular\"], main=\"Dia en que se le solicito una tarjeta por celular\", xlab=\"Dia del mes\", ylab=\"\")\n",
        "hist(dia[medio_contacto==\"chat\"], main=\"Dia en que se le solicito una tarjeta por chat\", xlab=\"Dia del mes\", ylab=\"\")\n",
        "hist(dia[medio_contacto==\"telefono\"], main=\"Dia en que se le solicito una tarjeta telefono\", xlab=\"Dia del mes\", ylab=\"\")"
      ],
      "execution_count": null,
      "outputs": [
        {
          "output_type": "display_data",
          "data": {
            "image/png": "[encoded data removed]",
            "text/plain": [
              "Plot with title “Dia en que se le solicito una tarjeta telefono”"
            ]
          },
          "metadata": {
            "tags": [],
            "image/png": {
              "width": 420,
              "height": 420
            },
            "text/plain": {
              "width": 420,
              "height": 420
            }
          }
        }
      ]
    },
    {
      "cell_type": "markdown",
      "metadata": {
        "id": "jFJNwgFMtYcn",
        "colab_type": "text"
      },
      "source": [
        "####5. Dia vs aceptacion\n",
        "\n",
        "Segun los dos histogramas los clientes que aceptan o rechazan la tarjeta mantiene un comportamiento similar"
      ]
    },
    {
      "cell_type": "code",
      "metadata": {
        "id": "j_SBEwtfrX9-",
        "colab_type": "code",
        "colab": {
          "base_uri": "https://localhost:8080/",
          "height": 436
        },
        "outputId": "bf4c7190-e746-4bb3-e383-75bb49ee7803"
      },
      "source": [
        "par(mfrow=c(2,1))\n",
        "hist(dia[aceptacion_TC==\"si\"], main=\"Dia en que se le solicito una tarjeta y acepto tarjeta de credito\", xlab=\"Dia del mes\", ylab=\"\")\n",
        "hist(dia[aceptacion_TC==\"no\"], main=\"Dia en que se le solicito una tarjeta y no acepto tarjeta de credito\", xlab=\"Dia del mes\", ylab=\"\")"
      ],
      "execution_count": null,
      "outputs": [
        {
          "output_type": "display_data",
          "data": {
            "image/png": "[encoded data removed]",
            "text/plain": [
              "Plot with title “Dia en que se le solicito una tarjeta y no acepto tarjeta de credito”"
            ]
          },
          "metadata": {
            "tags": [],
            "image/png": {
              "width": 420,
              "height": 420
            },
            "text/plain": {
              "width": 420,
              "height": 420
            }
          }
        }
      ]
    },
    {
      "cell_type": "markdown",
      "metadata": {
        "id": "x6T2-xokxaJR",
        "colab_type": "text"
      },
      "source": [
        "####6. Nivel educativo vs contrato por meses\n",
        "\n",
        "Se puede ver que hay mas personas en contratos de bachilleratos y menos en tecnicos.\n",
        "En todos los niveles educativos se ve que hay una menor cantidad de contratos para una cantidad de meses larga, de resto se comporta de manera casi uniforme."
      ]
    },
    {
      "cell_type": "code",
      "metadata": {
        "id": "eLLLnmJovBIf",
        "colab_type": "code",
        "colab": {
          "base_uri": "https://localhost:8080/",
          "height": 436
        },
        "outputId": "b1d612c5-af80-4004-87a9-c278a4b59455"
      },
      "source": [
        "par(mfrow=c(2,2))\n",
        "hist(contrato_meses[nivel_educativo==\"primaria\"], main=\"contrato por meses primaria\", xlab=\"contrato meses\", ylab=\"\")\n",
        "hist(contrato_meses[nivel_educativo==\"bachillerato\"], main=\"contrato por meses bachillerato\", xlab=\"contrato meses\", ylab=\"\")\n",
        "hist(contrato_meses[nivel_educativo==\"universitario\"], main=\"contrato por meses universitario\", xlab=\"contrato meses\", ylab=\"\")\n",
        "hist(contrato_meses[nivel_educativo==\"técnico\"], main=\"contrato por meses tecnico\", xlab=\"contrato meses\", ylab=\"\")"
      ],
      "execution_count": null,
      "outputs": [
        {
          "output_type": "display_data",
          "data": {
            "image/png": "[encoded data removed]",
            "text/plain": [
              "Plot with title “contrato por meses tecnico”"
            ]
          },
          "metadata": {
            "tags": [],
            "image/png": {
              "width": 420,
              "height": 420
            },
            "text/plain": {
              "width": 420,
              "height": 420
            }
          }
        }
      ]
    },
    {
      "cell_type": "markdown",
      "metadata": {
        "id": "8MVL-85i0_OM",
        "colab_type": "text"
      },
      "source": [
        "####7. Estado civil vs contrato meses\n",
        "\n",
        "Bonus: Segun este grafico las personas solteras, casadas o divorciadas mantienen un contrato con un comportamiento muy similar, pero las muestras para las personas casadas son grandes mientras que las de las personas divorsiadas son aproximadamente 1/4"
      ]
    },
    {
      "cell_type": "code",
      "metadata": {
        "id": "BUJ_27FPyyWo",
        "colab_type": "code",
        "colab": {
          "base_uri": "https://localhost:8080/",
          "height": 436
        },
        "outputId": "1a37952d-0002-4bbf-8e49-97ebed526f98"
      },
      "source": [
        "par(mfrow=c(2,2))\n",
        "hist(contrato_meses[est_civil==\"casado\"], main=\"contrato por meses casado\", xlab=\"contrato meses\", ylab=\"\")\n",
        "hist(contrato_meses[est_civil==\"soltero\"], main=\"contrato por meses soltero\", xlab=\"contrato meses\", ylab=\"\")\n",
        "hist(contrato_meses[est_civil==\"divorciado\"], main=\"contrato por meses divorciado\", xlab=\"contrato meses\", ylab=\"\")"
      ],
      "execution_count": null,
      "outputs": [
        {
          "output_type": "display_data",
          "data": {
            "image/png": "[encoded data removed]",
            "text/plain": [
              "Plot with title “contrato por meses divorciado”"
            ]
          },
          "metadata": {
            "tags": [],
            "image/png": {
              "width": 420,
              "height": 420
            },
            "text/plain": {
              "width": 420,
              "height": 420
            }
          }
        }
      ]
    },
    {
      "cell_type": "markdown",
      "metadata": {
        "id": "9f682Z_6EBMu",
        "colab_type": "text"
      },
      "source": [
        "##Analisis variables cualitativas\n",
        "\n",
        "Las variables cualitativas son:\n",
        "\n",
        " * ocupación          \n",
        " * est_civil          \n",
        " * nivel_educativo    \n",
        " * Cred_hipotecario  \n",
        " * Cred_personal     \n",
        " * Medio_contacto     \n",
        " * Mes                \n",
        " * aceptacion_TC \n",
        "\n",
        "Las variables a analizar individualmente son:\n",
        "\n",
        " * ocupación          \n",
        " * est_civil          \n",
        " * nivel_educativo\n",
        " * Cred_hipotecario    \n",
        " * aceptacion_TC "
      ]
    },
    {
      "cell_type": "markdown",
      "metadata": {
        "id": "s8nmSPf6Jg8o",
        "colab_type": "text"
      },
      "source": [
        "###Analisis por cada variable"
      ]
    },
    {
      "cell_type": "markdown",
      "metadata": {
        "id": "Ps4OiY7BJrER",
        "colab_type": "text"
      },
      "source": [
        "####Ocupacion\n",
        "\n",
        "Por ocupacion, la mayor proporcion de clientes esta dada por administradores, empresarios y profesores"
      ]
    },
    {
      "cell_type": "code",
      "metadata": {
        "id": "NA0sj2wh1nvt",
        "colab_type": "code",
        "colab": {
          "base_uri": "https://localhost:8080/",
          "height": 141
        },
        "outputId": "4f060753-2465-4fa9-ed82-8a514a22ef93"
      },
      "source": [
        "tabla_ocupacion <- table(ocupacion)\n",
        "tabla_ocupacion"
      ],
      "execution_count": null,
      "outputs": [
        {
          "output_type": "display_data",
          "data": {
            "text/plain": [
              "ocupacion\n",
              "  administrador amadiciembreasa     desconocido     desempleado     emprendedor \n",
              "            969             112              38             128             168 \n",
              "     empresario      estudiante   independiente        informal      pensionado \n",
              "            768              84             661             946             230 \n",
              "       profesor \n",
              "            417 "
            ]
          },
          "metadata": {
            "tags": []
          }
        }
      ]
    },
    {
      "cell_type": "code",
      "metadata": {
        "id": "YSZllefrJ-pj",
        "colab_type": "code",
        "colab": {
          "base_uri": "https://localhost:8080/",
          "height": 141
        },
        "outputId": "09b5c856-ef5c-4dbe-ef21-52ec9b837c60"
      },
      "source": [
        "prop.table(tabla_ocupacion)"
      ],
      "execution_count": null,
      "outputs": [
        {
          "output_type": "display_data",
          "data": {
            "text/plain": [
              "ocupacion\n",
              "  administrador amadiciembreasa     desconocido     desempleado     emprendedor \n",
              "     0.21433311      0.02477328      0.00840522      0.02831232      0.03715992 \n",
              "     empresario      estudiante   independiente        informal      pensionado \n",
              "     0.16987392      0.01857996      0.14620659      0.20924574      0.05087370 \n",
              "       profesor \n",
              "     0.09223623 "
            ]
          },
          "metadata": {
            "tags": []
          }
        }
      ]
    },
    {
      "cell_type": "markdown",
      "metadata": {
        "id": "hCn2026qSW3d",
        "colab_type": "text"
      },
      "source": [
        "####Estado civil\n",
        "\n",
        "Por estado civil la mayor proporcion de clientes esta dada por personas casadas"
      ]
    },
    {
      "cell_type": "code",
      "metadata": {
        "id": "huLDg8V5KFBi",
        "colab_type": "code",
        "colab": {
          "base_uri": "https://localhost:8080/",
          "height": 70
        },
        "outputId": "fa08d708-9547-4861-c307-0507ee470d60"
      },
      "source": [
        "tabla_est_civil <- table(est_civil)\n",
        "tabla_est_civil"
      ],
      "execution_count": null,
      "outputs": [
        {
          "output_type": "display_data",
          "data": {
            "text/plain": [
              "est_civil\n",
              "    casado divorciado    soltero \n",
              "      2797        528       1196 "
            ]
          },
          "metadata": {
            "tags": []
          }
        }
      ]
    },
    {
      "cell_type": "code",
      "metadata": {
        "id": "ucld20evR9xl",
        "colab_type": "code",
        "colab": {
          "base_uri": "https://localhost:8080/",
          "height": 70
        },
        "outputId": "3095e1d1-f6e4-4f80-a2fc-122fc278680b"
      },
      "source": [
        "prop.table(tabla_est_civil)"
      ],
      "execution_count": null,
      "outputs": [
        {
          "output_type": "display_data",
          "data": {
            "text/plain": [
              "est_civil\n",
              "    casado divorciado    soltero \n",
              " 0.6186684  0.1167883  0.2645432 "
            ]
          },
          "metadata": {
            "tags": []
          }
        }
      ]
    },
    {
      "cell_type": "markdown",
      "metadata": {
        "id": "CpGwwMMDTFpn",
        "colab_type": "text"
      },
      "source": [
        "####Nivel educativo\n",
        "\n",
        "Para el nivel educativo la mayor proporcion de personas esta dada por personas de bachilleres y universitarios"
      ]
    },
    {
      "cell_type": "code",
      "metadata": {
        "id": "1pk98tw8SlVd",
        "colab_type": "code",
        "colab": {
          "base_uri": "https://localhost:8080/",
          "height": 70
        },
        "outputId": "c2a7f349-ea56-4cf9-f383-b7de843201d0"
      },
      "source": [
        "tabla_nivel_educativo <- table(nivel_educativo)\n",
        "tabla_nivel_educativo"
      ],
      "execution_count": null,
      "outputs": [
        {
          "output_type": "display_data",
          "data": {
            "text/plain": [
              "nivel_educativo\n",
              " bachillerato      primaria       técnico universitario \n",
              "         2306           678           187          1350 "
            ]
          },
          "metadata": {
            "tags": []
          }
        }
      ]
    },
    {
      "cell_type": "code",
      "metadata": {
        "id": "CVSUwYcCTL-4",
        "colab_type": "code",
        "colab": {
          "base_uri": "https://localhost:8080/",
          "height": 70
        },
        "outputId": "535b0c33-683a-44ee-e957-de92038178fe"
      },
      "source": [
        "prop.table(tabla_nivel_educativo)"
      ],
      "execution_count": null,
      "outputs": [
        {
          "output_type": "display_data",
          "data": {
            "text/plain": [
              "nivel_educativo\n",
              " bachillerato      primaria       técnico universitario \n",
              "   0.51006415    0.14996682    0.04136253    0.29860650 "
            ]
          },
          "metadata": {
            "tags": []
          }
        }
      ]
    },
    {
      "cell_type": "markdown",
      "metadata": {
        "id": "vs3yo1TjTgew",
        "colab_type": "text"
      },
      "source": [
        "####Credito hipotecario\n",
        "\n",
        "El 56.60% de los clientes tiene un credito hipotecario vigente con el banco"
      ]
    },
    {
      "cell_type": "code",
      "metadata": {
        "id": "t5v_Hs-5TPMg",
        "colab_type": "code",
        "colab": {
          "base_uri": "https://localhost:8080/",
          "height": 70
        },
        "outputId": "332b5fbb-0824-448c-ee0e-f5f582e21f8f"
      },
      "source": [
        "tabla_cred_hipotecario <- table(cred_hipotecario)\n",
        "tabla_cred_hipotecario"
      ],
      "execution_count": null,
      "outputs": [
        {
          "output_type": "display_data",
          "data": {
            "text/plain": [
              "cred_hipotecario\n",
              "  no   si \n",
              "1962 2559 "
            ]
          },
          "metadata": {
            "tags": []
          }
        }
      ]
    },
    {
      "cell_type": "code",
      "metadata": {
        "id": "uDXL7y5wT9x6",
        "colab_type": "code",
        "colab": {
          "base_uri": "https://localhost:8080/",
          "height": 70
        },
        "outputId": "174e4ebe-773c-4de7-aeab-4a03e1bd8959"
      },
      "source": [
        "prop.table(tabla_cred_hipotecario)"
      ],
      "execution_count": null,
      "outputs": [
        {
          "output_type": "display_data",
          "data": {
            "text/plain": [
              "cred_hipotecario\n",
              "       no        si \n",
              "0.4339748 0.5660252 "
            ]
          },
          "metadata": {
            "tags": []
          }
        }
      ]
    },
    {
      "cell_type": "markdown",
      "metadata": {
        "id": "Zu7CnKm4UWtR",
        "colab_type": "text"
      },
      "source": [
        "####Aceptacion tarjeta de credito\n",
        "\n",
        "El 88.476% de los clientes no aceptaron la tarjeta de credito"
      ]
    },
    {
      "cell_type": "code",
      "metadata": {
        "id": "MR6S9SoBUBw4",
        "colab_type": "code",
        "colab": {
          "base_uri": "https://localhost:8080/",
          "height": 70
        },
        "outputId": "76fc4c1b-d4c7-4a8f-9a0a-152224445fe5"
      },
      "source": [
        "tabla_aceptacion_TC <- table(aceptacion_TC)\n",
        "tabla_aceptacion_TC"
      ],
      "execution_count": null,
      "outputs": [
        {
          "output_type": "display_data",
          "data": {
            "text/plain": [
              "aceptacion_TC\n",
              "  no   si \n",
              "4000  521 "
            ]
          },
          "metadata": {
            "tags": []
          }
        }
      ]
    },
    {
      "cell_type": "code",
      "metadata": {
        "id": "EY2wBcQ7UdjF",
        "colab_type": "code",
        "colab": {
          "base_uri": "https://localhost:8080/",
          "height": 70
        },
        "outputId": "0fbc09de-d48c-4d87-c0db-9c0cebbdc240"
      },
      "source": [
        "prop.table(tabla_aceptacion_TC)"
      ],
      "execution_count": null,
      "outputs": [
        {
          "output_type": "display_data",
          "data": {
            "text/plain": [
              "aceptacion_TC\n",
              "     no      si \n",
              "0.88476 0.11524 "
            ]
          },
          "metadata": {
            "tags": []
          }
        }
      ]
    },
    {
      "cell_type": "code",
      "metadata": {
        "id": "fSfQUKIqUfs8",
        "colab_type": "code",
        "colab": {}
      },
      "source": [
        ""
      ],
      "execution_count": null,
      "outputs": []
    }
  ]
}