{
  "nbformat": 4,
  "nbformat_minor": 0,
  "metadata": {
    "colab": {
      "name": "malaria-detection.ipynb",
      "provenance": [],
      "authorship_tag": "ABX9TyOiys8YYL9oUwcFubDaSyqX",
      "include_colab_link": true
    },
    "kernelspec": {
      "name": "python3",
      "display_name": "Python 3"
    },
    "accelerator": "GPU",
    "widgets": {
      "application/vnd.jupyter.widget-state+json": {
        "f79e1dee556544cfb875121aef27c376": {
          "model_module": "@jupyter-widgets/controls",
          "model_name": "HBoxModel",
          "state": {
            "_view_name": "HBoxView",
            "_dom_classes": [],
            "_model_name": "HBoxModel",
            "_view_module": "@jupyter-widgets/controls",
            "_model_module_version": "1.5.0",
            "_view_count": null,
            "_view_module_version": "1.5.0",
            "box_style": "",
            "layout": "IPY_MODEL_3e57e7591462419395966022a00f3492",
            "_model_module": "@jupyter-widgets/controls",
            "children": [
              "IPY_MODEL_363adaa5bf3643d8a925453c60e20b77",
              "IPY_MODEL_983fb7768bfc4af1ab2784cb97246931"
            ]
          }
        },
        "3e57e7591462419395966022a00f3492": {
          "model_module": "@jupyter-widgets/base",
          "model_name": "LayoutModel",
          "state": {
            "_view_name": "LayoutView",
            "grid_template_rows": null,
            "right": null,
            "justify_content": null,
            "_view_module": "@jupyter-widgets/base",
            "overflow": null,
            "_model_module_version": "1.2.0",
            "_view_count": null,
            "flex_flow": null,
            "width": null,
            "min_width": null,
            "border": null,
            "align_items": null,
            "bottom": null,
            "_model_module": "@jupyter-widgets/base",
            "top": null,
            "grid_column": null,
            "overflow_y": null,
            "overflow_x": null,
            "grid_auto_flow": null,
            "grid_area": null,
            "grid_template_columns": null,
            "flex": null,
            "_model_name": "LayoutModel",
            "justify_items": null,
            "grid_row": null,
            "max_height": null,
            "align_content": null,
            "visibility": null,
            "align_self": null,
            "height": null,
            "min_height": null,
            "padding": null,
            "grid_auto_rows": null,
            "grid_gap": null,
            "max_width": null,
            "order": null,
            "_view_module_version": "1.2.0",
            "grid_template_areas": null,
            "object_position": null,
            "object_fit": null,
            "grid_auto_columns": null,
            "margin": null,
            "display": null,
            "left": null
          }
        },
        "363adaa5bf3643d8a925453c60e20b77": {
          "model_module": "@jupyter-widgets/controls",
          "model_name": "FloatProgressModel",
          "state": {
            "_view_name": "ProgressView",
            "style": "IPY_MODEL_2ed1c4121841437f8317486bbd8d02f6",
            "_dom_classes": [],
            "description": "Dl Completed...: 100%",
            "_model_name": "FloatProgressModel",
            "bar_style": "success",
            "max": 1,
            "_view_module": "@jupyter-widgets/controls",
            "_model_module_version": "1.5.0",
            "value": 1,
            "_view_count": null,
            "_view_module_version": "1.5.0",
            "orientation": "horizontal",
            "min": 0,
            "description_tooltip": null,
            "_model_module": "@jupyter-widgets/controls",
            "layout": "IPY_MODEL_46e7c84750f146419a7b7e94d67263c8"
          }
        },
        "983fb7768bfc4af1ab2784cb97246931": {
          "model_module": "@jupyter-widgets/controls",
          "model_name": "HTMLModel",
          "state": {
            "_view_name": "HTMLView",
            "style": "IPY_MODEL_3d6fbd4aeb4c4762a1ae335d366a5503",
            "_dom_classes": [],
            "description": "",
            "_model_name": "HTMLModel",
            "placeholder": "​",
            "_view_module": "@jupyter-widgets/controls",
            "_model_module_version": "1.5.0",
            "value": " 1/1 [00:13&lt;00:00, 13.26s/ url]",
            "_view_count": null,
            "_view_module_version": "1.5.0",
            "description_tooltip": null,
            "_model_module": "@jupyter-widgets/controls",
            "layout": "IPY_MODEL_1b718f447be848248c8c93c9c69f6244"
          }
        },
        "2ed1c4121841437f8317486bbd8d02f6": {
          "model_module": "@jupyter-widgets/controls",
          "model_name": "ProgressStyleModel",
          "state": {
            "_view_name": "StyleView",
            "_model_name": "ProgressStyleModel",
            "description_width": "initial",
            "_view_module": "@jupyter-widgets/base",
            "_model_module_version": "1.5.0",
            "_view_count": null,
            "_view_module_version": "1.2.0",
            "bar_color": null,
            "_model_module": "@jupyter-widgets/controls"
          }
        },
        "46e7c84750f146419a7b7e94d67263c8": {
          "model_module": "@jupyter-widgets/base",
          "model_name": "LayoutModel",
          "state": {
            "_view_name": "LayoutView",
            "grid_template_rows": null,
            "right": null,
            "justify_content": null,
            "_view_module": "@jupyter-widgets/base",
            "overflow": null,
            "_model_module_version": "1.2.0",
            "_view_count": null,
            "flex_flow": null,
            "width": null,
            "min_width": null,
            "border": null,
            "align_items": null,
            "bottom": null,
            "_model_module": "@jupyter-widgets/base",
            "top": null,
            "grid_column": null,
            "overflow_y": null,
            "overflow_x": null,
            "grid_auto_flow": null,
            "grid_area": null,
            "grid_template_columns": null,
            "flex": null,
            "_model_name": "LayoutModel",
            "justify_items": null,
            "grid_row": null,
            "max_height": null,
            "align_content": null,
            "visibility": null,
            "align_self": null,
            "height": null,
            "min_height": null,
            "padding": null,
            "grid_auto_rows": null,
            "grid_gap": null,
            "max_width": null,
            "order": null,
            "_view_module_version": "1.2.0",
            "grid_template_areas": null,
            "object_position": null,
            "object_fit": null,
            "grid_auto_columns": null,
            "margin": null,
            "display": null,
            "left": null
          }
        },
        "3d6fbd4aeb4c4762a1ae335d366a5503": {
          "model_module": "@jupyter-widgets/controls",
          "model_name": "DescriptionStyleModel",
          "state": {
            "_view_name": "StyleView",
            "_model_name": "DescriptionStyleModel",
            "description_width": "",
            "_view_module": "@jupyter-widgets/base",
            "_model_module_version": "1.5.0",
            "_view_count": null,
            "_view_module_version": "1.2.0",
            "_model_module": "@jupyter-widgets/controls"
          }
        },
        "1b718f447be848248c8c93c9c69f6244": {
          "model_module": "@jupyter-widgets/base",
          "model_name": "LayoutModel",
          "state": {
            "_view_name": "LayoutView",
            "grid_template_rows": null,
            "right": null,
            "justify_content": null,
            "_view_module": "@jupyter-widgets/base",
            "overflow": null,
            "_model_module_version": "1.2.0",
            "_view_count": null,
            "flex_flow": null,
            "width": null,
            "min_width": null,
            "border": null,
            "align_items": null,
            "bottom": null,
            "_model_module": "@jupyter-widgets/base",
            "top": null,
            "grid_column": null,
            "overflow_y": null,
            "overflow_x": null,
            "grid_auto_flow": null,
            "grid_area": null,
            "grid_template_columns": null,
            "flex": null,
            "_model_name": "LayoutModel",
            "justify_items": null,
            "grid_row": null,
            "max_height": null,
            "align_content": null,
            "visibility": null,
            "align_self": null,
            "height": null,
            "min_height": null,
            "padding": null,
            "grid_auto_rows": null,
            "grid_gap": null,
            "max_width": null,
            "order": null,
            "_view_module_version": "1.2.0",
            "grid_template_areas": null,
            "object_position": null,
            "object_fit": null,
            "grid_auto_columns": null,
            "margin": null,
            "display": null,
            "left": null
          }
        },
        "e1d2814c9b72448f987b71f558a2f4cb": {
          "model_module": "@jupyter-widgets/controls",
          "model_name": "HBoxModel",
          "state": {
            "_view_name": "HBoxView",
            "_dom_classes": [],
            "_model_name": "HBoxModel",
            "_view_module": "@jupyter-widgets/controls",
            "_model_module_version": "1.5.0",
            "_view_count": null,
            "_view_module_version": "1.5.0",
            "box_style": "",
            "layout": "IPY_MODEL_534d52c5aeb844a7b86f4dadbeb5b14f",
            "_model_module": "@jupyter-widgets/controls",
            "children": [
              "IPY_MODEL_4e415db71c68415a9110e0721681e8d4",
              "IPY_MODEL_89f9120489cd4ac8b8c84a65c7b38822"
            ]
          }
        },
        "534d52c5aeb844a7b86f4dadbeb5b14f": {
          "model_module": "@jupyter-widgets/base",
          "model_name": "LayoutModel",
          "state": {
            "_view_name": "LayoutView",
            "grid_template_rows": null,
            "right": null,
            "justify_content": null,
            "_view_module": "@jupyter-widgets/base",
            "overflow": null,
            "_model_module_version": "1.2.0",
            "_view_count": null,
            "flex_flow": null,
            "width": null,
            "min_width": null,
            "border": null,
            "align_items": null,
            "bottom": null,
            "_model_module": "@jupyter-widgets/base",
            "top": null,
            "grid_column": null,
            "overflow_y": null,
            "overflow_x": null,
            "grid_auto_flow": null,
            "grid_area": null,
            "grid_template_columns": null,
            "flex": null,
            "_model_name": "LayoutModel",
            "justify_items": null,
            "grid_row": null,
            "max_height": null,
            "align_content": null,
            "visibility": null,
            "align_self": null,
            "height": null,
            "min_height": null,
            "padding": null,
            "grid_auto_rows": null,
            "grid_gap": null,
            "max_width": null,
            "order": null,
            "_view_module_version": "1.2.0",
            "grid_template_areas": null,
            "object_position": null,
            "object_fit": null,
            "grid_auto_columns": null,
            "margin": null,
            "display": null,
            "left": null
          }
        },
        "4e415db71c68415a9110e0721681e8d4": {
          "model_module": "@jupyter-widgets/controls",
          "model_name": "FloatProgressModel",
          "state": {
            "_view_name": "ProgressView",
            "style": "IPY_MODEL_5e46c33c819041cfa50376e81254ac39",
            "_dom_classes": [],
            "description": "Dl Size...: 100%",
            "_model_name": "FloatProgressModel",
            "bar_style": "success",
            "max": 1,
            "_view_module": "@jupyter-widgets/controls",
            "_model_module_version": "1.5.0",
            "value": 1,
            "_view_count": null,
            "_view_module_version": "1.5.0",
            "orientation": "horizontal",
            "min": 0,
            "description_tooltip": null,
            "_model_module": "@jupyter-widgets/controls",
            "layout": "IPY_MODEL_50ab3fb0afeb4261983383f8b95529e6"
          }
        },
        "89f9120489cd4ac8b8c84a65c7b38822": {
          "model_module": "@jupyter-widgets/controls",
          "model_name": "HTMLModel",
          "state": {
            "_view_name": "HTMLView",
            "style": "IPY_MODEL_d45b48af493840f4b767d09e97fb6c55",
            "_dom_classes": [],
            "description": "",
            "_model_name": "HTMLModel",
            "placeholder": "​",
            "_view_module": "@jupyter-widgets/controls",
            "_model_module_version": "1.5.0",
            "value": " 337/337 [00:13&lt;00:00, 25.49 MiB/s]",
            "_view_count": null,
            "_view_module_version": "1.5.0",
            "description_tooltip": null,
            "_model_module": "@jupyter-widgets/controls",
            "layout": "IPY_MODEL_bbfe2e6d491b4cf1864f1388a32b8aa1"
          }
        },
        "5e46c33c819041cfa50376e81254ac39": {
          "model_module": "@jupyter-widgets/controls",
          "model_name": "ProgressStyleModel",
          "state": {
            "_view_name": "StyleView",
            "_model_name": "ProgressStyleModel",
            "description_width": "initial",
            "_view_module": "@jupyter-widgets/base",
            "_model_module_version": "1.5.0",
            "_view_count": null,
            "_view_module_version": "1.2.0",
            "bar_color": null,
            "_model_module": "@jupyter-widgets/controls"
          }
        },
        "50ab3fb0afeb4261983383f8b95529e6": {
          "model_module": "@jupyter-widgets/base",
          "model_name": "LayoutModel",
          "state": {
            "_view_name": "LayoutView",
            "grid_template_rows": null,
            "right": null,
            "justify_content": null,
            "_view_module": "@jupyter-widgets/base",
            "overflow": null,
            "_model_module_version": "1.2.0",
            "_view_count": null,
            "flex_flow": null,
            "width": null,
            "min_width": null,
            "border": null,
            "align_items": null,
            "bottom": null,
            "_model_module": "@jupyter-widgets/base",
            "top": null,
            "grid_column": null,
            "overflow_y": null,
            "overflow_x": null,
            "grid_auto_flow": null,
            "grid_area": null,
            "grid_template_columns": null,
            "flex": null,
            "_model_name": "LayoutModel",
            "justify_items": null,
            "grid_row": null,
            "max_height": null,
            "align_content": null,
            "visibility": null,
            "align_self": null,
            "height": null,
            "min_height": null,
            "padding": null,
            "grid_auto_rows": null,
            "grid_gap": null,
            "max_width": null,
            "order": null,
            "_view_module_version": "1.2.0",
            "grid_template_areas": null,
            "object_position": null,
            "object_fit": null,
            "grid_auto_columns": null,
            "margin": null,
            "display": null,
            "left": null
          }
        },
        "d45b48af493840f4b767d09e97fb6c55": {
          "model_module": "@jupyter-widgets/controls",
          "model_name": "DescriptionStyleModel",
          "state": {
            "_view_name": "StyleView",
            "_model_name": "DescriptionStyleModel",
            "description_width": "",
            "_view_module": "@jupyter-widgets/base",
            "_model_module_version": "1.5.0",
            "_view_count": null,
            "_view_module_version": "1.2.0",
            "_model_module": "@jupyter-widgets/controls"
          }
        },
        "bbfe2e6d491b4cf1864f1388a32b8aa1": {
          "model_module": "@jupyter-widgets/base",
          "model_name": "LayoutModel",
          "state": {
            "_view_name": "LayoutView",
            "grid_template_rows": null,
            "right": null,
            "justify_content": null,
            "_view_module": "@jupyter-widgets/base",
            "overflow": null,
            "_model_module_version": "1.2.0",
            "_view_count": null,
            "flex_flow": null,
            "width": null,
            "min_width": null,
            "border": null,
            "align_items": null,
            "bottom": null,
            "_model_module": "@jupyter-widgets/base",
            "top": null,
            "grid_column": null,
            "overflow_y": null,
            "overflow_x": null,
            "grid_auto_flow": null,
            "grid_area": null,
            "grid_template_columns": null,
            "flex": null,
            "_model_name": "LayoutModel",
            "justify_items": null,
            "grid_row": null,
            "max_height": null,
            "align_content": null,
            "visibility": null,
            "align_self": null,
            "height": null,
            "min_height": null,
            "padding": null,
            "grid_auto_rows": null,
            "grid_gap": null,
            "max_width": null,
            "order": null,
            "_view_module_version": "1.2.0",
            "grid_template_areas": null,
            "object_position": null,
            "object_fit": null,
            "grid_auto_columns": null,
            "margin": null,
            "display": null,
            "left": null
          }
        },
        "ea80d6e88f6b493aa0feb35fcaa70124": {
          "model_module": "@jupyter-widgets/controls",
          "model_name": "HBoxModel",
          "state": {
            "_view_name": "HBoxView",
            "_dom_classes": [],
            "_model_name": "HBoxModel",
            "_view_module": "@jupyter-widgets/controls",
            "_model_module_version": "1.5.0",
            "_view_count": null,
            "_view_module_version": "1.5.0",
            "box_style": "",
            "layout": "IPY_MODEL_4e7df5b9fafa4ac388da1be19dcae056",
            "_model_module": "@jupyter-widgets/controls",
            "children": [
              "IPY_MODEL_bcf4803447d84894b8deedfe64c85c65",
              "IPY_MODEL_353701ba92fa419b90a9c88d331cc807"
            ]
          }
        },
        "4e7df5b9fafa4ac388da1be19dcae056": {
          "model_module": "@jupyter-widgets/base",
          "model_name": "LayoutModel",
          "state": {
            "_view_name": "LayoutView",
            "grid_template_rows": null,
            "right": null,
            "justify_content": null,
            "_view_module": "@jupyter-widgets/base",
            "overflow": null,
            "_model_module_version": "1.2.0",
            "_view_count": null,
            "flex_flow": null,
            "width": null,
            "min_width": null,
            "border": null,
            "align_items": null,
            "bottom": null,
            "_model_module": "@jupyter-widgets/base",
            "top": null,
            "grid_column": null,
            "overflow_y": null,
            "overflow_x": null,
            "grid_auto_flow": null,
            "grid_area": null,
            "grid_template_columns": null,
            "flex": null,
            "_model_name": "LayoutModel",
            "justify_items": null,
            "grid_row": null,
            "max_height": null,
            "align_content": null,
            "visibility": null,
            "align_self": null,
            "height": null,
            "min_height": null,
            "padding": null,
            "grid_auto_rows": null,
            "grid_gap": null,
            "max_width": null,
            "order": null,
            "_view_module_version": "1.2.0",
            "grid_template_areas": null,
            "object_position": null,
            "object_fit": null,
            "grid_auto_columns": null,
            "margin": null,
            "display": null,
            "left": null
          }
        },
        "bcf4803447d84894b8deedfe64c85c65": {
          "model_module": "@jupyter-widgets/controls",
          "model_name": "FloatProgressModel",
          "state": {
            "_view_name": "ProgressView",
            "style": "IPY_MODEL_01583e8bf90d4fcabf4da636b586922e",
            "_dom_classes": [],
            "description": "Extraction completed...: 100%",
            "_model_name": "FloatProgressModel",
            "bar_style": "success",
            "max": 1,
            "_view_module": "@jupyter-widgets/controls",
            "_model_module_version": "1.5.0",
            "value": 1,
            "_view_count": null,
            "_view_module_version": "1.5.0",
            "orientation": "horizontal",
            "min": 0,
            "description_tooltip": null,
            "_model_module": "@jupyter-widgets/controls",
            "layout": "IPY_MODEL_cb600d99f4a942a694716c56e3c3e5a0"
          }
        },
        "353701ba92fa419b90a9c88d331cc807": {
          "model_module": "@jupyter-widgets/controls",
          "model_name": "HTMLModel",
          "state": {
            "_view_name": "HTMLView",
            "style": "IPY_MODEL_06e89eb94cc64fe2aafc413a925bb854",
            "_dom_classes": [],
            "description": "",
            "_model_name": "HTMLModel",
            "placeholder": "​",
            "_view_module": "@jupyter-widgets/controls",
            "_model_module_version": "1.5.0",
            "value": " 1/1 [00:13&lt;00:00, 13.18s/ file]",
            "_view_count": null,
            "_view_module_version": "1.5.0",
            "description_tooltip": null,
            "_model_module": "@jupyter-widgets/controls",
            "layout": "IPY_MODEL_bb17062811234f44b5e9ba875da45e77"
          }
        },
        "01583e8bf90d4fcabf4da636b586922e": {
          "model_module": "@jupyter-widgets/controls",
          "model_name": "ProgressStyleModel",
          "state": {
            "_view_name": "StyleView",
            "_model_name": "ProgressStyleModel",
            "description_width": "initial",
            "_view_module": "@jupyter-widgets/base",
            "_model_module_version": "1.5.0",
            "_view_count": null,
            "_view_module_version": "1.2.0",
            "bar_color": null,
            "_model_module": "@jupyter-widgets/controls"
          }
        },
        "cb600d99f4a942a694716c56e3c3e5a0": {
          "model_module": "@jupyter-widgets/base",
          "model_name": "LayoutModel",
          "state": {
            "_view_name": "LayoutView",
            "grid_template_rows": null,
            "right": null,
            "justify_content": null,
            "_view_module": "@jupyter-widgets/base",
            "overflow": null,
            "_model_module_version": "1.2.0",
            "_view_count": null,
            "flex_flow": null,
            "width": null,
            "min_width": null,
            "border": null,
            "align_items": null,
            "bottom": null,
            "_model_module": "@jupyter-widgets/base",
            "top": null,
            "grid_column": null,
            "overflow_y": null,
            "overflow_x": null,
            "grid_auto_flow": null,
            "grid_area": null,
            "grid_template_columns": null,
            "flex": null,
            "_model_name": "LayoutModel",
            "justify_items": null,
            "grid_row": null,
            "max_height": null,
            "align_content": null,
            "visibility": null,
            "align_self": null,
            "height": null,
            "min_height": null,
            "padding": null,
            "grid_auto_rows": null,
            "grid_gap": null,
            "max_width": null,
            "order": null,
            "_view_module_version": "1.2.0",
            "grid_template_areas": null,
            "object_position": null,
            "object_fit": null,
            "grid_auto_columns": null,
            "margin": null,
            "display": null,
            "left": null
          }
        },
        "06e89eb94cc64fe2aafc413a925bb854": {
          "model_module": "@jupyter-widgets/controls",
          "model_name": "DescriptionStyleModel",
          "state": {
            "_view_name": "StyleView",
            "_model_name": "DescriptionStyleModel",
            "description_width": "",
            "_view_module": "@jupyter-widgets/base",
            "_model_module_version": "1.5.0",
            "_view_count": null,
            "_view_module_version": "1.2.0",
            "_model_module": "@jupyter-widgets/controls"
          }
        },
        "bb17062811234f44b5e9ba875da45e77": {
          "model_module": "@jupyter-widgets/base",
          "model_name": "LayoutModel",
          "state": {
            "_view_name": "LayoutView",
            "grid_template_rows": null,
            "right": null,
            "justify_content": null,
            "_view_module": "@jupyter-widgets/base",
            "overflow": null,
            "_model_module_version": "1.2.0",
            "_view_count": null,
            "flex_flow": null,
            "width": null,
            "min_width": null,
            "border": null,
            "align_items": null,
            "bottom": null,
            "_model_module": "@jupyter-widgets/base",
            "top": null,
            "grid_column": null,
            "overflow_y": null,
            "overflow_x": null,
            "grid_auto_flow": null,
            "grid_area": null,
            "grid_template_columns": null,
            "flex": null,
            "_model_name": "LayoutModel",
            "justify_items": null,
            "grid_row": null,
            "max_height": null,
            "align_content": null,
            "visibility": null,
            "align_self": null,
            "height": null,
            "min_height": null,
            "padding": null,
            "grid_auto_rows": null,
            "grid_gap": null,
            "max_width": null,
            "order": null,
            "_view_module_version": "1.2.0",
            "grid_template_areas": null,
            "object_position": null,
            "object_fit": null,
            "grid_auto_columns": null,
            "margin": null,
            "display": null,
            "left": null
          }
        },
        "0cd1d3ba1dd74d2f98445758392db6ec": {
          "model_module": "@jupyter-widgets/controls",
          "model_name": "HBoxModel",
          "state": {
            "_view_name": "HBoxView",
            "_dom_classes": [],
            "_model_name": "HBoxModel",
            "_view_module": "@jupyter-widgets/controls",
            "_model_module_version": "1.5.0",
            "_view_count": null,
            "_view_module_version": "1.5.0",
            "box_style": "",
            "layout": "IPY_MODEL_e182dd7451b7464f99ea578854597525",
            "_model_module": "@jupyter-widgets/controls",
            "children": [
              "IPY_MODEL_645e22283c8c4d9081b901dba6185169",
              "IPY_MODEL_78e3b6f820e54bd29df7a1e3102b54bd"
            ]
          }
        },
        "e182dd7451b7464f99ea578854597525": {
          "model_module": "@jupyter-widgets/base",
          "model_name": "LayoutModel",
          "state": {
            "_view_name": "LayoutView",
            "grid_template_rows": null,
            "right": null,
            "justify_content": null,
            "_view_module": "@jupyter-widgets/base",
            "overflow": null,
            "_model_module_version": "1.2.0",
            "_view_count": null,
            "flex_flow": null,
            "width": null,
            "min_width": null,
            "border": null,
            "align_items": null,
            "bottom": null,
            "_model_module": "@jupyter-widgets/base",
            "top": null,
            "grid_column": null,
            "overflow_y": null,
            "overflow_x": null,
            "grid_auto_flow": null,
            "grid_area": null,
            "grid_template_columns": null,
            "flex": null,
            "_model_name": "LayoutModel",
            "justify_items": null,
            "grid_row": null,
            "max_height": null,
            "align_content": null,
            "visibility": null,
            "align_self": null,
            "height": null,
            "min_height": null,
            "padding": null,
            "grid_auto_rows": null,
            "grid_gap": null,
            "max_width": null,
            "order": null,
            "_view_module_version": "1.2.0",
            "grid_template_areas": null,
            "object_position": null,
            "object_fit": null,
            "grid_auto_columns": null,
            "margin": null,
            "display": null,
            "left": null
          }
        },
        "645e22283c8c4d9081b901dba6185169": {
          "model_module": "@jupyter-widgets/controls",
          "model_name": "FloatProgressModel",
          "state": {
            "_view_name": "ProgressView",
            "style": "IPY_MODEL_8d6f1f2d1e7743f7997f6c4a67bc5cb7",
            "_dom_classes": [],
            "description": "",
            "_model_name": "FloatProgressModel",
            "bar_style": "info",
            "max": 1,
            "_view_module": "@jupyter-widgets/controls",
            "_model_module_version": "1.5.0",
            "value": 1,
            "_view_count": null,
            "_view_module_version": "1.5.0",
            "orientation": "horizontal",
            "min": 0,
            "description_tooltip": null,
            "_model_module": "@jupyter-widgets/controls",
            "layout": "IPY_MODEL_0b76d70cc7b84e2ebeeea210ae189ac5"
          }
        },
        "78e3b6f820e54bd29df7a1e3102b54bd": {
          "model_module": "@jupyter-widgets/controls",
          "model_name": "HTMLModel",
          "state": {
            "_view_name": "HTMLView",
            "style": "IPY_MODEL_8558ea86176f4f77922a9b767b477a30",
            "_dom_classes": [],
            "description": "",
            "_model_name": "HTMLModel",
            "placeholder": "​",
            "_view_module": "@jupyter-widgets/controls",
            "_model_module_version": "1.5.0",
            "value": " 27558/0 [00:09&lt;00:00, 2731.40 examples/s]",
            "_view_count": null,
            "_view_module_version": "1.5.0",
            "description_tooltip": null,
            "_model_module": "@jupyter-widgets/controls",
            "layout": "IPY_MODEL_1c7963b3fddb4c6fac1de936488f395a"
          }
        },
        "8d6f1f2d1e7743f7997f6c4a67bc5cb7": {
          "model_module": "@jupyter-widgets/controls",
          "model_name": "ProgressStyleModel",
          "state": {
            "_view_name": "StyleView",
            "_model_name": "ProgressStyleModel",
            "description_width": "initial",
            "_view_module": "@jupyter-widgets/base",
            "_model_module_version": "1.5.0",
            "_view_count": null,
            "_view_module_version": "1.2.0",
            "bar_color": null,
            "_model_module": "@jupyter-widgets/controls"
          }
        },
        "0b76d70cc7b84e2ebeeea210ae189ac5": {
          "model_module": "@jupyter-widgets/base",
          "model_name": "LayoutModel",
          "state": {
            "_view_name": "LayoutView",
            "grid_template_rows": null,
            "right": null,
            "justify_content": null,
            "_view_module": "@jupyter-widgets/base",
            "overflow": null,
            "_model_module_version": "1.2.0",
            "_view_count": null,
            "flex_flow": null,
            "width": null,
            "min_width": null,
            "border": null,
            "align_items": null,
            "bottom": null,
            "_model_module": "@jupyter-widgets/base",
            "top": null,
            "grid_column": null,
            "overflow_y": null,
            "overflow_x": null,
            "grid_auto_flow": null,
            "grid_area": null,
            "grid_template_columns": null,
            "flex": null,
            "_model_name": "LayoutModel",
            "justify_items": null,
            "grid_row": null,
            "max_height": null,
            "align_content": null,
            "visibility": null,
            "align_self": null,
            "height": null,
            "min_height": null,
            "padding": null,
            "grid_auto_rows": null,
            "grid_gap": null,
            "max_width": null,
            "order": null,
            "_view_module_version": "1.2.0",
            "grid_template_areas": null,
            "object_position": null,
            "object_fit": null,
            "grid_auto_columns": null,
            "margin": null,
            "display": null,
            "left": null
          }
        },
        "8558ea86176f4f77922a9b767b477a30": {
          "model_module": "@jupyter-widgets/controls",
          "model_name": "DescriptionStyleModel",
          "state": {
            "_view_name": "StyleView",
            "_model_name": "DescriptionStyleModel",
            "description_width": "",
            "_view_module": "@jupyter-widgets/base",
            "_model_module_version": "1.5.0",
            "_view_count": null,
            "_view_module_version": "1.2.0",
            "_model_module": "@jupyter-widgets/controls"
          }
        },
        "1c7963b3fddb4c6fac1de936488f395a": {
          "model_module": "@jupyter-widgets/base",
          "model_name": "LayoutModel",
          "state": {
            "_view_name": "LayoutView",
            "grid_template_rows": null,
            "right": null,
            "justify_content": null,
            "_view_module": "@jupyter-widgets/base",
            "overflow": null,
            "_model_module_version": "1.2.0",
            "_view_count": null,
            "flex_flow": null,
            "width": null,
            "min_width": null,
            "border": null,
            "align_items": null,
            "bottom": null,
            "_model_module": "@jupyter-widgets/base",
            "top": null,
            "grid_column": null,
            "overflow_y": null,
            "overflow_x": null,
            "grid_auto_flow": null,
            "grid_area": null,
            "grid_template_columns": null,
            "flex": null,
            "_model_name": "LayoutModel",
            "justify_items": null,
            "grid_row": null,
            "max_height": null,
            "align_content": null,
            "visibility": null,
            "align_self": null,
            "height": null,
            "min_height": null,
            "padding": null,
            "grid_auto_rows": null,
            "grid_gap": null,
            "max_width": null,
            "order": null,
            "_view_module_version": "1.2.0",
            "grid_template_areas": null,
            "object_position": null,
            "object_fit": null,
            "grid_auto_columns": null,
            "margin": null,
            "display": null,
            "left": null
          }
        },
        "73a0ee47ab2a4f9f9fe160d901a3aa47": {
          "model_module": "@jupyter-widgets/controls",
          "model_name": "HBoxModel",
          "state": {
            "_view_name": "HBoxView",
            "_dom_classes": [],
            "_model_name": "HBoxModel",
            "_view_module": "@jupyter-widgets/controls",
            "_model_module_version": "1.5.0",
            "_view_count": null,
            "_view_module_version": "1.5.0",
            "box_style": "",
            "layout": "IPY_MODEL_3393b45012be4a99aa69f00507d654c1",
            "_model_module": "@jupyter-widgets/controls",
            "children": [
              "IPY_MODEL_b3c1dc28d48342eeabcc10c847023ebd",
              "IPY_MODEL_cedc522d27f24be58fea368900bfe447"
            ]
          }
        },
        "3393b45012be4a99aa69f00507d654c1": {
          "model_module": "@jupyter-widgets/base",
          "model_name": "LayoutModel",
          "state": {
            "_view_name": "LayoutView",
            "grid_template_rows": null,
            "right": null,
            "justify_content": null,
            "_view_module": "@jupyter-widgets/base",
            "overflow": null,
            "_model_module_version": "1.2.0",
            "_view_count": null,
            "flex_flow": null,
            "width": null,
            "min_width": null,
            "border": null,
            "align_items": null,
            "bottom": null,
            "_model_module": "@jupyter-widgets/base",
            "top": null,
            "grid_column": null,
            "overflow_y": null,
            "overflow_x": null,
            "grid_auto_flow": null,
            "grid_area": null,
            "grid_template_columns": null,
            "flex": null,
            "_model_name": "LayoutModel",
            "justify_items": null,
            "grid_row": null,
            "max_height": null,
            "align_content": null,
            "visibility": null,
            "align_self": null,
            "height": null,
            "min_height": null,
            "padding": null,
            "grid_auto_rows": null,
            "grid_gap": null,
            "max_width": null,
            "order": null,
            "_view_module_version": "1.2.0",
            "grid_template_areas": null,
            "object_position": null,
            "object_fit": null,
            "grid_auto_columns": null,
            "margin": null,
            "display": null,
            "left": null
          }
        },
        "b3c1dc28d48342eeabcc10c847023ebd": {
          "model_module": "@jupyter-widgets/controls",
          "model_name": "FloatProgressModel",
          "state": {
            "_view_name": "ProgressView",
            "style": "IPY_MODEL_d37c1169e9634f98ad0bca7e3293633d",
            "_dom_classes": [],
            "description": " 89%",
            "_model_name": "FloatProgressModel",
            "bar_style": "danger",
            "max": 27558,
            "_view_module": "@jupyter-widgets/controls",
            "_model_module_version": "1.5.0",
            "value": 24599,
            "_view_count": null,
            "_view_module_version": "1.5.0",
            "orientation": "horizontal",
            "min": 0,
            "description_tooltip": null,
            "_model_module": "@jupyter-widgets/controls",
            "layout": "IPY_MODEL_ec5c8f36f679419db79f28a32ea947de"
          }
        },
        "cedc522d27f24be58fea368900bfe447": {
          "model_module": "@jupyter-widgets/controls",
          "model_name": "HTMLModel",
          "state": {
            "_view_name": "HTMLView",
            "style": "IPY_MODEL_e956e91be6e94fcaa6728b6e62158414",
            "_dom_classes": [],
            "description": "",
            "_model_name": "HTMLModel",
            "placeholder": "​",
            "_view_module": "@jupyter-widgets/controls",
            "_model_module_version": "1.5.0",
            "value": " 24599/27558 [00:00&lt;00:00, 28942.55 examples/s]",
            "_view_count": null,
            "_view_module_version": "1.5.0",
            "description_tooltip": null,
            "_model_module": "@jupyter-widgets/controls",
            "layout": "IPY_MODEL_8f102d253fe841a09af03abf90a63967"
          }
        },
        "d37c1169e9634f98ad0bca7e3293633d": {
          "model_module": "@jupyter-widgets/controls",
          "model_name": "ProgressStyleModel",
          "state": {
            "_view_name": "StyleView",
            "_model_name": "ProgressStyleModel",
            "description_width": "initial",
            "_view_module": "@jupyter-widgets/base",
            "_model_module_version": "1.5.0",
            "_view_count": null,
            "_view_module_version": "1.2.0",
            "bar_color": null,
            "_model_module": "@jupyter-widgets/controls"
          }
        },
        "ec5c8f36f679419db79f28a32ea947de": {
          "model_module": "@jupyter-widgets/base",
          "model_name": "LayoutModel",
          "state": {
            "_view_name": "LayoutView",
            "grid_template_rows": null,
            "right": null,
            "justify_content": null,
            "_view_module": "@jupyter-widgets/base",
            "overflow": null,
            "_model_module_version": "1.2.0",
            "_view_count": null,
            "flex_flow": null,
            "width": null,
            "min_width": null,
            "border": null,
            "align_items": null,
            "bottom": null,
            "_model_module": "@jupyter-widgets/base",
            "top": null,
            "grid_column": null,
            "overflow_y": null,
            "overflow_x": null,
            "grid_auto_flow": null,
            "grid_area": null,
            "grid_template_columns": null,
            "flex": null,
            "_model_name": "LayoutModel",
            "justify_items": null,
            "grid_row": null,
            "max_height": null,
            "align_content": null,
            "visibility": null,
            "align_self": null,
            "height": null,
            "min_height": null,
            "padding": null,
            "grid_auto_rows": null,
            "grid_gap": null,
            "max_width": null,
            "order": null,
            "_view_module_version": "1.2.0",
            "grid_template_areas": null,
            "object_position": null,
            "object_fit": null,
            "grid_auto_columns": null,
            "margin": null,
            "display": null,
            "left": null
          }
        },
        "e956e91be6e94fcaa6728b6e62158414": {
          "model_module": "@jupyter-widgets/controls",
          "model_name": "DescriptionStyleModel",
          "state": {
            "_view_name": "StyleView",
            "_model_name": "DescriptionStyleModel",
            "description_width": "",
            "_view_module": "@jupyter-widgets/base",
            "_model_module_version": "1.5.0",
            "_view_count": null,
            "_view_module_version": "1.2.0",
            "_model_module": "@jupyter-widgets/controls"
          }
        },
        "8f102d253fe841a09af03abf90a63967": {
          "model_module": "@jupyter-widgets/base",
          "model_name": "LayoutModel",
          "state": {
            "_view_name": "LayoutView",
            "grid_template_rows": null,
            "right": null,
            "justify_content": null,
            "_view_module": "@jupyter-widgets/base",
            "overflow": null,
            "_model_module_version": "1.2.0",
            "_view_count": null,
            "flex_flow": null,
            "width": null,
            "min_width": null,
            "border": null,
            "align_items": null,
            "bottom": null,
            "_model_module": "@jupyter-widgets/base",
            "top": null,
            "grid_column": null,
            "overflow_y": null,
            "overflow_x": null,
            "grid_auto_flow": null,
            "grid_area": null,
            "grid_template_columns": null,
            "flex": null,
            "_model_name": "LayoutModel",
            "justify_items": null,
            "grid_row": null,
            "max_height": null,
            "align_content": null,
            "visibility": null,
            "align_self": null,
            "height": null,
            "min_height": null,
            "padding": null,
            "grid_auto_rows": null,
            "grid_gap": null,
            "max_width": null,
            "order": null,
            "_view_module_version": "1.2.0",
            "grid_template_areas": null,
            "object_position": null,
            "object_fit": null,
            "grid_auto_columns": null,
            "margin": null,
            "display": null,
            "left": null
          }
        },
        "8cc0c81d1f54464eb4668fe3e64aeeba": {
          "model_module": "@jupyter-widgets/controls",
          "model_name": "HBoxModel",
          "state": {
            "_view_name": "HBoxView",
            "_dom_classes": [],
            "_model_name": "HBoxModel",
            "_view_module": "@jupyter-widgets/controls",
            "_model_module_version": "1.5.0",
            "_view_count": null,
            "_view_module_version": "1.5.0",
            "box_style": "",
            "layout": "IPY_MODEL_69e0bbf660c14691873bd2809f290be7",
            "_model_module": "@jupyter-widgets/controls",
            "children": [
              "IPY_MODEL_3e98141c909d4463835c530846502760",
              "IPY_MODEL_2dc78bf5fe0a4c02b75af9e5b2a6a0dc"
            ]
          }
        },
        "69e0bbf660c14691873bd2809f290be7": {
          "model_module": "@jupyter-widgets/base",
          "model_name": "LayoutModel",
          "state": {
            "_view_name": "LayoutView",
            "grid_template_rows": null,
            "right": null,
            "justify_content": null,
            "_view_module": "@jupyter-widgets/base",
            "overflow": null,
            "_model_module_version": "1.2.0",
            "_view_count": null,
            "flex_flow": null,
            "width": null,
            "min_width": null,
            "border": null,
            "align_items": null,
            "bottom": null,
            "_model_module": "@jupyter-widgets/base",
            "top": null,
            "grid_column": null,
            "overflow_y": null,
            "overflow_x": null,
            "grid_auto_flow": null,
            "grid_area": null,
            "grid_template_columns": null,
            "flex": null,
            "_model_name": "LayoutModel",
            "justify_items": null,
            "grid_row": null,
            "max_height": null,
            "align_content": null,
            "visibility": null,
            "align_self": null,
            "height": null,
            "min_height": null,
            "padding": null,
            "grid_auto_rows": null,
            "grid_gap": null,
            "max_width": null,
            "order": null,
            "_view_module_version": "1.2.0",
            "grid_template_areas": null,
            "object_position": null,
            "object_fit": null,
            "grid_auto_columns": null,
            "margin": null,
            "display": null,
            "left": null
          }
        },
        "3e98141c909d4463835c530846502760": {
          "model_module": "@jupyter-widgets/controls",
          "model_name": "FloatProgressModel",
          "state": {
            "_view_name": "ProgressView",
            "style": "IPY_MODEL_d8070f6d74844ae197c0f8ef6a82c053",
            "_dom_classes": [],
            "description": "Computing statistics...: 100%",
            "_model_name": "FloatProgressModel",
            "bar_style": "success",
            "max": 1,
            "_view_module": "@jupyter-widgets/controls",
            "_model_module_version": "1.5.0",
            "value": 1,
            "_view_count": null,
            "_view_module_version": "1.5.0",
            "orientation": "horizontal",
            "min": 0,
            "description_tooltip": null,
            "_model_module": "@jupyter-widgets/controls",
            "layout": "IPY_MODEL_5338e467fcfb4df28e4ce1127f4dba3c"
          }
        },
        "2dc78bf5fe0a4c02b75af9e5b2a6a0dc": {
          "model_module": "@jupyter-widgets/controls",
          "model_name": "HTMLModel",
          "state": {
            "_view_name": "HTMLView",
            "style": "IPY_MODEL_5e00e35ca6b44b27bf89fc898a6866de",
            "_dom_classes": [],
            "description": "",
            "_model_name": "HTMLModel",
            "placeholder": "​",
            "_view_module": "@jupyter-widgets/controls",
            "_model_module_version": "1.5.0",
            "value": " 1/1 [00:50&lt;00:00, 50.19s/ split]",
            "_view_count": null,
            "_view_module_version": "1.5.0",
            "description_tooltip": null,
            "_model_module": "@jupyter-widgets/controls",
            "layout": "IPY_MODEL_b0455799d03a49bd8a18b3b29fc5d93b"
          }
        },
        "d8070f6d74844ae197c0f8ef6a82c053": {
          "model_module": "@jupyter-widgets/controls",
          "model_name": "ProgressStyleModel",
          "state": {
            "_view_name": "StyleView",
            "_model_name": "ProgressStyleModel",
            "description_width": "initial",
            "_view_module": "@jupyter-widgets/base",
            "_model_module_version": "1.5.0",
            "_view_count": null,
            "_view_module_version": "1.2.0",
            "bar_color": null,
            "_model_module": "@jupyter-widgets/controls"
          }
        },
        "5338e467fcfb4df28e4ce1127f4dba3c": {
          "model_module": "@jupyter-widgets/base",
          "model_name": "LayoutModel",
          "state": {
            "_view_name": "LayoutView",
            "grid_template_rows": null,
            "right": null,
            "justify_content": null,
            "_view_module": "@jupyter-widgets/base",
            "overflow": null,
            "_model_module_version": "1.2.0",
            "_view_count": null,
            "flex_flow": null,
            "width": null,
            "min_width": null,
            "border": null,
            "align_items": null,
            "bottom": null,
            "_model_module": "@jupyter-widgets/base",
            "top": null,
            "grid_column": null,
            "overflow_y": null,
            "overflow_x": null,
            "grid_auto_flow": null,
            "grid_area": null,
            "grid_template_columns": null,
            "flex": null,
            "_model_name": "LayoutModel",
            "justify_items": null,
            "grid_row": null,
            "max_height": null,
            "align_content": null,
            "visibility": null,
            "align_self": null,
            "height": null,
            "min_height": null,
            "padding": null,
            "grid_auto_rows": null,
            "grid_gap": null,
            "max_width": null,
            "order": null,
            "_view_module_version": "1.2.0",
            "grid_template_areas": null,
            "object_position": null,
            "object_fit": null,
            "grid_auto_columns": null,
            "margin": null,
            "display": null,
            "left": null
          }
        },
        "5e00e35ca6b44b27bf89fc898a6866de": {
          "model_module": "@jupyter-widgets/controls",
          "model_name": "DescriptionStyleModel",
          "state": {
            "_view_name": "StyleView",
            "_model_name": "DescriptionStyleModel",
            "description_width": "",
            "_view_module": "@jupyter-widgets/base",
            "_model_module_version": "1.5.0",
            "_view_count": null,
            "_view_module_version": "1.2.0",
            "_model_module": "@jupyter-widgets/controls"
          }
        },
        "b0455799d03a49bd8a18b3b29fc5d93b": {
          "model_module": "@jupyter-widgets/base",
          "model_name": "LayoutModel",
          "state": {
            "_view_name": "LayoutView",
            "grid_template_rows": null,
            "right": null,
            "justify_content": null,
            "_view_module": "@jupyter-widgets/base",
            "overflow": null,
            "_model_module_version": "1.2.0",
            "_view_count": null,
            "flex_flow": null,
            "width": null,
            "min_width": null,
            "border": null,
            "align_items": null,
            "bottom": null,
            "_model_module": "@jupyter-widgets/base",
            "top": null,
            "grid_column": null,
            "overflow_y": null,
            "overflow_x": null,
            "grid_auto_flow": null,
            "grid_area": null,
            "grid_template_columns": null,
            "flex": null,
            "_model_name": "LayoutModel",
            "justify_items": null,
            "grid_row": null,
            "max_height": null,
            "align_content": null,
            "visibility": null,
            "align_self": null,
            "height": null,
            "min_height": null,
            "padding": null,
            "grid_auto_rows": null,
            "grid_gap": null,
            "max_width": null,
            "order": null,
            "_view_module_version": "1.2.0",
            "grid_template_areas": null,
            "object_position": null,
            "object_fit": null,
            "grid_auto_columns": null,
            "margin": null,
            "display": null,
            "left": null
          }
        },
        "959cbdf31f01479f8c481d302c5aa028": {
          "model_module": "@jupyter-widgets/controls",
          "model_name": "HBoxModel",
          "state": {
            "_view_name": "HBoxView",
            "_dom_classes": [],
            "_model_name": "HBoxModel",
            "_view_module": "@jupyter-widgets/controls",
            "_model_module_version": "1.5.0",
            "_view_count": null,
            "_view_module_version": "1.5.0",
            "box_style": "",
            "layout": "IPY_MODEL_c29be1c283ee4688a5e67c77250e98fb",
            "_model_module": "@jupyter-widgets/controls",
            "children": [
              "IPY_MODEL_71572360a7604deaa84dae8aa276e62d",
              "IPY_MODEL_9db9bbf37d07484eb7ff5042b784c7ab"
            ]
          }
        },
        "c29be1c283ee4688a5e67c77250e98fb": {
          "model_module": "@jupyter-widgets/base",
          "model_name": "LayoutModel",
          "state": {
            "_view_name": "LayoutView",
            "grid_template_rows": null,
            "right": null,
            "justify_content": null,
            "_view_module": "@jupyter-widgets/base",
            "overflow": null,
            "_model_module_version": "1.2.0",
            "_view_count": null,
            "flex_flow": null,
            "width": null,
            "min_width": null,
            "border": null,
            "align_items": null,
            "bottom": null,
            "_model_module": "@jupyter-widgets/base",
            "top": null,
            "grid_column": null,
            "overflow_y": null,
            "overflow_x": null,
            "grid_auto_flow": null,
            "grid_area": null,
            "grid_template_columns": null,
            "flex": null,
            "_model_name": "LayoutModel",
            "justify_items": null,
            "grid_row": null,
            "max_height": null,
            "align_content": null,
            "visibility": null,
            "align_self": null,
            "height": null,
            "min_height": null,
            "padding": null,
            "grid_auto_rows": null,
            "grid_gap": null,
            "max_width": null,
            "order": null,
            "_view_module_version": "1.2.0",
            "grid_template_areas": null,
            "object_position": null,
            "object_fit": null,
            "grid_auto_columns": null,
            "margin": null,
            "display": null,
            "left": null
          }
        },
        "71572360a7604deaa84dae8aa276e62d": {
          "model_module": "@jupyter-widgets/controls",
          "model_name": "FloatProgressModel",
          "state": {
            "_view_name": "ProgressView",
            "style": "IPY_MODEL_f9d2d476fc4441c7906ca57c66179cc1",
            "_dom_classes": [],
            "description": "",
            "_model_name": "FloatProgressModel",
            "bar_style": "info",
            "max": 1,
            "_view_module": "@jupyter-widgets/controls",
            "_model_module_version": "1.5.0",
            "value": 1,
            "_view_count": null,
            "_view_module_version": "1.5.0",
            "orientation": "horizontal",
            "min": 0,
            "description_tooltip": null,
            "_model_module": "@jupyter-widgets/controls",
            "layout": "IPY_MODEL_28f5b3d697894eb3a44b36064b860a13"
          }
        },
        "9db9bbf37d07484eb7ff5042b784c7ab": {
          "model_module": "@jupyter-widgets/controls",
          "model_name": "HTMLModel",
          "state": {
            "_view_name": "HTMLView",
            "style": "IPY_MODEL_0daae13174534fa4befd66f307a27aec",
            "_dom_classes": [],
            "description": "",
            "_model_name": "HTMLModel",
            "placeholder": "​",
            "_view_module": "@jupyter-widgets/controls",
            "_model_module_version": "1.5.0",
            "value": " 27558/? [00:22&lt;00:00, 1440.71 examples/s]",
            "_view_count": null,
            "_view_module_version": "1.5.0",
            "description_tooltip": null,
            "_model_module": "@jupyter-widgets/controls",
            "layout": "IPY_MODEL_a81baac7a57f4b3ab06c0906878d0e91"
          }
        },
        "f9d2d476fc4441c7906ca57c66179cc1": {
          "model_module": "@jupyter-widgets/controls",
          "model_name": "ProgressStyleModel",
          "state": {
            "_view_name": "StyleView",
            "_model_name": "ProgressStyleModel",
            "description_width": "initial",
            "_view_module": "@jupyter-widgets/base",
            "_model_module_version": "1.5.0",
            "_view_count": null,
            "_view_module_version": "1.2.0",
            "bar_color": null,
            "_model_module": "@jupyter-widgets/controls"
          }
        },
        "28f5b3d697894eb3a44b36064b860a13": {
          "model_module": "@jupyter-widgets/base",
          "model_name": "LayoutModel",
          "state": {
            "_view_name": "LayoutView",
            "grid_template_rows": null,
            "right": null,
            "justify_content": null,
            "_view_module": "@jupyter-widgets/base",
            "overflow": null,
            "_model_module_version": "1.2.0",
            "_view_count": null,
            "flex_flow": null,
            "width": null,
            "min_width": null,
            "border": null,
            "align_items": null,
            "bottom": null,
            "_model_module": "@jupyter-widgets/base",
            "top": null,
            "grid_column": null,
            "overflow_y": null,
            "overflow_x": null,
            "grid_auto_flow": null,
            "grid_area": null,
            "grid_template_columns": null,
            "flex": null,
            "_model_name": "LayoutModel",
            "justify_items": null,
            "grid_row": null,
            "max_height": null,
            "align_content": null,
            "visibility": null,
            "align_self": null,
            "height": null,
            "min_height": null,
            "padding": null,
            "grid_auto_rows": null,
            "grid_gap": null,
            "max_width": null,
            "order": null,
            "_view_module_version": "1.2.0",
            "grid_template_areas": null,
            "object_position": null,
            "object_fit": null,
            "grid_auto_columns": null,
            "margin": null,
            "display": null,
            "left": null
          }
        },
        "0daae13174534fa4befd66f307a27aec": {
          "model_module": "@jupyter-widgets/controls",
          "model_name": "DescriptionStyleModel",
          "state": {
            "_view_name": "StyleView",
            "_model_name": "DescriptionStyleModel",
            "description_width": "",
            "_view_module": "@jupyter-widgets/base",
            "_model_module_version": "1.5.0",
            "_view_count": null,
            "_view_module_version": "1.2.0",
            "_model_module": "@jupyter-widgets/controls"
          }
        },
        "a81baac7a57f4b3ab06c0906878d0e91": {
          "model_module": "@jupyter-widgets/base",
          "model_name": "LayoutModel",
          "state": {
            "_view_name": "LayoutView",
            "grid_template_rows": null,
            "right": null,
            "justify_content": null,
            "_view_module": "@jupyter-widgets/base",
            "overflow": null,
            "_model_module_version": "1.2.0",
            "_view_count": null,
            "flex_flow": null,
            "width": null,
            "min_width": null,
            "border": null,
            "align_items": null,
            "bottom": null,
            "_model_module": "@jupyter-widgets/base",
            "top": null,
            "grid_column": null,
            "overflow_y": null,
            "overflow_x": null,
            "grid_auto_flow": null,
            "grid_area": null,
            "grid_template_columns": null,
            "flex": null,
            "_model_name": "LayoutModel",
            "justify_items": null,
            "grid_row": null,
            "max_height": null,
            "align_content": null,
            "visibility": null,
            "align_self": null,
            "height": null,
            "min_height": null,
            "padding": null,
            "grid_auto_rows": null,
            "grid_gap": null,
            "max_width": null,
            "order": null,
            "_view_module_version": "1.2.0",
            "grid_template_areas": null,
            "object_position": null,
            "object_fit": null,
            "grid_auto_columns": null,
            "margin": null,
            "display": null,
            "left": null
          }
        }
      }
    }
  },
  "cells": [
    {
      "cell_type": "markdown",
      "metadata": {
        "id": "view-in-github",
        "colab_type": "text"
      },
      "source": [
        "<a href=\"https://colab.research.google.com/github/nestorsgarzonc/Data-Science-Proyects/blob/master/malaria_detection.ipynb\" target=\"_parent\"><img src=\"https://colab.research.google.com/assets/colab-badge.svg\" alt=\"Open In Colab\"/></a>"
      ]
    },
    {
      "cell_type": "markdown",
      "metadata": {
        "id": "5wSiGqH_C8LK",
        "colab_type": "text"
      },
      "source": [
        "### Import Libraries"
      ]
    },
    {
      "cell_type": "code",
      "metadata": {
        "id": "NQ601KPyCyNi",
        "colab_type": "code",
        "colab": {}
      },
      "source": [
        "import numpy as np\n",
        "import matplotlib.pyplot as plt\n",
        "import tensorflow as tf\n",
        "import tensorflow_datasets as tfds"
      ],
      "execution_count": 0,
      "outputs": []
    },
    {
      "cell_type": "markdown",
      "metadata": {
        "id": "mJJEMIokDmF2",
        "colab_type": "text"
      },
      "source": [
        "### Load data"
      ]
    },
    {
      "cell_type": "code",
      "metadata": {
        "id": "Rzlh-o93Dj8x",
        "colab_type": "code",
        "outputId": "07bf5b32-ac0d-4d47-e06a-562f5c00cf53",
        "colab": {
          "base_uri": "https://localhost:8080/",
          "height": 567
        }
      },
      "source": [
        "ds_builder=tfds.builder(name='malaria')\n",
        "print(ds_builder.info)"
      ],
      "execution_count": 0,
      "outputs": [
        {
          "output_type": "stream",
          "text": [
            "tfds.core.DatasetInfo(\n",
            "    name='malaria',\n",
            "    version=1.0.0,\n",
            "    description='The Malaria dataset contains a total of 27,558 cell images\n",
            "with equal instances of parasitized and uninfected cells from the thin blood \n",
            "smear slide images of segmented cells.',\n",
            "    homepage='https://lhncbc.nlm.nih.gov/publication/pub9932',\n",
            "    features=FeaturesDict({\n",
            "        'image': Image(shape=(None, None, 3), dtype=tf.uint8),\n",
            "        'label': ClassLabel(shape=(), dtype=tf.int64, num_classes=2),\n",
            "    }),\n",
            "    total_num_examples=27558,\n",
            "    splits={\n",
            "        'train': 27558,\n",
            "    },\n",
            "    supervised_keys=('image', 'label'),\n",
            "    citation=\"\"\"@article{rajaraman2018pre,\n",
            "      title={Pre-trained convolutional neural networks as feature extractors toward \n",
            "      improved malaria parasite detection in thin blood smear images},\n",
            "      author={Rajaraman, Sivaramakrishnan and Antani, Sameer K and Poostchi, Mahdieh\n",
            "      and Silamut, Kamolrat and Hossain, Md A and Maude, Richard J and Jaeger, \n",
            "      Stefan and Thoma, George R},\n",
            "      journal={PeerJ},\n",
            "      volume={6},\n",
            "      pages={e4568},\n",
            "      year={2018},\n",
            "      publisher={PeerJ Inc.}\n",
            "    }\"\"\",\n",
            "    redistribution_info=,\n",
            ")\n",
            "\n"
          ],
          "name": "stdout"
        }
      ]
    },
    {
      "cell_type": "code",
      "metadata": {
        "id": "Sdz_O20pDuxe",
        "colab_type": "code",
        "outputId": "0eaf73b2-56c4-4a20-f785-06d4133451c2",
        "colab": {
          "base_uri": "https://localhost:8080/",
          "height": 410,
          "referenced_widgets": [
            "f79e1dee556544cfb875121aef27c376",
            "3e57e7591462419395966022a00f3492",
            "363adaa5bf3643d8a925453c60e20b77",
            "983fb7768bfc4af1ab2784cb97246931",
            "2ed1c4121841437f8317486bbd8d02f6",
            "46e7c84750f146419a7b7e94d67263c8",
            "3d6fbd4aeb4c4762a1ae335d366a5503",
            "1b718f447be848248c8c93c9c69f6244",
            "e1d2814c9b72448f987b71f558a2f4cb",
            "534d52c5aeb844a7b86f4dadbeb5b14f",
            "4e415db71c68415a9110e0721681e8d4",
            "89f9120489cd4ac8b8c84a65c7b38822",
            "5e46c33c819041cfa50376e81254ac39",
            "50ab3fb0afeb4261983383f8b95529e6",
            "d45b48af493840f4b767d09e97fb6c55",
            "bbfe2e6d491b4cf1864f1388a32b8aa1",
            "ea80d6e88f6b493aa0feb35fcaa70124",
            "4e7df5b9fafa4ac388da1be19dcae056",
            "bcf4803447d84894b8deedfe64c85c65",
            "353701ba92fa419b90a9c88d331cc807",
            "01583e8bf90d4fcabf4da636b586922e",
            "cb600d99f4a942a694716c56e3c3e5a0",
            "06e89eb94cc64fe2aafc413a925bb854",
            "bb17062811234f44b5e9ba875da45e77",
            "0cd1d3ba1dd74d2f98445758392db6ec",
            "e182dd7451b7464f99ea578854597525",
            "645e22283c8c4d9081b901dba6185169",
            "78e3b6f820e54bd29df7a1e3102b54bd",
            "8d6f1f2d1e7743f7997f6c4a67bc5cb7",
            "0b76d70cc7b84e2ebeeea210ae189ac5",
            "8558ea86176f4f77922a9b767b477a30",
            "1c7963b3fddb4c6fac1de936488f395a",
            "73a0ee47ab2a4f9f9fe160d901a3aa47",
            "3393b45012be4a99aa69f00507d654c1",
            "b3c1dc28d48342eeabcc10c847023ebd",
            "cedc522d27f24be58fea368900bfe447",
            "d37c1169e9634f98ad0bca7e3293633d",
            "ec5c8f36f679419db79f28a32ea947de",
            "e956e91be6e94fcaa6728b6e62158414",
            "8f102d253fe841a09af03abf90a63967",
            "8cc0c81d1f54464eb4668fe3e64aeeba",
            "69e0bbf660c14691873bd2809f290be7",
            "3e98141c909d4463835c530846502760",
            "2dc78bf5fe0a4c02b75af9e5b2a6a0dc",
            "d8070f6d74844ae197c0f8ef6a82c053",
            "5338e467fcfb4df28e4ce1127f4dba3c",
            "5e00e35ca6b44b27bf89fc898a6866de",
            "b0455799d03a49bd8a18b3b29fc5d93b",
            "959cbdf31f01479f8c481d302c5aa028",
            "c29be1c283ee4688a5e67c77250e98fb",
            "71572360a7604deaa84dae8aa276e62d",
            "9db9bbf37d07484eb7ff5042b784c7ab",
            "f9d2d476fc4441c7906ca57c66179cc1",
            "28f5b3d697894eb3a44b36064b860a13",
            "0daae13174534fa4befd66f307a27aec",
            "a81baac7a57f4b3ab06c0906878d0e91"
          ]
        }
      },
      "source": [
        "ds=tfds.load(name='malaria', split='train')\n",
        "ds_numpy=tfds.as_numpy(ds)"
      ],
      "execution_count": 0,
      "outputs": [
        {
          "output_type": "stream",
          "text": [
            "\u001b[1mDownloading and preparing dataset malaria/1.0.0 (download: 337.08 MiB, generated: Unknown size, total: 337.08 MiB) to /root/tensorflow_datasets/malaria/1.0.0...\u001b[0m\n"
          ],
          "name": "stdout"
        },
        {
          "output_type": "display_data",
          "data": {
            "application/vnd.jupyter.widget-view+json": {
              "model_id": "f79e1dee556544cfb875121aef27c376",
              "version_minor": 0,
              "version_major": 2
            },
            "text/plain": [
              "HBox(children=(FloatProgress(value=1.0, bar_style='info', description='Dl Completed...', max=1.0, style=Progre…"
            ]
          },
          "metadata": {
            "tags": []
          }
        },
        {
          "output_type": "display_data",
          "data": {
            "application/vnd.jupyter.widget-view+json": {
              "model_id": "e1d2814c9b72448f987b71f558a2f4cb",
              "version_minor": 0,
              "version_major": 2
            },
            "text/plain": [
              "HBox(children=(FloatProgress(value=1.0, bar_style='info', description='Dl Size...', max=1.0, style=ProgressSty…"
            ]
          },
          "metadata": {
            "tags": []
          }
        },
        {
          "output_type": "display_data",
          "data": {
            "application/vnd.jupyter.widget-view+json": {
              "model_id": "ea80d6e88f6b493aa0feb35fcaa70124",
              "version_minor": 0,
              "version_major": 2
            },
            "text/plain": [
              "HBox(children=(FloatProgress(value=1.0, bar_style='info', description='Extraction completed...', max=1.0, styl…"
            ]
          },
          "metadata": {
            "tags": []
          }
        },
        {
          "output_type": "stream",
          "text": [
            "/usr/local/lib/python3.6/dist-packages/urllib3/connectionpool.py:847: InsecureRequestWarning: Unverified HTTPS request is being made. Adding certificate verification is strongly advised. See: https://urllib3.readthedocs.io/en/latest/advanced-usage.html#ssl-warnings\n",
            "  InsecureRequestWarning)\n"
          ],
          "name": "stderr"
        },
        {
          "output_type": "stream",
          "text": [
            "\n",
            "\n",
            "\n",
            "\n",
            "\n",
            "\n"
          ],
          "name": "stdout"
        },
        {
          "output_type": "display_data",
          "data": {
            "application/vnd.jupyter.widget-view+json": {
              "model_id": "0cd1d3ba1dd74d2f98445758392db6ec",
              "version_minor": 0,
              "version_major": 2
            },
            "text/plain": [
              "HBox(children=(FloatProgress(value=1.0, bar_style='info', max=1.0), HTML(value='')))"
            ]
          },
          "metadata": {
            "tags": []
          }
        },
        {
          "output_type": "stream",
          "text": [
            "\rShuffling and writing examples to /root/tensorflow_datasets/malaria/1.0.0.incompleteWWR3ZO/malaria-train.tfrecord\n"
          ],
          "name": "stdout"
        },
        {
          "output_type": "display_data",
          "data": {
            "application/vnd.jupyter.widget-view+json": {
              "model_id": "73a0ee47ab2a4f9f9fe160d901a3aa47",
              "version_minor": 0,
              "version_major": 2
            },
            "text/plain": [
              "HBox(children=(FloatProgress(value=0.0, max=27558.0), HTML(value='')))"
            ]
          },
          "metadata": {
            "tags": []
          }
        },
        {
          "output_type": "display_data",
          "data": {
            "application/vnd.jupyter.widget-view+json": {
              "model_id": "8cc0c81d1f54464eb4668fe3e64aeeba",
              "version_minor": 0,
              "version_major": 2
            },
            "text/plain": [
              "HBox(children=(FloatProgress(value=0.0, description='Computing statistics...', max=1.0, style=ProgressStyle(de…"
            ]
          },
          "metadata": {
            "tags": []
          }
        },
        {
          "output_type": "stream",
          "text": [
            "\r"
          ],
          "name": "stdout"
        },
        {
          "output_type": "display_data",
          "data": {
            "application/vnd.jupyter.widget-view+json": {
              "model_id": "959cbdf31f01479f8c481d302c5aa028",
              "version_minor": 0,
              "version_major": 2
            },
            "text/plain": [
              "HBox(children=(FloatProgress(value=1.0, bar_style='info', max=1.0), HTML(value='')))"
            ]
          },
          "metadata": {
            "tags": []
          }
        },
        {
          "output_type": "stream",
          "text": [
            "\r\n",
            "\u001b[1mDataset malaria downloaded and prepared to /root/tensorflow_datasets/malaria/1.0.0. Subsequent calls will reuse this data.\u001b[0m\n"
          ],
          "name": "stdout"
        }
      ]
    },
    {
      "cell_type": "code",
      "metadata": {
        "id": "EsMXjSFMjUv7",
        "colab_type": "code",
        "colab": {}
      },
      "source": [
        "x = []\n",
        "y = []\n",
        "for ex in ds_numpy:\n",
        "  # `{'image': np.array(shape=(None, None, 1)), 'label': np.array(shape=())}`\n",
        "  x.append(ex['image'])\n",
        "  y.append(ex['label'])\n",
        "\n",
        "# And transform them into numpy arrays\n",
        "x, y = np.asarray(x), np.asarray(y)"
      ],
      "execution_count": 0,
      "outputs": []
    },
    {
      "cell_type": "code",
      "metadata": {
        "id": "jQYEh91hkBej",
        "colab_type": "code",
        "colab": {}
      },
      "source": [
        "#Liberar memoria\n",
        "del ds_numpy\n",
        "del ds"
      ],
      "execution_count": 0,
      "outputs": []
    },
    {
      "cell_type": "code",
      "metadata": {
        "id": "YbO5jkuWkqy-",
        "colab_type": "code",
        "outputId": "5edccafd-fe42-4d8b-faf5-2d9672087d4e",
        "colab": {
          "base_uri": "https://localhost:8080/",
          "height": 34
        }
      },
      "source": [
        "print(x.shape, y.shape)"
      ],
      "execution_count": 0,
      "outputs": [
        {
          "output_type": "stream",
          "text": [
            "(27558,) (27558,)\n"
          ],
          "name": "stdout"
        }
      ]
    },
    {
      "cell_type": "markdown",
      "metadata": {
        "id": "bCp5xKPRmMhv",
        "colab_type": "text"
      },
      "source": [
        "### EDA (Exploratory Data Analysis)"
      ]
    },
    {
      "cell_type": "code",
      "metadata": {
        "id": "Zc2RHDknktz4",
        "colab_type": "code",
        "outputId": "919d0ee3-7b57-4b38-f5eb-0942c1550f13",
        "colab": {
          "base_uri": "https://localhost:8080/",
          "height": 34
        }
      },
      "source": [
        "#Imagenes\n",
        "x.shape"
      ],
      "execution_count": 0,
      "outputs": [
        {
          "output_type": "execute_result",
          "data": {
            "text/plain": [
              "(27558,)"
            ]
          },
          "metadata": {
            "tags": []
          },
          "execution_count": 7
        }
      ]
    },
    {
      "cell_type": "code",
      "metadata": {
        "id": "7rwx8ILgmXYm",
        "colab_type": "code",
        "outputId": "b3ffc729-56c0-4586-8791-d0ed0a47d233",
        "colab": {
          "base_uri": "https://localhost:8080/",
          "height": 34
        }
      },
      "source": [
        "#Labels 0 or 1\n",
        "y.shape"
      ],
      "execution_count": 0,
      "outputs": [
        {
          "output_type": "execute_result",
          "data": {
            "text/plain": [
              "(27558,)"
            ]
          },
          "metadata": {
            "tags": []
          },
          "execution_count": 8
        }
      ]
    },
    {
      "cell_type": "code",
      "metadata": {
        "id": "wo5Ej5FQmYEy",
        "colab_type": "code",
        "outputId": "bcba1eb5-4f19-42c2-b4d2-11c8744a653e",
        "colab": {
          "base_uri": "https://localhost:8080/",
          "height": 34
        }
      },
      "source": [
        "#Mirar cuantos datos unicos hay\n",
        "print(np.unique(y, return_counts=True))"
      ],
      "execution_count": 0,
      "outputs": [
        {
          "output_type": "stream",
          "text": [
            "(array([0, 1]), array([13779, 13779]))\n"
          ],
          "name": "stdout"
        }
      ]
    },
    {
      "cell_type": "markdown",
      "metadata": {
        "id": "Ec3Zz5bvm2M8",
        "colab_type": "text"
      },
      "source": [
        "El dataset esta balanceado\n",
        "\n",
        "Ahora imprimir las imagenes"
      ]
    },
    {
      "cell_type": "code",
      "metadata": {
        "id": "rAJjpQlFmgBF",
        "colab_type": "code",
        "colab": {}
      },
      "source": [
        "#Mostrar aleatoriamente 6 imagenes de las clases deseadas\n",
        "def plot_imgs(x, y, class_num):\n",
        "  plt.figure(figsize=(12,12))\n",
        "  for i in range(6):\n",
        "    plt.subplot(1,6,i+1)\n",
        "    random_ind=np.random.randint(0, len(x))\n",
        "\n",
        "    #Intentar hasta volver a asignar un ejemplo de la clase deseada\n",
        "    while y[random_ind]!=class_num:\n",
        "      random_ind=np.random.randint(0, len(x))\n",
        "\n",
        "    plt.imshow(x[random_ind])\n",
        "    plt.title(str(class_num))\n",
        "    plt.tight_layout()\n",
        "  plt.show()"
      ],
      "execution_count": 0,
      "outputs": []
    },
    {
      "cell_type": "markdown",
      "metadata": {
        "id": "fLnv8Ureov3e",
        "colab_type": "text"
      },
      "source": [
        "Imagenes con patologia"
      ]
    },
    {
      "cell_type": "code",
      "metadata": {
        "id": "GHyym9nJnumn",
        "colab_type": "code",
        "outputId": "527c9459-2595-4d66-b609-c5471e3defb1",
        "colab": {
          "base_uri": "https://localhost:8080/",
          "height": 154
        }
      },
      "source": [
        "plot_imgs(x,y,0)"
      ],
      "execution_count": 0,
      "outputs": [
        {
          "output_type": "display_data",
          "data": {
            "image/png": "[encoded data removed]",
            "text/plain": [
              "<Figure size 864x864 with 6 Axes>"
            ]
          },
          "metadata": {
            "tags": [],
            "needs_background": "light"
          }
        }
      ]
    },
    {
      "cell_type": "markdown",
      "metadata": {
        "id": "vUUJ0gq8o0Cs",
        "colab_type": "text"
      },
      "source": [
        "Imagenes sin patologia"
      ]
    },
    {
      "cell_type": "code",
      "metadata": {
        "id": "rDd7kmtGny7I",
        "colab_type": "code",
        "outputId": "0295ce5c-6e74-41e6-b9d8-e766e3572ef2",
        "colab": {
          "base_uri": "https://localhost:8080/",
          "height": 153
        }
      },
      "source": [
        "plot_imgs(x,y,1)"
      ],
      "execution_count": 0,
      "outputs": [
        {
          "output_type": "display_data",
          "data": {
            "image/png": "[encoded data removed]",
            "text/plain": [
              "<Figure size 864x864 with 6 Axes>"
            ]
          },
          "metadata": {
            "tags": [],
            "needs_background": "light"
          }
        }
      ]
    },
    {
      "cell_type": "markdown",
      "metadata": {
        "id": "hCC6o0OKpWZ_",
        "colab_type": "text"
      },
      "source": [
        "### Data preprocessing\n",
        " \n",
        "\n",
        "1.   train test split\n",
        "2.   standarize\n",
        "3.   resize\n",
        "4.   one-shot enconding\n",
        "5.   pixel value normalization\n",
        "\n"
      ]
    },
    {
      "cell_type": "code",
      "metadata": {
        "id": "qrfFVQwVo1gY",
        "colab_type": "code",
        "colab": {}
      },
      "source": [
        "from sklearn.model_selection import train_test_split\n",
        "\n",
        "x_train, x_test, y_train, y_test = train_test_split(x, y, test_size=0.3, random_state=666)"
      ],
      "execution_count": 0,
      "outputs": []
    },
    {
      "cell_type": "code",
      "metadata": {
        "id": "1qfVhcMEqJmW",
        "colab_type": "code",
        "outputId": "d2448642-b823-4025-fcbd-bb0e6c82b012",
        "colab": {
          "base_uri": "https://localhost:8080/",
          "height": 123
        }
      },
      "source": [
        "print('train')\n",
        "print(x_train.shape, y_train.shape)\n",
        "print(np.unique(y_train, return_counts=True))\n",
        "\n",
        "print('test')\n",
        "print(x_test.shape, y_test.shape)\n",
        "print(np.unique(y_test, return_counts=True))"
      ],
      "execution_count": 0,
      "outputs": [
        {
          "output_type": "stream",
          "text": [
            "train\n",
            "(19290,) (19290,)\n",
            "(array([0, 1]), array([9614, 9676]))\n",
            "test\n",
            "(8268,) (8268,)\n",
            "(array([0, 1]), array([4165, 4103]))\n"
          ],
          "name": "stdout"
        }
      ]
    },
    {
      "cell_type": "markdown",
      "metadata": {
        "id": "eWncV2mVrebb",
        "colab_type": "text"
      },
      "source": [
        "Como se puede ver los sets de datos no estan balanceados, para ello usar <strong>STRATIFICATION</strong>"
      ]
    },
    {
      "cell_type": "code",
      "metadata": {
        "id": "H2IMpe6LqWpl",
        "colab_type": "code",
        "outputId": "3afc29b5-dfe1-40e8-ce02-89bbf08dc2c5",
        "colab": {
          "base_uri": "https://localhost:8080/",
          "height": 123
        }
      },
      "source": [
        "x_train, x_test, y_train, y_test=train_test_split(x,y, stratify=y, test_size=0.3, random_state=666)\n",
        "\n",
        "print('train')\n",
        "print(x_train.shape, y_train.shape)\n",
        "print(np.unique(y_train, return_counts=True))\n",
        "\n",
        "print('test')\n",
        "print(x_test.shape, y_test.shape)\n",
        "print(np.unique(y_test, return_counts=True))"
      ],
      "execution_count": 0,
      "outputs": [
        {
          "output_type": "stream",
          "text": [
            "train\n",
            "(19290,) (19290,)\n",
            "(array([0, 1]), array([9645, 9645]))\n",
            "test\n",
            "(8268,) (8268,)\n",
            "(array([0, 1]), array([4134, 4134]))\n"
          ],
          "name": "stdout"
        }
      ]
    },
    {
      "cell_type": "markdown",
      "metadata": {
        "id": "-7_iTEcgsGD2",
        "colab_type": "text"
      },
      "source": [
        "Check mean, min, max"
      ]
    },
    {
      "cell_type": "code",
      "metadata": {
        "id": "mMDIR5BHr3-D",
        "colab_type": "code",
        "outputId": "2bee2bb1-d208-45f5-cb49-6c332a30b467",
        "colab": {
          "base_uri": "https://localhost:8080/",
          "height": 87
        }
      },
      "source": [
        "#h=height\n",
        "#w=width\n",
        "h_size=[]\n",
        "w_size=[]\n",
        "\n",
        "for img in x_test:\n",
        "  h_size.append(img.shape[0])\n",
        "  w_size.append(img.shape[1])\n",
        "\n",
        "h_size, w_size=np.asarray(h_size), np.asarray(w_size)\n",
        "print('Height')\n",
        "print(np.min(h_size), np.mean(h_size), np.max(h_size))\n",
        "print('Width')\n",
        "print(np.min(w_size), np.mean(w_size), np.max(w_size))"
      ],
      "execution_count": 0,
      "outputs": [
        {
          "output_type": "stream",
          "text": [
            "Height\n",
            "49 132.8178519593614 340\n",
            "Width\n",
            "46 132.47206095791 364\n"
          ],
          "name": "stdout"
        }
      ]
    },
    {
      "cell_type": "code",
      "metadata": {
        "id": "mcggh9BPswZl",
        "colab_type": "code",
        "outputId": "4cfcdb7a-e8c2-4f16-a2bb-8669ab22a6bf",
        "colab": {
          "base_uri": "https://localhost:8080/",
          "height": 34
        }
      },
      "source": [
        "#resize img ya que estan en diferentes tamaños\n",
        "import cv2 #paquete computer vision, tratamiento imagenes\n",
        "size=50\n",
        "\n",
        "x_train_input=[]\n",
        "for i in range(len(x_train)):\n",
        "  img=cv2.resize(x_train[i], (size, size))\n",
        "  x_train_input.append(img)\n",
        "\n",
        "x_train_input=np.asarray(x_train_input)\n",
        "y_train_input=np.copy(y_train)\n",
        "\n",
        "print(x_train_input.shape, y_train_input.shape)"
      ],
      "execution_count": 0,
      "outputs": [
        {
          "output_type": "stream",
          "text": [
            "(19290, 50, 50, 3) (19290,)\n"
          ],
          "name": "stdout"
        }
      ]
    },
    {
      "cell_type": "markdown",
      "metadata": {
        "id": "Ju-y5Tv2vXp-",
        "colab_type": "text"
      },
      "source": [
        "One hot encoding: poner numeero de clases en un vector por cada clase\n",
        "\n",
        "Ejemplo, infectado o no infectado se puede representar como [infectado, no infectado]\n",
        "Para n categorias seria: [0, 0, n_categorias]"
      ]
    },
    {
      "cell_type": "code",
      "metadata": {
        "id": "hdP0yD_VtpZx",
        "colab_type": "code",
        "outputId": "f6f5e270-861e-489a-c057-b2d9d7fb3035",
        "colab": {
          "base_uri": "https://localhost:8080/",
          "height": 52
        }
      },
      "source": [
        "#data to categorical, modelo general\n",
        "import keras\n",
        "num_classes=2\n",
        "y_train_input=keras.utils.to_categorical(y_train_input, num_classes)\n",
        "\n",
        "print(y_train_input.shape)"
      ],
      "execution_count": 0,
      "outputs": [
        {
          "output_type": "stream",
          "text": [
            "(19290, 2)\n"
          ],
          "name": "stdout"
        },
        {
          "output_type": "stream",
          "text": [
            "Using TensorFlow backend.\n"
          ],
          "name": "stderr"
        }
      ]
    },
    {
      "cell_type": "markdown",
      "metadata": {
        "id": "Z-Lhrkm7wErN",
        "colab_type": "text"
      },
      "source": [
        "Normalize the data\n",
        "En este caso como son imagenes y los valores van desde 0 hasta 255, hay que dividir el tensor entre 255 aprovechando el broadcasting de python"
      ]
    },
    {
      "cell_type": "code",
      "metadata": {
        "id": "GpxbgGYauoRr",
        "colab_type": "code",
        "outputId": "9837d563-be4a-4f53-8f32-acf4e69bc456",
        "colab": {
          "base_uri": "https://localhost:8080/",
          "height": 52
        }
      },
      "source": [
        "print(np.min(x_train_input), np.max(x_train_input))\n",
        "\n",
        "x_train_input = x_train_input*1.0/255.\n",
        "\n",
        "print(np.min(x_train_input), np.max(x_train_input))"
      ],
      "execution_count": 0,
      "outputs": [
        {
          "output_type": "stream",
          "text": [
            "0 255\n",
            "0.0 1.0\n"
          ],
          "name": "stdout"
        }
      ]
    },
    {
      "cell_type": "code",
      "metadata": {
        "id": "IEanUOyzwf_3",
        "colab_type": "code",
        "outputId": "cdc5f768-3682-4c91-fbbc-df059f3d55c8",
        "colab": {
          "base_uri": "https://localhost:8080/",
          "height": 87
        }
      },
      "source": [
        "#Data is ready\n",
        "print('Train')\n",
        "print(x_train_input.shape, y_train_input.shape)\n",
        "\n",
        "print('Test')\n",
        "print(x_test.shape, y_test.shape)"
      ],
      "execution_count": 0,
      "outputs": [
        {
          "output_type": "stream",
          "text": [
            "Train\n",
            "(19290, 50, 50, 3) (19290, 2)\n",
            "Test\n",
            "(8268,) (8268,)\n"
          ],
          "name": "stdout"
        }
      ]
    },
    {
      "cell_type": "code",
      "metadata": {
        "id": "6a50KmPjxlIX",
        "colab_type": "code",
        "colab": {}
      },
      "source": [
        "def preprocess_data(x_input, y_input, num_classes, size):\n",
        "  \"\"\"\n",
        "  This function do the same that we do before:\n",
        "  resize the data\n",
        "  normalize\n",
        "  data to categorical\n",
        "  \"\"\"\n",
        "  \n",
        "  x_output=[]\n",
        "  for i in range(len(x_input)):\n",
        "    img=cv2.resize(x_input[i], (size, size))\n",
        "    x_output.append(img)\n",
        "\n",
        "  x_output=np.asarray(x_output)\n",
        "  y_output=np.copy(y_input)\n",
        "\n",
        "  x_output=x_output*1.0/255.\n",
        "\n",
        "  y_output=keras.utils.to_categorical(y_output, num_classes=num_classes)\n",
        "  \n",
        "  return x_output, y_output"
      ],
      "execution_count": 0,
      "outputs": []
    },
    {
      "cell_type": "code",
      "metadata": {
        "id": "gK3eLtmMyMJP",
        "colab_type": "code",
        "colab": {}
      },
      "source": [
        "x_test_input, y_test_input = preprocess_data(x_test, y_test, num_classes, size)"
      ],
      "execution_count": 0,
      "outputs": []
    },
    {
      "cell_type": "code",
      "metadata": {
        "id": "Mbq5Bbl2ytw0",
        "colab_type": "code",
        "outputId": "65bc6d17-5d2c-4c7d-d1ae-29dafe57fefd",
        "colab": {
          "base_uri": "https://localhost:8080/",
          "height": 87
        }
      },
      "source": [
        "#Data is ready\n",
        "print('Train')\n",
        "print(x_train_input.shape, y_train_input.shape)\n",
        "\n",
        "print('Test')\n",
        "print(x_test_input.shape, y_test_input.shape)"
      ],
      "execution_count": 0,
      "outputs": [
        {
          "output_type": "stream",
          "text": [
            "Train\n",
            "(19290, 50, 50, 3) (19290, 2)\n",
            "Test\n",
            "(8268, 50, 50, 3) (8268, 2)\n"
          ],
          "name": "stdout"
        }
      ]
    },
    {
      "cell_type": "markdown",
      "metadata": {
        "id": "E_IYcFpCy74s",
        "colab_type": "text"
      },
      "source": [
        "### Deep learning\n",
        "Apply cnn model"
      ]
    },
    {
      "cell_type": "markdown",
      "metadata": {
        "id": "heb-rZUuzGBL",
        "colab_type": "text"
      },
      "source": [
        "## Base model\n",
        "\n",
        "*    build\n",
        "*    train\n",
        "*    evaluate"
      ]
    },
    {
      "cell_type": "code",
      "metadata": {
        "id": "uZ2N3icGy2Yl",
        "colab_type": "code",
        "colab": {}
      },
      "source": [
        "from keras.layers import Dense, Conv2D\n",
        "from keras.layers import Flatten\n",
        "from keras.layers import MaxPooling2D, GlobalAveragePooling2D\n",
        "from keras.layers import Activation\n",
        "from keras.layers import BatchNormalization\n",
        "from keras.layers import Dropout\n",
        "from keras.models import Sequential\n",
        "from keras import backend as K\n",
        "from keras import optimizers"
      ],
      "execution_count": 0,
      "outputs": []
    },
    {
      "cell_type": "code",
      "metadata": {
        "id": "QfAg7e68ztCQ",
        "colab_type": "code",
        "colab": {}
      },
      "source": [
        "def CNNbuild(height, width, classes, channels):\n",
        "  model=Sequential()\n",
        "  inputShape=(height, width, channels)\n",
        "\n",
        "  #Feature extractor\n",
        "  #Conv2D(#filters, (size_filter, size_filter))\n",
        "  model.add(Conv2D(32, (3,3), activation='relu', input_shape=inputShape))\n",
        "  model.add(MaxPooling2D(2,2))\n",
        "  #dropout: desactiva ciertas neuronas con x probabilidad\n",
        "  model.add(Dropout(0.2))\n",
        "\n",
        "  model.add(Conv2D(32, (3,3), activation='relu'))\n",
        "  model.add(MaxPooling2D(2,2))\n",
        "  model.add(Dropout(0.2))\n",
        "\n",
        "  model.add(Conv2D(32, (3,3), activation='relu'))\n",
        "  model.add(MaxPooling2D(2,2))\n",
        "  model.add(Dropout(0.2))\n",
        "\n",
        "  #Fully connected FC\n",
        "  model.add(Flatten())\n",
        "\n",
        "  model.add(Dense(512, activation='relu'))\n",
        "  model.add(Dropout(0.5))\n",
        "  model.add(Dense(classes, activation='softmax'))\n",
        "\n",
        "  return model"
      ],
      "execution_count": 0,
      "outputs": []
    },
    {
      "cell_type": "code",
      "metadata": {
        "id": "SAZW--_i3b1H",
        "colab_type": "code",
        "outputId": "8b34f144-41fe-4fce-df7f-ee04f6e005c2",
        "colab": {
          "base_uri": "https://localhost:8080/",
          "height": 638
        }
      },
      "source": [
        "height=x_train_input.shape[1]\n",
        "width=x_train_input.shape[2]\n",
        "channels=x_train_input.shape[3]\n",
        "print(height, width, channels)\n",
        "\n",
        "model=CNNbuild(height, width, num_classes, channels)\n",
        "\n",
        "model.summary()"
      ],
      "execution_count": 0,
      "outputs": [
        {
          "output_type": "stream",
          "text": [
            "50 50 3\n",
            "Model: \"sequential_1\"\n",
            "_________________________________________________________________\n",
            "Layer (type)                 Output Shape              Param #   \n",
            "=================================================================\n",
            "conv2d_1 (Conv2D)            (None, 48, 48, 32)        896       \n",
            "_________________________________________________________________\n",
            "max_pooling2d_1 (MaxPooling2 (None, 24, 24, 32)        0         \n",
            "_________________________________________________________________\n",
            "dropout_1 (Dropout)          (None, 24, 24, 32)        0         \n",
            "_________________________________________________________________\n",
            "conv2d_2 (Conv2D)            (None, 22, 22, 32)        9248      \n",
            "_________________________________________________________________\n",
            "max_pooling2d_2 (MaxPooling2 (None, 11, 11, 32)        0         \n",
            "_________________________________________________________________\n",
            "dropout_2 (Dropout)          (None, 11, 11, 32)        0         \n",
            "_________________________________________________________________\n",
            "conv2d_3 (Conv2D)            (None, 9, 9, 32)          9248      \n",
            "_________________________________________________________________\n",
            "max_pooling2d_3 (MaxPooling2 (None, 4, 4, 32)          0         \n",
            "_________________________________________________________________\n",
            "dropout_3 (Dropout)          (None, 4, 4, 32)          0         \n",
            "_________________________________________________________________\n",
            "flatten_1 (Flatten)          (None, 512)               0         \n",
            "_________________________________________________________________\n",
            "dense_1 (Dense)              (None, 512)               262656    \n",
            "_________________________________________________________________\n",
            "dropout_4 (Dropout)          (None, 512)               0         \n",
            "_________________________________________________________________\n",
            "dense_2 (Dense)              (None, 2)                 1026      \n",
            "=================================================================\n",
            "Total params: 283,074\n",
            "Trainable params: 283,074\n",
            "Non-trainable params: 0\n",
            "_________________________________________________________________\n"
          ],
          "name": "stdout"
        }
      ]
    },
    {
      "cell_type": "markdown",
      "metadata": {
        "id": "m8CjB6vU7gts",
        "colab_type": "text"
      },
      "source": [
        "## Model training"
      ]
    },
    {
      "cell_type": "code",
      "metadata": {
        "id": "mVaCSsWV6BCG",
        "colab_type": "code",
        "colab": {}
      },
      "source": [
        "#Hyperparameters\n",
        "epochs=20\n",
        "batch_size=32"
      ],
      "execution_count": 0,
      "outputs": []
    },
    {
      "cell_type": "code",
      "metadata": {
        "id": "MdFn_9cF7nkI",
        "colab_type": "code",
        "outputId": "d53b6bd9-4a56-4c81-846c-b7aee1702a0b",
        "colab": {
          "base_uri": "https://localhost:8080/",
          "height": 765
        }
      },
      "source": [
        "#Compile model\n",
        "model.compile(loss='categorical_crossentropy', optimizer='Adam', metrics=['accuracy'])\n",
        "h=model.fit(x_train_input, y_train_input, epochs=epochs, batch_size=batch_size, validation_data=(x_test_input, y_test_input))"
      ],
      "execution_count": 0,
      "outputs": [
        {
          "output_type": "stream",
          "text": [
            "Train on 19290 samples, validate on 8268 samples\n",
            "Epoch 1/20\n",
            "19290/19290 [==============================] - 12s 622us/step - loss: 0.4457 - accuracy: 0.7723 - val_loss: 0.1904 - val_accuracy: 0.9360\n",
            "Epoch 2/20\n",
            "19290/19290 [==============================] - 5s 281us/step - loss: 0.1805 - accuracy: 0.9430 - val_loss: 0.1660 - val_accuracy: 0.9473\n",
            "Epoch 3/20\n",
            "19290/19290 [==============================] - 5s 279us/step - loss: 0.1633 - accuracy: 0.9480 - val_loss: 0.1444 - val_accuracy: 0.9539\n",
            "Epoch 4/20\n",
            "19290/19290 [==============================] - 5s 280us/step - loss: 0.1550 - accuracy: 0.9503 - val_loss: 0.1508 - val_accuracy: 0.9538\n",
            "Epoch 5/20\n",
            "19290/19290 [==============================] - 5s 280us/step - loss: 0.1479 - accuracy: 0.9541 - val_loss: 0.1412 - val_accuracy: 0.9548\n",
            "Epoch 6/20\n",
            "19290/19290 [==============================] - 5s 278us/step - loss: 0.1465 - accuracy: 0.9543 - val_loss: 0.1456 - val_accuracy: 0.9551\n",
            "Epoch 7/20\n",
            "19290/19290 [==============================] - 5s 279us/step - loss: 0.1456 - accuracy: 0.9529 - val_loss: 0.1417 - val_accuracy: 0.9557\n",
            "Epoch 8/20\n",
            "19290/19290 [==============================] - 5s 277us/step - loss: 0.1366 - accuracy: 0.9551 - val_loss: 0.1436 - val_accuracy: 0.9562\n",
            "Epoch 9/20\n",
            "19290/19290 [==============================] - 5s 281us/step - loss: 0.1383 - accuracy: 0.9544 - val_loss: 0.1522 - val_accuracy: 0.9527\n",
            "Epoch 10/20\n",
            "19290/19290 [==============================] - 5s 278us/step - loss: 0.1351 - accuracy: 0.9549 - val_loss: 0.1540 - val_accuracy: 0.9523\n",
            "Epoch 11/20\n",
            "19290/19290 [==============================] - 5s 281us/step - loss: 0.1312 - accuracy: 0.9568 - val_loss: 0.1405 - val_accuracy: 0.9544\n",
            "Epoch 12/20\n",
            "19290/19290 [==============================] - 5s 278us/step - loss: 0.1319 - accuracy: 0.9563 - val_loss: 0.1390 - val_accuracy: 0.9548\n",
            "Epoch 13/20\n",
            "19290/19290 [==============================] - 5s 278us/step - loss: 0.1302 - accuracy: 0.9564 - val_loss: 0.1442 - val_accuracy: 0.9532\n",
            "Epoch 14/20\n",
            "19290/19290 [==============================] - 5s 283us/step - loss: 0.1289 - accuracy: 0.9574 - val_loss: 0.1610 - val_accuracy: 0.9502\n",
            "Epoch 15/20\n",
            "19290/19290 [==============================] - 6s 294us/step - loss: 0.1269 - accuracy: 0.9583 - val_loss: 0.1402 - val_accuracy: 0.9530\n",
            "Epoch 16/20\n",
            "19290/19290 [==============================] - 6s 291us/step - loss: 0.1209 - accuracy: 0.9602 - val_loss: 0.1358 - val_accuracy: 0.9532\n",
            "Epoch 17/20\n",
            "19290/19290 [==============================] - 5s 283us/step - loss: 0.1209 - accuracy: 0.9586 - val_loss: 0.1397 - val_accuracy: 0.9548\n",
            "Epoch 18/20\n",
            "19290/19290 [==============================] - 5s 281us/step - loss: 0.1207 - accuracy: 0.9594 - val_loss: 0.1377 - val_accuracy: 0.9540\n",
            "Epoch 19/20\n",
            "19290/19290 [==============================] - 5s 279us/step - loss: 0.1185 - accuracy: 0.9598 - val_loss: 0.1305 - val_accuracy: 0.9572\n",
            "Epoch 20/20\n",
            "19290/19290 [==============================] - 5s 279us/step - loss: 0.1161 - accuracy: 0.9604 - val_loss: 0.1322 - val_accuracy: 0.9560\n"
          ],
          "name": "stdout"
        }
      ]
    },
    {
      "cell_type": "markdown",
      "metadata": {
        "id": "bSK5o4jBRAtA",
        "colab_type": "text"
      },
      "source": [
        "### Model evaluation"
      ]
    },
    {
      "cell_type": "code",
      "metadata": {
        "id": "2y6y1vEe8ZRZ",
        "colab_type": "code",
        "outputId": "1155fd09-2339-4ae2-f7c1-2e4a1433bb11",
        "colab": {
          "base_uri": "https://localhost:8080/",
          "height": 105
        }
      },
      "source": [
        "from sklearn.metrics import balanced_accuracy_score, accuracy_score, f1_score, confusion_matrix\n",
        "\n",
        "y_pred=model.predict(x_test_input)\n",
        "#Use argmax\n",
        "y_pred=np.argmax(y_pred, axis=-1)\n",
        "\n",
        "acc= accuracy_score(y_test, y_pred)\n",
        "bac=balanced_accuracy_score(y_test, y_pred)\n",
        "f1=f1_score(y_test, y_pred)\n",
        "cm=confusion_matrix(y_test, y_pred)\n",
        "\n",
        "print('Accuracy: {}'.format(str(acc*100)+'%'))\n",
        "print('BAC: {}'.format(str(bac*100)+'%'))\n",
        "print('F1 score: {}'.format(str(f1*100)+'%'))\n",
        "\n",
        "print(cm)"
      ],
      "execution_count": 0,
      "outputs": [
        {
          "output_type": "stream",
          "text": [
            "Accuracy: 95.59748427672956%\n",
            "BAC: 95.59748427672956%\n",
            "F1 score: 95.67284831193533%\n",
            "[[3880  254]\n",
            " [ 110 4024]]\n"
          ],
          "name": "stdout"
        }
      ]
    },
    {
      "cell_type": "code",
      "metadata": {
        "id": "SkZhgBfwRCDm",
        "colab_type": "code",
        "outputId": "b5befed7-4afa-404f-a37e-ea9ae7f644c9",
        "colab": {
          "base_uri": "https://localhost:8080/",
          "height": 457
        }
      },
      "source": [
        "#Plot confusion matrix\n",
        "import pandas as pd\n",
        "import seaborn as sn\n",
        "\n",
        "cm_df=pd.DataFrame(cm, dtype=int)\n",
        "plt.figure(figsize=(10,7))\n",
        "sn.set(font_scale=1.4)\n",
        "sn.heatmap(cm_df, annot=True, annot_kws={'size':16}, fmt='g', cmap='Blues')"
      ],
      "execution_count": 0,
      "outputs": [
        {
          "output_type": "execute_result",
          "data": {
            "text/plain": [
              "<matplotlib.axes._subplots.AxesSubplot at 0x7f792e0258d0>"
            ]
          },
          "metadata": {
            "tags": []
          },
          "execution_count": 33
        },
        {
          "output_type": "display_data",
          "data": {
            "image/png": "[encoded data removed]",
            "text/plain": [
              "<Figure size 720x504 with 2 Axes>"
            ]
          },
          "metadata": {
            "tags": []
          }
        }
      ]
    },
    {
      "cell_type": "code",
      "metadata": {
        "id": "fXR7HW_KUW_O",
        "colab_type": "code",
        "colab": {}
      },
      "source": [
        "#Find missclassified samples\n",
        "ind_error=[]\n",
        "for i in range(len(y_test)):\n",
        "  if y_test[i] != y_pred[i]:\n",
        "    ind_error.append(i)"
      ],
      "execution_count": 0,
      "outputs": []
    },
    {
      "cell_type": "code",
      "metadata": {
        "id": "JjNarHgfVHwf",
        "colab_type": "code",
        "outputId": "1df6b6f8-8d69-4b4a-da9a-659e640c0595",
        "colab": {
          "base_uri": "https://localhost:8080/",
          "height": 314
        }
      },
      "source": [
        "plt.imshow(x_test[ind_error[0]])\n",
        "plt.title('real class {} \\nPredicted Class: {}'.format(y_test[ind_error[0]], y_pred[ind_error[0]]))\n",
        "plt.show()"
      ],
      "execution_count": 0,
      "outputs": [
        {
          "output_type": "display_data",
          "data": {
            "image/png": "[encoded data removed]",
            "text/plain": [
              "<Figure size 432x288 with 1 Axes>"
            ]
          },
          "metadata": {
            "tags": []
          }
        }
      ]
    },
    {
      "cell_type": "markdown",
      "metadata": {
        "id": "rmPB9JUXWiGk",
        "colab_type": "text"
      },
      "source": [
        "### Base model 2"
      ]
    },
    {
      "cell_type": "code",
      "metadata": {
        "id": "sIt7K6l7VfSw",
        "colab_type": "code",
        "colab": {}
      },
      "source": [
        "def CNNbuild2(height, width, classes, channels):\n",
        "  model=keras.Sequential()\n",
        "\n",
        "  model.add(Conv2D(32, (3,3), padding='same', input_shape=(height, width, 3)))\n",
        "  model.add(Activation('relu'))\n",
        "  model.add(Conv2D(32, (3,3)))\n",
        "  model.add(Activation('relu'))\n",
        "  model.add(MaxPooling2D(pool_size=(2,2)))\n",
        "  model.add(Dropout(0.25))\n",
        "\n",
        "  \n",
        "  model.add(Conv2D(64, (3,3), padding='same'))\n",
        "  model.add(Activation('relu'))\n",
        "  model.add(Conv2D(64, (3,3)))\n",
        "  model.add(Activation('relu'))\n",
        "  model.add(MaxPooling2D(pool_size=(2,2)))\n",
        "  model.add(Dropout(0.25))\n",
        "\n",
        "  model.add(Flatten())\n",
        "  model.add(Dropout(0.5))\n",
        "  model.add(Dense(64))\n",
        "  model.add(Activation('relu'))\n",
        "  model.add(Dropout(0.5))\n",
        "  model.add(Dense(num_classes))\n",
        "  model.add(Activation('softmax'))\n",
        "  \n",
        "  return model\n"
      ],
      "execution_count": 0,
      "outputs": []
    },
    {
      "cell_type": "markdown",
      "metadata": {
        "id": "fHe3cw7NalDe",
        "colab_type": "text"
      },
      "source": [
        "# Create the network"
      ]
    },
    {
      "cell_type": "code",
      "metadata": {
        "id": "Cj1bWf7PXmJe",
        "colab_type": "code",
        "outputId": "09c6bbe6-d64b-4003-f079-1abee49e11ba",
        "colab": {
          "base_uri": "https://localhost:8080/",
          "height": 852
        }
      },
      "source": [
        "height=x_train_input.shape[1]\n",
        "width=x_train_input.shape[2]\n",
        "channels=x_train_input.shape[3]\n",
        "print(height,width,channels)\n",
        "\n",
        "model_2=CNNbuild2(height, width, num_classes, channels)\n",
        "model_2.summary()"
      ],
      "execution_count": 0,
      "outputs": [
        {
          "output_type": "stream",
          "text": [
            "50 50 3\n",
            "Model: \"sequential_3\"\n",
            "_________________________________________________________________\n",
            "Layer (type)                 Output Shape              Param #   \n",
            "=================================================================\n",
            "conv2d_5 (Conv2D)            (None, 50, 50, 32)        896       \n",
            "_________________________________________________________________\n",
            "activation_1 (Activation)    (None, 50, 50, 32)        0         \n",
            "_________________________________________________________________\n",
            "conv2d_6 (Conv2D)            (None, 48, 48, 32)        9248      \n",
            "_________________________________________________________________\n",
            "activation_2 (Activation)    (None, 48, 48, 32)        0         \n",
            "_________________________________________________________________\n",
            "max_pooling2d_4 (MaxPooling2 (None, 24, 24, 32)        0         \n",
            "_________________________________________________________________\n",
            "dropout_5 (Dropout)          (None, 24, 24, 32)        0         \n",
            "_________________________________________________________________\n",
            "conv2d_7 (Conv2D)            (None, 24, 24, 64)        18496     \n",
            "_________________________________________________________________\n",
            "activation_3 (Activation)    (None, 24, 24, 64)        0         \n",
            "_________________________________________________________________\n",
            "conv2d_8 (Conv2D)            (None, 22, 22, 64)        36928     \n",
            "_________________________________________________________________\n",
            "activation_4 (Activation)    (None, 22, 22, 64)        0         \n",
            "_________________________________________________________________\n",
            "max_pooling2d_5 (MaxPooling2 (None, 11, 11, 64)        0         \n",
            "_________________________________________________________________\n",
            "dropout_6 (Dropout)          (None, 11, 11, 64)        0         \n",
            "_________________________________________________________________\n",
            "flatten_2 (Flatten)          (None, 7744)              0         \n",
            "_________________________________________________________________\n",
            "dropout_7 (Dropout)          (None, 7744)              0         \n",
            "_________________________________________________________________\n",
            "dense_3 (Dense)              (None, 64)                495680    \n",
            "_________________________________________________________________\n",
            "activation_5 (Activation)    (None, 64)                0         \n",
            "_________________________________________________________________\n",
            "dropout_8 (Dropout)          (None, 64)                0         \n",
            "_________________________________________________________________\n",
            "dense_4 (Dense)              (None, 2)                 130       \n",
            "_________________________________________________________________\n",
            "activation_6 (Activation)    (None, 2)                 0         \n",
            "=================================================================\n",
            "Total params: 561,378\n",
            "Trainable params: 561,378\n",
            "Non-trainable params: 0\n",
            "_________________________________________________________________\n"
          ],
          "name": "stdout"
        }
      ]
    },
    {
      "cell_type": "markdown",
      "metadata": {
        "id": "-Y4KFlwNbkoM",
        "colab_type": "text"
      },
      "source": [
        "# compile the model and train"
      ]
    },
    {
      "cell_type": "code",
      "metadata": {
        "id": "sEDUoybubYcP",
        "colab_type": "code",
        "outputId": "b5bba181-f5f1-4d19-fbd0-e33dda968f03",
        "colab": {
          "base_uri": "https://localhost:8080/",
          "height": 765
        }
      },
      "source": [
        "model_2.compile(loss='categorical_crossentropy', optimizer='Adam', metrics=['accuracy'])\n",
        "h=model_2.fit(x_train_input, y_train_input, epochs=epochs, \n",
        "              batch_size=batch_size, \n",
        "              validation_data=(x_test_input, y_test_input)\n",
        "              )"
      ],
      "execution_count": 0,
      "outputs": [
        {
          "output_type": "stream",
          "text": [
            "Train on 19290 samples, validate on 8268 samples\n",
            "Epoch 1/20\n",
            "19290/19290 [==============================] - 9s 470us/step - loss: 0.6534 - accuracy: 0.5975 - val_loss: 0.3169 - val_accuracy: 0.8985\n",
            "Epoch 2/20\n",
            "19290/19290 [==============================] - 9s 445us/step - loss: 0.5368 - accuracy: 0.6901 - val_loss: 0.1808 - val_accuracy: 0.9253\n",
            "Epoch 3/20\n",
            "19290/19290 [==============================] - 9s 443us/step - loss: 0.1884 - accuracy: 0.9330 - val_loss: 0.1716 - val_accuracy: 0.9083\n",
            "Epoch 4/20\n",
            "19290/19290 [==============================] - 9s 445us/step - loss: 0.1699 - accuracy: 0.9439 - val_loss: 0.1586 - val_accuracy: 0.9519\n",
            "Epoch 5/20\n",
            "19290/19290 [==============================] - 9s 449us/step - loss: 0.1596 - accuracy: 0.9510 - val_loss: 0.1380 - val_accuracy: 0.9523\n",
            "Epoch 6/20\n",
            "19290/19290 [==============================] - 9s 444us/step - loss: 0.1494 - accuracy: 0.9528 - val_loss: 0.1607 - val_accuracy: 0.9450\n",
            "Epoch 7/20\n",
            "19290/19290 [==============================] - 9s 441us/step - loss: 0.1457 - accuracy: 0.9540 - val_loss: 0.1435 - val_accuracy: 0.9531\n",
            "Epoch 8/20\n",
            "19290/19290 [==============================] - 9s 447us/step - loss: 0.1428 - accuracy: 0.9533 - val_loss: 0.1357 - val_accuracy: 0.9550\n",
            "Epoch 9/20\n",
            "19290/19290 [==============================] - 9s 442us/step - loss: 0.1406 - accuracy: 0.9549 - val_loss: 0.1476 - val_accuracy: 0.9526\n",
            "Epoch 10/20\n",
            "19290/19290 [==============================] - 9s 441us/step - loss: 0.1412 - accuracy: 0.9564 - val_loss: 0.1359 - val_accuracy: 0.9548\n",
            "Epoch 11/20\n",
            "19290/19290 [==============================] - 9s 444us/step - loss: 0.1387 - accuracy: 0.9556 - val_loss: 0.1347 - val_accuracy: 0.9542\n",
            "Epoch 12/20\n",
            "19290/19290 [==============================] - 8s 440us/step - loss: 0.1327 - accuracy: 0.9595 - val_loss: 0.1511 - val_accuracy: 0.9500\n",
            "Epoch 13/20\n",
            "19290/19290 [==============================] - 8s 440us/step - loss: 0.1290 - accuracy: 0.9580 - val_loss: 0.1268 - val_accuracy: 0.9550\n",
            "Epoch 14/20\n",
            "19290/19290 [==============================] - 9s 446us/step - loss: 0.1313 - accuracy: 0.9578 - val_loss: 0.1471 - val_accuracy: 0.9527\n",
            "Epoch 15/20\n",
            "19290/19290 [==============================] - 9s 443us/step - loss: 0.1263 - accuracy: 0.9589 - val_loss: 0.1459 - val_accuracy: 0.9482\n",
            "Epoch 16/20\n",
            "19290/19290 [==============================] - 9s 442us/step - loss: 0.1252 - accuracy: 0.9587 - val_loss: 0.1278 - val_accuracy: 0.9555\n",
            "Epoch 17/20\n",
            "19290/19290 [==============================] - 8s 438us/step - loss: 0.1245 - accuracy: 0.9600 - val_loss: 0.1468 - val_accuracy: 0.9530\n",
            "Epoch 18/20\n",
            "19290/19290 [==============================] - 9s 443us/step - loss: 0.1211 - accuracy: 0.9604 - val_loss: 0.1392 - val_accuracy: 0.9545\n",
            "Epoch 19/20\n",
            "19290/19290 [==============================] - 8s 439us/step - loss: 0.1207 - accuracy: 0.9593 - val_loss: 0.1246 - val_accuracy: 0.9543\n",
            "Epoch 20/20\n",
            "19290/19290 [==============================] - 8s 441us/step - loss: 0.1208 - accuracy: 0.9610 - val_loss: 0.1246 - val_accuracy: 0.9567\n"
          ],
          "name": "stdout"
        }
      ]
    },
    {
      "cell_type": "markdown",
      "metadata": {
        "id": "VL8gBPe6cuAd",
        "colab_type": "text"
      },
      "source": [
        "### Base model with augmentation"
      ]
    },
    {
      "cell_type": "markdown",
      "metadata": {
        "id": "IlwlhTTwcxai",
        "colab_type": "text"
      },
      "source": [
        "# Build model"
      ]
    },
    {
      "cell_type": "code",
      "metadata": {
        "id": "desio_KXcSLI",
        "colab_type": "code",
        "colab": {}
      },
      "source": [
        "from keras.preprocessing.image import ImageDataGenerator"
      ],
      "execution_count": 0,
      "outputs": []
    },
    {
      "cell_type": "code",
      "metadata": {
        "id": "KG5j8eYGdD6R",
        "colab_type": "code",
        "colab": {}
      },
      "source": [
        "train_datagen=ImageDataGenerator(\n",
        "    horizontal_flip=True,\n",
        "    width_shift_range=0.2,\n",
        "    height_shift_range=0.2,\n",
        "    fill_mode='nearest',\n",
        "    zoom_range=0.3,\n",
        "    rotation_range=30\n",
        ")\n",
        "test_datagen=ImageDataGenerator()\n",
        "\n",
        "train_generator=train_datagen.flow(x_train_input, y_train_input, batch_size=64,\n",
        "                                   shuffle=False)\n",
        "test_generator=train_datagen.flow(x_test_input, y_test_input, batch_size=64,\n",
        "                                   shuffle=False)\n"
      ],
      "execution_count": 0,
      "outputs": []
    },
    {
      "cell_type": "code",
      "metadata": {
        "id": "2octPJQ9gNgC",
        "colab_type": "code",
        "outputId": "152602d0-b051-4685-8d1c-5c7c7d31ed6e",
        "colab": {
          "base_uri": "https://localhost:8080/",
          "height": 392
        }
      },
      "source": [
        "#Train model\n",
        "optim=optimizers.Adam(lr=0.001, decay=0.001/64)\n",
        "model.compile(loss='categorical_crossentropy', optimizer=optim, metrics=['accuracy'])\n",
        "h_aug=model.fit_generator(train_generator, steps_per_epoch=len(x_train)//64, epochs=10, validation_data=test_generator)"
      ],
      "execution_count": 0,
      "outputs": [
        {
          "output_type": "stream",
          "text": [
            "Epoch 1/10\n",
            "301/301 [==============================] - 20s 67ms/step - loss: 0.2702 - accuracy: 0.9034 - val_loss: 0.1198 - val_accuracy: 0.9109\n",
            "Epoch 2/10\n",
            "301/301 [==============================] - 20s 67ms/step - loss: 0.2583 - accuracy: 0.9060 - val_loss: 0.0642 - val_accuracy: 0.9153\n",
            "Epoch 3/10\n",
            "301/301 [==============================] - 20s 67ms/step - loss: 0.2570 - accuracy: 0.9075 - val_loss: 0.0323 - val_accuracy: 0.9118\n",
            "Epoch 4/10\n",
            "301/301 [==============================] - 20s 66ms/step - loss: 0.2544 - accuracy: 0.9081 - val_loss: 0.1875 - val_accuracy: 0.9065\n",
            "Epoch 5/10\n",
            "301/301 [==============================] - 20s 67ms/step - loss: 0.2544 - accuracy: 0.9086 - val_loss: 0.2091 - val_accuracy: 0.9111\n",
            "Epoch 6/10\n",
            "301/301 [==============================] - 20s 66ms/step - loss: 0.2532 - accuracy: 0.9080 - val_loss: 0.2051 - val_accuracy: 0.9110\n",
            "Epoch 7/10\n",
            "301/301 [==============================] - 20s 66ms/step - loss: 0.2495 - accuracy: 0.9116 - val_loss: 0.1659 - val_accuracy: 0.9159\n",
            "Epoch 8/10\n",
            "301/301 [==============================] - 20s 66ms/step - loss: 0.2456 - accuracy: 0.9106 - val_loss: 0.2123 - val_accuracy: 0.9162\n",
            "Epoch 9/10\n",
            "301/301 [==============================] - 20s 66ms/step - loss: 0.2450 - accuracy: 0.9136 - val_loss: 0.2335 - val_accuracy: 0.9204\n",
            "Epoch 10/10\n",
            "301/301 [==============================] - 20s 67ms/step - loss: 0.2450 - accuracy: 0.9119 - val_loss: 0.0951 - val_accuracy: 0.9124\n"
          ],
          "name": "stdout"
        }
      ]
    },
    {
      "cell_type": "code",
      "metadata": {
        "id": "Qr05khgtg7Wj",
        "colab_type": "code",
        "colab": {}
      },
      "source": [
        ""
      ],
      "execution_count": 0,
      "outputs": []
    }
  ]
}