{
  "nbformat": 4,
  "nbformat_minor": 0,
  "metadata": {
    "colab": {
      "name": "R test.ipynb",
      "provenance": [],
      "collapsed_sections": [],
      "authorship_tag": "ABX9TyNJrIP0XOja1hzngT+lxKae",
      "include_colab_link": true
    },
    "kernelspec": {
      "name": "ir",
      "display_name": "R"
    }
  },
  "cells": [
    {
      "cell_type": "markdown",
      "metadata": {
        "id": "view-in-github",
        "colab_type": "text"
      },
      "source": [
        "<a href=\"https://colab.research.google.com/github/nestorsgarzonc/Data-Science-Proyects/blob/master/R_test_course_prob.ipynb\" target=\"_parent\"><img src=\"https://colab.research.google.com/assets/colab-badge.svg\" alt=\"Open In Colab\"/></a>"
      ]
    },
    {
      "cell_type": "markdown",
      "metadata": {
        "id": "oKVAbEzgwq3m",
        "colab_type": "text"
      },
      "source": [
        "# Notebook R prob y estadistica"
      ]
    },
    {
      "cell_type": "markdown",
      "metadata": {
        "id": "f1cc1xNhwvfu",
        "colab_type": "text"
      },
      "source": [
        "### Installing packages"
      ]
    },
    {
      "cell_type": "code",
      "metadata": {
        "id": "VJl2WRldSN8I",
        "colab_type": "code",
        "outputId": "732ac773-1c32-4ff3-ca9f-8a6f75cb57fc",
        "colab": {
          "base_uri": "https://localhost:8080/",
          "height": 266
        }
      },
      "source": [
        "install.packages(\"ggplot2\")\n",
        "install.packages(\"psych\")\n",
        "install.packages(\"dplyr\")\n",
        "install.packages(\"readxl\")"
      ],
      "execution_count": 1,
      "outputs": [
        {
          "output_type": "stream",
          "text": [
            "Installing package into ‘/usr/local/lib/R/site-library’\n",
            "(as ‘lib’ is unspecified)\n",
            "\n",
            "Installing package into ‘/usr/local/lib/R/site-library’\n",
            "(as ‘lib’ is unspecified)\n",
            "\n",
            "also installing the dependency ‘mnormt’\n",
            "\n",
            "\n",
            "Installing package into ‘/usr/local/lib/R/site-library’\n",
            "(as ‘lib’ is unspecified)\n",
            "\n",
            "Installing package into ‘/usr/local/lib/R/site-library’\n",
            "(as ‘lib’ is unspecified)\n",
            "\n"
          ],
          "name": "stderr"
        }
      ]
    },
    {
      "cell_type": "markdown",
      "metadata": {
        "id": "8iQc6D4ewzC0",
        "colab_type": "text"
      },
      "source": [
        "### Loading packages"
      ]
    },
    {
      "cell_type": "code",
      "metadata": {
        "id": "LSCaCI1oSiZa",
        "colab_type": "code",
        "outputId": "8ff5bf2f-d6cd-4b35-f32c-387018f21bbc",
        "colab": {
          "base_uri": "https://localhost:8080/",
          "height": 400
        }
      },
      "source": [
        "library(\"ggplot2\")\n",
        "library(\"psych\")\n",
        "library(\"dplyr\")\n",
        "library(\"readxl\")"
      ],
      "execution_count": 2,
      "outputs": [
        {
          "output_type": "stream",
          "text": [
            "\n",
            "Attaching package: ‘psych’\n",
            "\n",
            "\n",
            "The following objects are masked from ‘package:ggplot2’:\n",
            "\n",
            "    %+%, alpha\n",
            "\n",
            "\n",
            "\n",
            "Attaching package: ‘dplyr’\n",
            "\n",
            "\n",
            "The following objects are masked from ‘package:stats’:\n",
            "\n",
            "    filter, lag\n",
            "\n",
            "\n",
            "The following objects are masked from ‘package:base’:\n",
            "\n",
            "    intersect, setdiff, setequal, union\n",
            "\n",
            "\n"
          ],
          "name": "stderr"
        }
      ]
    },
    {
      "cell_type": "markdown",
      "metadata": {
        "id": "7qpe8p2lw2xB",
        "colab_type": "text"
      },
      "source": [
        "### Reading dataset from excel file"
      ]
    },
    {
      "cell_type": "code",
      "metadata": {
        "id": "aW8LwFFgwUns",
        "colab_type": "code",
        "colab": {}
      },
      "source": [
        "COVID_19 <- read_excel(\"Covid19_Colombia.xlsx\")"
      ],
      "execution_count": 0,
      "outputs": []
    },
    {
      "cell_type": "markdown",
      "metadata": {
        "id": "Lik4AKfww8n0",
        "colab_type": "text"
      },
      "source": [
        "### Show dataset"
      ]
    },
    {
      "cell_type": "code",
      "metadata": {
        "id": "KoZwjILbwfNm",
        "colab_type": "code",
        "outputId": "8e7f4223-95e8-442d-e250-bf75bb8b3db9",
        "colab": {
          "base_uri": "https://localhost:8080/",
          "height": 176
        }
      },
      "source": [
        "head(COVID_19)"
      ],
      "execution_count": 4,
      "outputs": [
        {
          "output_type": "display_data",
          "data": {
            "text/plain": [
              "  Fecha de diagnostico Ciudad de residencia Localidad de residencia Edad Sexo\n",
              "1 2020-04-10           Bogota               Usaquen                 19   F   \n",
              "2 2020-04-10           Bogota               Engativa                22   F   \n",
              "3 2020-04-10           Bogota               Engativa                28   F   \n",
              "4 2020-04-10           Bogota               Fontibon                36   F   \n",
              "5 2020-04-10           Bogota               Kennedy                 42   F   \n",
              "6 2020-04-10           Bogota               Suba                    61   F   \n",
              "  Tipo de caso Ubicacion Estado    \n",
              "1 Importado    Casa      Recuperado\n",
              "2 Importado    Casa      Recuperado\n",
              "3 Importado    Casa      Recuperado\n",
              "4 Importado    Casa      Recuperado\n",
              "5 Importado    Casa      Recuperado\n",
              "6 Importado    Casa      Recuperado"
            ],
            "text/latex": "A tibble: 6 × 8\n\\begin{tabular}{llllllll}\n Fecha de diagnostico & Ciudad de residencia & Localidad de residencia & Edad & Sexo & Tipo de caso & Ubicacion & Estado\\\\\n <dttm> & <chr> & <chr> & <dbl> & <chr> & <chr> & <chr> & <chr>\\\\\n\\hline\n\t 2020-04-10 & Bogota & Usaquen  & 19 & F & Importado & Casa & Recuperado\\\\\n\t 2020-04-10 & Bogota & Engativa & 22 & F & Importado & Casa & Recuperado\\\\\n\t 2020-04-10 & Bogota & Engativa & 28 & F & Importado & Casa & Recuperado\\\\\n\t 2020-04-10 & Bogota & Fontibon & 36 & F & Importado & Casa & Recuperado\\\\\n\t 2020-04-10 & Bogota & Kennedy  & 42 & F & Importado & Casa & Recuperado\\\\\n\t 2020-04-10 & Bogota & Suba     & 61 & F & Importado & Casa & Recuperado\\\\\n\\end{tabular}\n",
            "text/markdown": "\nA tibble: 6 × 8\n\n| Fecha de diagnostico &lt;dttm&gt; | Ciudad de residencia &lt;chr&gt; | Localidad de residencia &lt;chr&gt; | Edad &lt;dbl&gt; | Sexo &lt;chr&gt; | Tipo de caso &lt;chr&gt; | Ubicacion &lt;chr&gt; | Estado &lt;chr&gt; |\n|---|---|---|---|---|---|---|---|\n| 2020-04-10 | Bogota | Usaquen  | 19 | F | Importado | Casa | Recuperado |\n| 2020-04-10 | Bogota | Engativa | 22 | F | Importado | Casa | Recuperado |\n| 2020-04-10 | Bogota | Engativa | 28 | F | Importado | Casa | Recuperado |\n| 2020-04-10 | Bogota | Fontibon | 36 | F | Importado | Casa | Recuperado |\n| 2020-04-10 | Bogota | Kennedy  | 42 | F | Importado | Casa | Recuperado |\n| 2020-04-10 | Bogota | Suba     | 61 | F | Importado | Casa | Recuperado |\n\n",
            "text/html": [
              "<table>\n",
              "<caption>A tibble: 6 × 8</caption>\n",
              "<thead>\n",
              "\t<tr><th scope=col>Fecha de diagnostico</th><th scope=col>Ciudad de residencia</th><th scope=col>Localidad de residencia</th><th scope=col>Edad</th><th scope=col>Sexo</th><th scope=col>Tipo de caso</th><th scope=col>Ubicacion</th><th scope=col>Estado</th></tr>\n",
              "\t<tr><th scope=col>&lt;dttm&gt;</th><th scope=col>&lt;chr&gt;</th><th scope=col>&lt;chr&gt;</th><th scope=col>&lt;dbl&gt;</th><th scope=col>&lt;chr&gt;</th><th scope=col>&lt;chr&gt;</th><th scope=col>&lt;chr&gt;</th><th scope=col>&lt;chr&gt;</th></tr>\n",
              "</thead>\n",
              "<tbody>\n",
              "\t<tr><td>2020-04-10</td><td>Bogota</td><td>Usaquen </td><td>19</td><td>F</td><td>Importado</td><td>Casa</td><td>Recuperado</td></tr>\n",
              "\t<tr><td>2020-04-10</td><td>Bogota</td><td>Engativa</td><td>22</td><td>F</td><td>Importado</td><td>Casa</td><td>Recuperado</td></tr>\n",
              "\t<tr><td>2020-04-10</td><td>Bogota</td><td>Engativa</td><td>28</td><td>F</td><td>Importado</td><td>Casa</td><td>Recuperado</td></tr>\n",
              "\t<tr><td>2020-04-10</td><td>Bogota</td><td>Fontibon</td><td>36</td><td>F</td><td>Importado</td><td>Casa</td><td>Recuperado</td></tr>\n",
              "\t<tr><td>2020-04-10</td><td>Bogota</td><td>Kennedy </td><td>42</td><td>F</td><td>Importado</td><td>Casa</td><td>Recuperado</td></tr>\n",
              "\t<tr><td>2020-04-10</td><td>Bogota</td><td>Suba    </td><td>61</td><td>F</td><td>Importado</td><td>Casa</td><td>Recuperado</td></tr>\n",
              "</tbody>\n",
              "</table>\n"
            ]
          },
          "metadata": {
            "tags": []
          }
        }
      ]
    },
    {
      "cell_type": "code",
      "metadata": {
        "id": "5TFlJ_uIwiBx",
        "colab_type": "code",
        "outputId": "6ae895e4-217d-4976-e3b0-62cd0b9d5f48",
        "colab": {
          "base_uri": "https://localhost:8080/",
          "height": 176
        }
      },
      "source": [
        "tail(COVID_19)"
      ],
      "execution_count": 5,
      "outputs": [
        {
          "output_type": "display_data",
          "data": {
            "text/plain": [
              "  Fecha de diagnostico Ciudad de residencia Localidad de residencia Edad Sexo\n",
              "1 2020-05-08           Bogota               Rafael Uribe Uribe      31   M   \n",
              "2 2020-05-08           Bogota               Los Martires            32   F   \n",
              "3 2020-05-08           Bogota               Rafael Uribe Uribe      63   M   \n",
              "4 2020-05-09           Bogota               Sin Dato                21   M   \n",
              "5 2020-05-09           Bogota               Sin Dato                29   M   \n",
              "6 2020-05-08           Fuera de Bogota      Fuera de Bogota         36   F   \n",
              "  Tipo de caso Ubicacion Estado  \n",
              "1 En estudio   Casa      Moderado\n",
              "2 En estudio   Casa      Moderado\n",
              "3 En estudio   Casa      Moderado\n",
              "4 En estudio   Casa      Moderado\n",
              "5 En estudio   Casa      Moderado\n",
              "6 Relacionado  Casa      Moderado"
            ],
            "text/latex": "A tibble: 6 × 8\n\\begin{tabular}{llllllll}\n Fecha de diagnostico & Ciudad de residencia & Localidad de residencia & Edad & Sexo & Tipo de caso & Ubicacion & Estado\\\\\n <dttm> & <chr> & <chr> & <dbl> & <chr> & <chr> & <chr> & <chr>\\\\\n\\hline\n\t 2020-05-08 & Bogota          & Rafael Uribe Uribe & 31 & M & En estudio  & Casa & Moderado\\\\\n\t 2020-05-08 & Bogota          & Los Martires       & 32 & F & En estudio  & Casa & Moderado\\\\\n\t 2020-05-08 & Bogota          & Rafael Uribe Uribe & 63 & M & En estudio  & Casa & Moderado\\\\\n\t 2020-05-09 & Bogota          & Sin Dato           & 21 & M & En estudio  & Casa & Moderado\\\\\n\t 2020-05-09 & Bogota          & Sin Dato           & 29 & M & En estudio  & Casa & Moderado\\\\\n\t 2020-05-08 & Fuera de Bogota & Fuera de Bogota    & 36 & F & Relacionado & Casa & Moderado\\\\\n\\end{tabular}\n",
            "text/markdown": "\nA tibble: 6 × 8\n\n| Fecha de diagnostico &lt;dttm&gt; | Ciudad de residencia &lt;chr&gt; | Localidad de residencia &lt;chr&gt; | Edad &lt;dbl&gt; | Sexo &lt;chr&gt; | Tipo de caso &lt;chr&gt; | Ubicacion &lt;chr&gt; | Estado &lt;chr&gt; |\n|---|---|---|---|---|---|---|---|\n| 2020-05-08 | Bogota          | Rafael Uribe Uribe | 31 | M | En estudio  | Casa | Moderado |\n| 2020-05-08 | Bogota          | Los Martires       | 32 | F | En estudio  | Casa | Moderado |\n| 2020-05-08 | Bogota          | Rafael Uribe Uribe | 63 | M | En estudio  | Casa | Moderado |\n| 2020-05-09 | Bogota          | Sin Dato           | 21 | M | En estudio  | Casa | Moderado |\n| 2020-05-09 | Bogota          | Sin Dato           | 29 | M | En estudio  | Casa | Moderado |\n| 2020-05-08 | Fuera de Bogota | Fuera de Bogota    | 36 | F | Relacionado | Casa | Moderado |\n\n",
            "text/html": [
              "<table>\n",
              "<caption>A tibble: 6 × 8</caption>\n",
              "<thead>\n",
              "\t<tr><th scope=col>Fecha de diagnostico</th><th scope=col>Ciudad de residencia</th><th scope=col>Localidad de residencia</th><th scope=col>Edad</th><th scope=col>Sexo</th><th scope=col>Tipo de caso</th><th scope=col>Ubicacion</th><th scope=col>Estado</th></tr>\n",
              "\t<tr><th scope=col>&lt;dttm&gt;</th><th scope=col>&lt;chr&gt;</th><th scope=col>&lt;chr&gt;</th><th scope=col>&lt;dbl&gt;</th><th scope=col>&lt;chr&gt;</th><th scope=col>&lt;chr&gt;</th><th scope=col>&lt;chr&gt;</th><th scope=col>&lt;chr&gt;</th></tr>\n",
              "</thead>\n",
              "<tbody>\n",
              "\t<tr><td>2020-05-08</td><td>Bogota         </td><td>Rafael Uribe Uribe</td><td>31</td><td>M</td><td>En estudio </td><td>Casa</td><td>Moderado</td></tr>\n",
              "\t<tr><td>2020-05-08</td><td>Bogota         </td><td>Los Martires      </td><td>32</td><td>F</td><td>En estudio </td><td>Casa</td><td>Moderado</td></tr>\n",
              "\t<tr><td>2020-05-08</td><td>Bogota         </td><td>Rafael Uribe Uribe</td><td>63</td><td>M</td><td>En estudio </td><td>Casa</td><td>Moderado</td></tr>\n",
              "\t<tr><td>2020-05-09</td><td>Bogota         </td><td>Sin Dato          </td><td>21</td><td>M</td><td>En estudio </td><td>Casa</td><td>Moderado</td></tr>\n",
              "\t<tr><td>2020-05-09</td><td>Bogota         </td><td>Sin Dato          </td><td>29</td><td>M</td><td>En estudio </td><td>Casa</td><td>Moderado</td></tr>\n",
              "\t<tr><td>2020-05-08</td><td>Fuera de Bogota</td><td>Fuera de Bogota   </td><td>36</td><td>F</td><td>Relacionado</td><td>Casa</td><td>Moderado</td></tr>\n",
              "</tbody>\n",
              "</table>\n"
            ]
          },
          "metadata": {
            "tags": []
          }
        }
      ]
    },
    {
      "cell_type": "code",
      "metadata": {
        "id": "meKyV428zRdS",
        "colab_type": "code",
        "outputId": "d5f5f514-b673-4688-8b2c-f312a608261e",
        "colab": {
          "base_uri": "https://localhost:8080/",
          "height": 166
        }
      },
      "source": [
        "str(COVID_19)"
      ],
      "execution_count": 6,
      "outputs": [
        {
          "output_type": "stream",
          "text": [
            "tibble [4,028 × 8] (S3: tbl_df/tbl/data.frame)\n",
            " $ Fecha de diagnostico   : POSIXct[1:4028], format: \"2020-04-10\" \"2020-04-10\" ...\n",
            " $ Ciudad de residencia   : chr [1:4028] \"Bogota\" \"Bogota\" \"Bogota\" \"Bogota\" ...\n",
            " $ Localidad de residencia: chr [1:4028] \"Usaquen\" \"Engativa\" \"Engativa\" \"Fontibon\" ...\n",
            " $ Edad                   : num [1:4028] 19 22 28 36 42 61 73 54 54 23 ...\n",
            " $ Sexo                   : chr [1:4028] \"F\" \"F\" \"F\" \"F\" ...\n",
            " $ Tipo de caso           : chr [1:4028] \"Importado\" \"Importado\" \"Importado\" \"Importado\" ...\n",
            " $ Ubicacion              : chr [1:4028] \"Casa\" \"Casa\" \"Casa\" \"Casa\" ...\n",
            " $ Estado                 : chr [1:4028] \"Recuperado\" \"Recuperado\" \"Recuperado\" \"Recuperado\" ...\n"
          ],
          "name": "stdout"
        }
      ]
    },
    {
      "cell_type": "code",
      "metadata": {
        "id": "nccqgRne0Ihd",
        "colab_type": "code",
        "outputId": "864793ca-9aa3-4283-9320-a9cd87f2033b",
        "colab": {
          "base_uri": "https://localhost:8080/",
          "height": 33
        }
      },
      "source": [
        "dim(COVID_19)"
      ],
      "execution_count": 7,
      "outputs": [
        {
          "output_type": "display_data",
          "data": {
            "text/plain": [
              "[1] 4028    8"
            ],
            "text/latex": "\\begin{enumerate*}\n\\item 4028\n\\item 8\n\\end{enumerate*}\n",
            "text/markdown": "1. 4028\n2. 8\n\n\n",
            "text/html": [
              "<style>\n",
              ".list-inline {list-style: none; margin:0; padding: 0}\n",
              ".list-inline>li {display: inline-block}\n",
              ".list-inline>li:not(:last-child)::after {content: \"\\00b7\"; padding: 0 .5ex}\n",
              "</style>\n",
              "<ol class=list-inline><li>4028</li><li>8</li></ol>\n"
            ]
          },
          "metadata": {
            "tags": []
          }
        }
      ]
    },
    {
      "cell_type": "code",
      "metadata": {
        "id": "imU5Z_nM_l-H",
        "colab_type": "code",
        "outputId": "8007266c-be7f-4921-ac35-998d4d48171f",
        "colab": {
          "base_uri": "https://localhost:8080/",
          "height": 33
        }
      },
      "source": [
        "colnames(COVID_19)"
      ],
      "execution_count": 8,
      "outputs": [
        {
          "output_type": "display_data",
          "data": {
            "text/plain": [
              "[1] \"Fecha de diagnostico\"    \"Ciudad de residencia\"   \n",
              "[3] \"Localidad de residencia\" \"Edad\"                   \n",
              "[5] \"Sexo\"                    \"Tipo de caso\"           \n",
              "[7] \"Ubicacion\"               \"Estado\"                 "
            ],
            "text/latex": "\\begin{enumerate*}\n\\item 'Fecha de diagnostico'\n\\item 'Ciudad de residencia'\n\\item 'Localidad de residencia'\n\\item 'Edad'\n\\item 'Sexo'\n\\item 'Tipo de caso'\n\\item 'Ubicacion'\n\\item 'Estado'\n\\end{enumerate*}\n",
            "text/markdown": "1. 'Fecha de diagnostico'\n2. 'Ciudad de residencia'\n3. 'Localidad de residencia'\n4. 'Edad'\n5. 'Sexo'\n6. 'Tipo de caso'\n7. 'Ubicacion'\n8. 'Estado'\n\n\n",
            "text/html": [
              "<style>\n",
              ".list-inline {list-style: none; margin:0; padding: 0}\n",
              ".list-inline>li {display: inline-block}\n",
              ".list-inline>li:not(:last-child)::after {content: \"\\00b7\"; padding: 0 .5ex}\n",
              "</style>\n",
              "<ol class=list-inline><li>'Fecha de diagnostico'</li><li>'Ciudad de residencia'</li><li>'Localidad de residencia'</li><li>'Edad'</li><li>'Sexo'</li><li>'Tipo de caso'</li><li>'Ubicacion'</li><li>'Estado'</li></ol>\n"
            ]
          },
          "metadata": {
            "tags": []
          }
        }
      ]
    },
    {
      "cell_type": "code",
      "metadata": {
        "id": "PJ4rZm7a-nzn",
        "colab_type": "code",
        "colab": {}
      },
      "source": [
        ""
      ],
      "execution_count": 0,
      "outputs": []
    },
    {
      "cell_type": "code",
      "metadata": {
        "id": "jy383hCZ_9pM",
        "colab_type": "code",
        "colab": {}
      },
      "source": [
        "COVID_19$`Ciudad de residencia` <- as.factor(COVID_19$`Ciudad de residencia`)\n"
      ],
      "execution_count": 0,
      "outputs": []
    },
    {
      "cell_type": "code",
      "metadata": {
        "id": "6V4uNx1NAb1Q",
        "colab_type": "code",
        "outputId": "f7facf79-c17b-489d-d020-591dade7995f",
        "colab": {
          "base_uri": "https://localhost:8080/",
          "height": 166
        }
      },
      "source": [
        "str(COVID_19)"
      ],
      "execution_count": 10,
      "outputs": [
        {
          "output_type": "stream",
          "text": [
            "tibble [4,028 × 8] (S3: tbl_df/tbl/data.frame)\n",
            " $ Fecha de diagnostico   : POSIXct[1:4028], format: \"2020-04-10\" \"2020-04-10\" ...\n",
            " $ Ciudad de residencia   : Factor w/ 2 levels \"Bogota\",\"Fuera de Bogota\": 1 1 1 1 1 1 1 1 1 1 ...\n",
            " $ Localidad de residencia: chr [1:4028] \"Usaquen\" \"Engativa\" \"Engativa\" \"Fontibon\" ...\n",
            " $ Edad                   : num [1:4028] 19 22 28 36 42 61 73 54 54 23 ...\n",
            " $ Sexo                   : chr [1:4028] \"F\" \"F\" \"F\" \"F\" ...\n",
            " $ Tipo de caso           : chr [1:4028] \"Importado\" \"Importado\" \"Importado\" \"Importado\" ...\n",
            " $ Ubicacion              : chr [1:4028] \"Casa\" \"Casa\" \"Casa\" \"Casa\" ...\n",
            " $ Estado                 : chr [1:4028] \"Recuperado\" \"Recuperado\" \"Recuperado\" \"Recuperado\" ...\n"
          ],
          "name": "stdout"
        }
      ]
    },
    {
      "cell_type": "code",
      "metadata": {
        "id": "6S5n1ltxBLrC",
        "colab_type": "code",
        "colab": {}
      },
      "source": [
        "COVID_19 <- as.data.frame(unclass(COVID_19))"
      ],
      "execution_count": 0,
      "outputs": []
    },
    {
      "cell_type": "code",
      "metadata": {
        "id": "QCXtqSwbBmso",
        "colab_type": "code",
        "outputId": "0278a75c-b3b1-4f14-cc71-83e2e37bd9d1",
        "colab": {
          "base_uri": "https://localhost:8080/",
          "height": 166
        }
      },
      "source": [
        "str(COVID_19)"
      ],
      "execution_count": 12,
      "outputs": [
        {
          "output_type": "stream",
          "text": [
            "'data.frame':\t4028 obs. of  8 variables:\n",
            " $ Fecha.de.diagnostico   : POSIXct, format: \"2020-04-10\" \"2020-04-10\" ...\n",
            " $ Ciudad.de.residencia   : Factor w/ 2 levels \"Bogota\",\"Fuera de Bogota\": 1 1 1 1 1 1 1 1 1 1 ...\n",
            " $ Localidad.de.residencia: Factor w/ 21 levels \"Antonio Narino\",..: 20 6 6 7 9 17 6 17 6 7 ...\n",
            " $ Edad                   : num  19 22 28 36 42 61 73 54 54 23 ...\n",
            " $ Sexo                   : Factor w/ 2 levels \"F\",\"M\": 1 1 1 1 1 1 1 2 1 2 ...\n",
            " $ Tipo.de.caso           : Factor w/ 4 levels \"Desconocido\",..: 3 3 3 3 3 3 3 3 4 4 ...\n",
            " $ Ubicacion              : Factor w/ 5 levels \"Casa\",\"Fallecido\",..: 1 1 1 1 1 1 1 1 1 1 ...\n",
            " $ Estado                 : Factor w/ 6 levels \"(No causa Directa)\",..: 5 5 5 5 5 5 5 5 5 5 ...\n"
          ],
          "name": "stdout"
        }
      ]
    },
    {
      "cell_type": "code",
      "metadata": {
        "id": "keOSsz_jekSp",
        "colab_type": "code",
        "outputId": "5917e171-d2a2-49ce-df82-1ff739484086",
        "colab": {
          "base_uri": "https://localhost:8080/",
          "height": 50
        }
      },
      "source": [
        "#Ver nivelres de una variable\n",
        "unique(COVID_19$Sexo)"
      ],
      "execution_count": 13,
      "outputs": [
        {
          "output_type": "display_data",
          "data": {
            "text/plain": [
              "[1] F M\n",
              "Levels: F M"
            ],
            "text/latex": "\\begin{enumerate*}\n\\item F\n\\item M\n\\end{enumerate*}\n\n\\emph{Levels}: \\begin{enumerate*}\n\\item 'F'\n\\item 'M'\n\\end{enumerate*}\n",
            "text/markdown": "1. F\n2. M\n\n\n\n**Levels**: 1. 'F'\n2. 'M'\n\n\n",
            "text/html": [
              "<style>\n",
              ".list-inline {list-style: none; margin:0; padding: 0}\n",
              ".list-inline>li {display: inline-block}\n",
              ".list-inline>li:not(:last-child)::after {content: \"\\00b7\"; padding: 0 .5ex}\n",
              "</style>\n",
              "<ol class=list-inline><li>F</li><li>M</li></ol>\n",
              "\n",
              "<details>\n",
              "\t<summary style=display:list-item;cursor:pointer>\n",
              "\t\t<strong>Levels</strong>:\n",
              "\t</summary>\n",
              "\t<style>\n",
              "\t.list-inline {list-style: none; margin:0; padding: 0}\n",
              "\t.list-inline>li {display: inline-block}\n",
              "\t.list-inline>li:not(:last-child)::after {content: \"\\00b7\"; padding: 0 .5ex}\n",
              "\t</style>\n",
              "\t<ol class=list-inline><li>'F'</li><li>'M'</li></ol>\n",
              "</details>"
            ]
          },
          "metadata": {
            "tags": []
          }
        }
      ]
    },
    {
      "cell_type": "code",
      "metadata": {
        "id": "hvOJEuFVB9Rr",
        "colab_type": "code",
        "outputId": "6396e4f0-1f7e-4c71-e7ac-72e14bba1ee0",
        "colab": {
          "base_uri": "https://localhost:8080/",
          "height": 116
        }
      },
      "source": [
        "install.packages('modeest')\n"
      ],
      "execution_count": 14,
      "outputs": [
        {
          "output_type": "stream",
          "text": [
            "Installing package into ‘/usr/local/lib/R/site-library’\n",
            "(as ‘lib’ is unspecified)\n",
            "\n",
            "also installing the dependencies ‘timeDate’, ‘timeSeries’, ‘gss’, ‘rmutil’, ‘clue’, ‘fBasics’, ‘stable’, ‘stabledist’, ‘statip’\n",
            "\n",
            "\n"
          ],
          "name": "stderr"
        }
      ]
    },
    {
      "cell_type": "code",
      "metadata": {
        "id": "AU3CU3BvEO-z",
        "colab_type": "code",
        "outputId": "f7a1bdd9-c0e3-4551-cf96-1468d0764b6c",
        "colab": {
          "base_uri": "https://localhost:8080/",
          "height": 83
        }
      },
      "source": [
        "library('modeest')"
      ],
      "execution_count": 15,
      "outputs": [
        {
          "output_type": "stream",
          "text": [
            "Registered S3 method overwritten by 'rmutil':\n",
            "  method         from \n",
            "  plot.residuals psych\n",
            "\n"
          ],
          "name": "stderr"
        }
      ]
    },
    {
      "cell_type": "markdown",
      "metadata": {
        "id": "afPUPnnsFETF",
        "colab_type": "text"
      },
      "source": [
        "**`attach` Destructura las columnas del df en variables globales**"
      ]
    },
    {
      "cell_type": "code",
      "metadata": {
        "id": "IpNA_o_FEbzX",
        "colab_type": "code",
        "colab": {}
      },
      "source": [
        "attach(COVID_19)"
      ],
      "execution_count": 0,
      "outputs": []
    },
    {
      "cell_type": "code",
      "metadata": {
        "id": "mPh6InstEVEo",
        "colab_type": "code",
        "outputId": "5b611031-1311-4165-c4c9-5741e6648e44",
        "colab": {
          "base_uri": "https://localhost:8080/",
          "height": 33
        }
      },
      "source": [
        "mean(Edad)"
      ],
      "execution_count": 17,
      "outputs": [
        {
          "output_type": "display_data",
          "data": {
            "text/plain": [
              "[1] 40.65889"
            ],
            "text/latex": "40.6588877855015",
            "text/markdown": "40.6588877855015",
            "text/html": [
              "40.6588877855015"
            ]
          },
          "metadata": {
            "tags": []
          }
        }
      ]
    },
    {
      "cell_type": "code",
      "metadata": {
        "id": "GWVQe7G9E5td",
        "colab_type": "code",
        "outputId": "484a5301-171b-48a9-beb3-ff8fbefa40bd",
        "colab": {
          "base_uri": "https://localhost:8080/",
          "height": 33
        }
      },
      "source": [
        "median(Edad)"
      ],
      "execution_count": 18,
      "outputs": [
        {
          "output_type": "display_data",
          "data": {
            "text/plain": [
              "[1] 38"
            ],
            "text/latex": "38",
            "text/markdown": "38",
            "text/html": [
              "38"
            ]
          },
          "metadata": {
            "tags": []
          }
        }
      ]
    },
    {
      "cell_type": "code",
      "metadata": {
        "id": "JZES0SH8EYJI",
        "colab_type": "code",
        "outputId": "886c8513-0409-4df4-8d9a-1c2db9bb7c81",
        "colab": {
          "base_uri": "https://localhost:8080/",
          "height": 33
        }
      },
      "source": [
        "mfv(Edad) #Moda"
      ],
      "execution_count": 19,
      "outputs": [
        {
          "output_type": "display_data",
          "data": {
            "text/plain": [
              "[1] 30"
            ],
            "text/latex": "30",
            "text/markdown": "30",
            "text/html": [
              "30"
            ]
          },
          "metadata": {
            "tags": []
          }
        }
      ]
    },
    {
      "cell_type": "markdown",
      "metadata": {
        "id": "Ag2LYqHiJs_F",
        "colab_type": "text"
      },
      "source": [
        "Percentiles\n",
        "\n",
        "Tener cuidado 0%125%2750%3875%54100%103\n",
        "\n",
        "Es 0%:1 25%:27 50%:38 75%:54 100%:103"
      ]
    },
    {
      "cell_type": "code",
      "metadata": {
        "id": "7GXB6OMCEl6p",
        "colab_type": "code",
        "outputId": "5fb8a963-40f8-4c06-956e-1c6f72bca21b",
        "colab": {
          "base_uri": "https://localhost:8080/",
          "height": 33
        }
      },
      "source": [
        "quantile(Edad)"
      ],
      "execution_count": 20,
      "outputs": [
        {
          "output_type": "display_data",
          "data": {
            "text/plain": [
              "  0%  25%  50%  75% 100% \n",
              "   1   27   38   54  103 "
            ],
            "text/latex": "\\begin{description*}\n\\item[0\\textbackslash{}\\%] 1\n\\item[25\\textbackslash{}\\%] 27\n\\item[50\\textbackslash{}\\%] 38\n\\item[75\\textbackslash{}\\%] 54\n\\item[100\\textbackslash{}\\%] 103\n\\end{description*}\n",
            "text/markdown": "0%\n:   125%\n:   2750%\n:   3875%\n:   54100%\n:   103\n\n",
            "text/html": [
              "<style>\n",
              ".dl-inline {width: auto; margin:0; padding: 0}\n",
              ".dl-inline>dt, .dl-inline>dd {float: none; width: auto; display: inline-block}\n",
              ".dl-inline>dt::after {content: \":\\0020\"; padding-right: .5ex}\n",
              ".dl-inline>dt:not(:first-of-type) {padding-left: .5ex}\n",
              "</style><dl class=dl-inline><dt>0%</dt><dd>1</dd><dt>25%</dt><dd>27</dd><dt>50%</dt><dd>38</dd><dt>75%</dt><dd>54</dd><dt>100%</dt><dd>103</dd></dl>\n"
            ]
          },
          "metadata": {
            "tags": []
          }
        }
      ]
    },
    {
      "cell_type": "code",
      "metadata": {
        "id": "0Y3VW_4XIzCS",
        "colab_type": "code",
        "outputId": "4c6b0480-689e-4d1c-c843-c17e058ad009",
        "colab": {
          "base_uri": "https://localhost:8080/",
          "height": 33
        }
      },
      "source": [
        "quantile(Edad, c(0.1, 0.26, 0.78))"
      ],
      "execution_count": 21,
      "outputs": [
        {
          "output_type": "display_data",
          "data": {
            "text/plain": [
              " 10%  26%  78% \n",
              "18.7 28.0 56.0 "
            ],
            "text/latex": "\\begin{description*}\n\\item[10\\textbackslash{}\\%] 18.7\n\\item[26\\textbackslash{}\\%] 28\n\\item[78\\textbackslash{}\\%] 56\n\\end{description*}\n",
            "text/markdown": "10%\n:   18.726%\n:   2878%\n:   56\n\n",
            "text/html": [
              "<style>\n",
              ".dl-inline {width: auto; margin:0; padding: 0}\n",
              ".dl-inline>dt, .dl-inline>dd {float: none; width: auto; display: inline-block}\n",
              ".dl-inline>dt::after {content: \":\\0020\"; padding-right: .5ex}\n",
              ".dl-inline>dt:not(:first-of-type) {padding-left: .5ex}\n",
              "</style><dl class=dl-inline><dt>10%</dt><dd>18.7</dd><dt>26%</dt><dd>28</dd><dt>78%</dt><dd>56</dd></dl>\n"
            ]
          },
          "metadata": {
            "tags": []
          }
        }
      ]
    },
    {
      "cell_type": "code",
      "metadata": {
        "id": "bF-4pIznJrDo",
        "colab_type": "code",
        "outputId": "1758e3d6-6247-42ae-bafb-28211ae14f98",
        "colab": {
          "base_uri": "https://localhost:8080/",
          "height": 416
        }
      },
      "source": [
        "summary(COVID_19)"
      ],
      "execution_count": 22,
      "outputs": [
        {
          "output_type": "display_data",
          "data": {
            "text/plain": [
              " Fecha.de.diagnostico               Ciudad.de.residencia\n",
              " Min.   :2020-03-13 00:00:00   Bogota         :3989     \n",
              " 1st Qu.:2020-04-07 00:00:00   Fuera de Bogota:  39     \n",
              " Median :2020-04-23 00:00:00                            \n",
              " Mean   :2020-04-19 20:51:14                            \n",
              " 3rd Qu.:2020-05-03 00:00:00                            \n",
              " Max.   :2020-05-09 00:00:00                            \n",
              "                                                        \n",
              "   Localidad.de.residencia      Edad        Sexo          Tipo.de.caso \n",
              " Kennedy       : 774       Min.   :  1.00   F:2001   Desconocido: 125  \n",
              " Suba          : 430       1st Qu.: 27.00   M:2027   En estudio :2609  \n",
              " Engativa      : 350       Median : 38.00            Importado  : 350  \n",
              " Bosa          : 330       Mean   : 40.66            Relacionado: 944  \n",
              " Usaquen       : 318       3rd Qu.: 54.00                              \n",
              " Ciudad Bolivar: 226       Max.   :103.00                              \n",
              " (Other)       :1600                                                   \n",
              "                 Ubicacion                   Estado    \n",
              " Casa                 :3620   (No causa Directa):   2  \n",
              " Fallecido            : 139   Critico           :  51  \n",
              " Fallecido (No aplica):   2   Fallecido         : 139  \n",
              " Hospital             : 215   Moderado          :2953  \n",
              " Hospital UCI         :  52   Recuperado        : 679  \n",
              "                              Severo            : 204  \n",
              "                                                       "
            ]
          },
          "metadata": {
            "tags": []
          }
        }
      ]
    },
    {
      "cell_type": "code",
      "metadata": {
        "id": "37pJ801uK2Mr",
        "colab_type": "code",
        "outputId": "7d8d61c7-3637-4e65-8258-583752816c91",
        "colab": {
          "base_uri": "https://localhost:8080/",
          "height": 50
        }
      },
      "source": [
        "summary(Edad)"
      ],
      "execution_count": 23,
      "outputs": [
        {
          "output_type": "display_data",
          "data": {
            "text/plain": [
              "   Min. 1st Qu.  Median    Mean 3rd Qu.    Max. \n",
              "   1.00   27.00   38.00   40.66   54.00  103.00 "
            ]
          },
          "metadata": {
            "tags": []
          }
        }
      ]
    },
    {
      "cell_type": "code",
      "metadata": {
        "id": "7uFG6QHbK9j4",
        "colab_type": "code",
        "outputId": "0f9b6903-6195-4f74-dc4f-d1090cff8153",
        "colab": {
          "base_uri": "https://localhost:8080/",
          "height": 141
        }
      },
      "source": [
        "Edad_agr<-COVID_19 %>% group_by(Tipo.de.caso) %>% summarise(mean(Edad))\n",
        "Edad_agr"
      ],
      "execution_count": 24,
      "outputs": [
        {
          "output_type": "display_data",
          "data": {
            "text/plain": [
              "  Tipo.de.caso mean(Edad)\n",
              "1 Desconocido  50.26400  \n",
              "2 En estudio   41.03066  \n",
              "3 Importado    43.29143  \n",
              "4 Relacionado  37.38347  "
            ],
            "text/latex": "A tibble: 4 × 2\n\\begin{tabular}{ll}\n Tipo.de.caso & mean(Edad)\\\\\n <fct> & <dbl>\\\\\n\\hline\n\t Desconocido & 50.26400\\\\\n\t En estudio  & 41.03066\\\\\n\t Importado   & 43.29143\\\\\n\t Relacionado & 37.38347\\\\\n\\end{tabular}\n",
            "text/markdown": "\nA tibble: 4 × 2\n\n| Tipo.de.caso &lt;fct&gt; | mean(Edad) &lt;dbl&gt; |\n|---|---|\n| Desconocido | 50.26400 |\n| En estudio  | 41.03066 |\n| Importado   | 43.29143 |\n| Relacionado | 37.38347 |\n\n",
            "text/html": [
              "<table>\n",
              "<caption>A tibble: 4 × 2</caption>\n",
              "<thead>\n",
              "\t<tr><th scope=col>Tipo.de.caso</th><th scope=col>mean(Edad)</th></tr>\n",
              "\t<tr><th scope=col>&lt;fct&gt;</th><th scope=col>&lt;dbl&gt;</th></tr>\n",
              "</thead>\n",
              "<tbody>\n",
              "\t<tr><td>Desconocido</td><td>50.26400</td></tr>\n",
              "\t<tr><td>En estudio </td><td>41.03066</td></tr>\n",
              "\t<tr><td>Importado  </td><td>43.29143</td></tr>\n",
              "\t<tr><td>Relacionado</td><td>37.38347</td></tr>\n",
              "</tbody>\n",
              "</table>\n"
            ]
          },
          "metadata": {
            "tags": []
          }
        }
      ]
    },
    {
      "cell_type": "code",
      "metadata": {
        "id": "axNtPWfOXTHK",
        "colab_type": "code",
        "outputId": "ce58aa48-e53e-4aa1-9a6e-c398690d2cf3",
        "colab": {
          "base_uri": "https://localhost:8080/",
          "height": 33
        }
      },
      "source": [
        "range(Edad)"
      ],
      "execution_count": 25,
      "outputs": [
        {
          "output_type": "display_data",
          "data": {
            "text/plain": [
              "[1]   1 103"
            ],
            "text/latex": "\\begin{enumerate*}\n\\item 1\n\\item 103\n\\end{enumerate*}\n",
            "text/markdown": "1. 1\n2. 103\n\n\n",
            "text/html": [
              "<style>\n",
              ".list-inline {list-style: none; margin:0; padding: 0}\n",
              ".list-inline>li {display: inline-block}\n",
              ".list-inline>li:not(:last-child)::after {content: \"\\00b7\"; padding: 0 .5ex}\n",
              "</style>\n",
              "<ol class=list-inline><li>1</li><li>103</li></ol>\n"
            ]
          },
          "metadata": {
            "tags": []
          }
        }
      ]
    },
    {
      "cell_type": "code",
      "metadata": {
        "id": "MK37e8QPYk12",
        "colab_type": "code",
        "outputId": "d0a2a89e-f478-410c-f5b2-848b786b05c2",
        "colab": {
          "base_uri": "https://localhost:8080/",
          "height": 50
        }
      },
      "source": [
        "colnames(COVID_19)"
      ],
      "execution_count": 26,
      "outputs": [
        {
          "output_type": "display_data",
          "data": {
            "text/plain": [
              "[1] \"Fecha.de.diagnostico\"    \"Ciudad.de.residencia\"   \n",
              "[3] \"Localidad.de.residencia\" \"Edad\"                   \n",
              "[5] \"Sexo\"                    \"Tipo.de.caso\"           \n",
              "[7] \"Ubicacion\"               \"Estado\"                 "
            ],
            "text/latex": "\\begin{enumerate*}\n\\item 'Fecha.de.diagnostico'\n\\item 'Ciudad.de.residencia'\n\\item 'Localidad.de.residencia'\n\\item 'Edad'\n\\item 'Sexo'\n\\item 'Tipo.de.caso'\n\\item 'Ubicacion'\n\\item 'Estado'\n\\end{enumerate*}\n",
            "text/markdown": "1. 'Fecha.de.diagnostico'\n2. 'Ciudad.de.residencia'\n3. 'Localidad.de.residencia'\n4. 'Edad'\n5. 'Sexo'\n6. 'Tipo.de.caso'\n7. 'Ubicacion'\n8. 'Estado'\n\n\n",
            "text/html": [
              "<style>\n",
              ".list-inline {list-style: none; margin:0; padding: 0}\n",
              ".list-inline>li {display: inline-block}\n",
              ".list-inline>li:not(:last-child)::after {content: \"\\00b7\"; padding: 0 .5ex}\n",
              "</style>\n",
              "<ol class=list-inline><li>'Fecha.de.diagnostico'</li><li>'Ciudad.de.residencia'</li><li>'Localidad.de.residencia'</li><li>'Edad'</li><li>'Sexo'</li><li>'Tipo.de.caso'</li><li>'Ubicacion'</li><li>'Estado'</li></ol>\n"
            ]
          },
          "metadata": {
            "tags": []
          }
        }
      ]
    },
    {
      "cell_type": "code",
      "metadata": {
        "id": "Prg-HAKXZsCw",
        "colab_type": "code",
        "outputId": "ad123e89-304a-4411-86a0-62cdfc7a2729",
        "colab": {
          "base_uri": "https://localhost:8080/",
          "height": 33
        }
      },
      "source": [
        "var(Edad)"
      ],
      "execution_count": 27,
      "outputs": [
        {
          "output_type": "display_data",
          "data": {
            "text/plain": [
              "[1] 350.1712"
            ],
            "text/latex": "350.171172539677",
            "text/markdown": "350.171172539677",
            "text/html": [
              "350.171172539677"
            ]
          },
          "metadata": {
            "tags": []
          }
        }
      ]
    },
    {
      "cell_type": "code",
      "metadata": {
        "id": "HGorxl2rcpSD",
        "colab_type": "code",
        "colab": {}
      },
      "source": [
        "n <- length(Edad)"
      ],
      "execution_count": 0,
      "outputs": []
    },
    {
      "cell_type": "markdown",
      "metadata": {
        "id": "wc0KvwQadDoG",
        "colab_type": "text"
      },
      "source": [
        "Varianza poblacional"
      ]
    },
    {
      "cell_type": "code",
      "metadata": {
        "id": "ibuV9J_pcsMb",
        "colab_type": "code",
        "outputId": "12ba3489-f079-4fe1-a402-a5dc9636fa3a",
        "colab": {
          "base_uri": "https://localhost:8080/",
          "height": 33
        }
      },
      "source": [
        "varp <-(n-1)/n*var(Edad)\n",
        "varp"
      ],
      "execution_count": 29,
      "outputs": [
        {
          "output_type": "display_data",
          "data": {
            "text/plain": [
              "[1] 350.0842"
            ],
            "text/latex": "350.084238286316",
            "text/markdown": "350.084238286316",
            "text/html": [
              "350.084238286316"
            ]
          },
          "metadata": {
            "tags": []
          }
        }
      ]
    },
    {
      "cell_type": "code",
      "metadata": {
        "id": "Z6Msk4d9cvEN",
        "colab_type": "code",
        "outputId": "5656eeba-0556-4491-d6e6-fff994ff7069",
        "colab": {
          "base_uri": "https://localhost:8080/",
          "height": 33
        }
      },
      "source": [
        "sqrt(varp)"
      ],
      "execution_count": 30,
      "outputs": [
        {
          "output_type": "display_data",
          "data": {
            "text/plain": [
              "[1] 18.71054"
            ],
            "text/latex": "18.7105381613228",
            "text/markdown": "18.7105381613228",
            "text/html": [
              "18.7105381613228"
            ]
          },
          "metadata": {
            "tags": []
          }
        }
      ]
    },
    {
      "cell_type": "code",
      "metadata": {
        "id": "h6bHvpSzdA6M",
        "colab_type": "code",
        "outputId": "815f81f1-5bdf-4054-f046-4077f30d1e4e",
        "colab": {
          "base_uri": "https://localhost:8080/",
          "height": 33
        }
      },
      "source": [
        "sd(Edad)"
      ],
      "execution_count": 31,
      "outputs": [
        {
          "output_type": "display_data",
          "data": {
            "text/plain": [
              "[1] 18.71286"
            ],
            "text/latex": "18.7128611532196",
            "text/markdown": "18.7128611532196",
            "text/html": [
              "18.7128611532196"
            ]
          },
          "metadata": {
            "tags": []
          }
        }
      ]
    },
    {
      "cell_type": "markdown",
      "metadata": {
        "id": "EIsgwgtFeExi",
        "colab_type": "text"
      },
      "source": [
        "Que tan lejos estan mis datos de la media"
      ]
    },
    {
      "cell_type": "code",
      "metadata": {
        "id": "qjXgNasRdK1B",
        "colab_type": "code",
        "outputId": "94ce926a-a676-4cce-ee6e-98f8ba6c5c0e",
        "colab": {
          "base_uri": "https://localhost:8080/",
          "height": 33
        }
      },
      "source": [
        "mean(Edad)-sd(Edad)"
      ],
      "execution_count": 32,
      "outputs": [
        {
          "output_type": "display_data",
          "data": {
            "text/plain": [
              "[1] 21.94603"
            ],
            "text/latex": "21.9460266322818",
            "text/markdown": "21.9460266322818",
            "text/html": [
              "21.9460266322818"
            ]
          },
          "metadata": {
            "tags": []
          }
        }
      ]
    },
    {
      "cell_type": "code",
      "metadata": {
        "id": "uh87bU_ueDgQ",
        "colab_type": "code",
        "colab": {
          "base_uri": "https://localhost:8080/",
          "height": 765
        },
        "outputId": "2c53ee85-f0d4-460c-ed7e-1497cf025449"
      },
      "source": [
        "#Analizar distribucion datos con describe\n",
        "describe(COVID_19, check=FALSE)"
      ],
      "execution_count": 41,
      "outputs": [
        {
          "output_type": "stream",
          "text": [
            "Converted non-numeric matrix input to numeric.  Are you sure you wanted to do this. Please check your data\n",
            "\n",
            "Warning message in matrix(as.numeric(x), ncol = nvar):\n",
            "“NAs introduced by coercion”\n",
            "Warning message in FUN(newX[, i], ...):\n",
            "“no non-missing arguments to min; returning Inf”\n",
            "Warning message in FUN(newX[, i], ...):\n",
            "“no non-missing arguments to min; returning Inf”\n",
            "Warning message in FUN(newX[, i], ...):\n",
            "“no non-missing arguments to min; returning Inf”\n",
            "Warning message in FUN(newX[, i], ...):\n",
            "“no non-missing arguments to min; returning Inf”\n",
            "Warning message in FUN(newX[, i], ...):\n",
            "“no non-missing arguments to min; returning Inf”\n",
            "Warning message in FUN(newX[, i], ...):\n",
            "“no non-missing arguments to min; returning Inf”\n",
            "Warning message in FUN(newX[, i], ...):\n",
            "“no non-missing arguments to min; returning Inf”\n",
            "Warning message in FUN(newX[, i], ...):\n",
            "“no non-missing arguments to max; returning -Inf”\n",
            "Warning message in FUN(newX[, i], ...):\n",
            "“no non-missing arguments to max; returning -Inf”\n",
            "Warning message in FUN(newX[, i], ...):\n",
            "“no non-missing arguments to max; returning -Inf”\n",
            "Warning message in FUN(newX[, i], ...):\n",
            "“no non-missing arguments to max; returning -Inf”\n",
            "Warning message in FUN(newX[, i], ...):\n",
            "“no non-missing arguments to max; returning -Inf”\n",
            "Warning message in FUN(newX[, i], ...):\n",
            "“no non-missing arguments to max; returning -Inf”\n",
            "Warning message in FUN(newX[, i], ...):\n",
            "“no non-missing arguments to max; returning -Inf”\n"
          ],
          "name": "stderr"
        },
        {
          "output_type": "display_data",
          "data": {
            "text/plain": [
              "                         vars n    mean     sd       median trimmed mad     min\n",
              "Fecha.de.diagnostico*    1    4028      NaN       NA NA         NaN      NA Inf\n",
              "Ciudad.de.residencia*    2    4028      NaN       NA NA         NaN      NA Inf\n",
              "Localidad.de.residencia* 3    4028      NaN       NA NA         NaN      NA Inf\n",
              "Edad*                    4    4028 40.65889 18.71286 38     39.9969 19.2738   1\n",
              "Sexo*                    5    4028      NaN       NA NA         NaN      NA Inf\n",
              "Tipo.de.caso*            6    4028      NaN       NA NA         NaN      NA Inf\n",
              "Ubicacion*               7    4028      NaN       NA NA         NaN      NA Inf\n",
              "Estado*                  8    4028      NaN       NA NA         NaN      NA Inf\n",
              "                         max  range skew      kurtosis  se       \n",
              "Fecha.de.diagnostico*    -Inf -Inf         NA        NA        NA\n",
              "Ciudad.de.residencia*    -Inf -Inf         NA        NA        NA\n",
              "Localidad.de.residencia* -Inf -Inf         NA        NA        NA\n",
              "Edad*                     103  102  0.3444343 -0.296616 0.2948462\n",
              "Sexo*                    -Inf -Inf         NA        NA        NA\n",
              "Tipo.de.caso*            -Inf -Inf         NA        NA        NA\n",
              "Ubicacion*               -Inf -Inf         NA        NA        NA\n",
              "Estado*                  -Inf -Inf         NA        NA        NA"
            ],
            "text/latex": "A psych: 8 × 13\n\\begin{tabular}{r|lllllllllllll}\n  & vars & n & mean & sd & median & trimmed & mad & min & max & range & skew & kurtosis & se\\\\\n  & <int> & <dbl> & <dbl> & <dbl> & <dbl> & <dbl> & <dbl> & <dbl> & <dbl> & <dbl> & <dbl> & <dbl> & <dbl>\\\\\n\\hline\n\tFecha.de.diagnostico* & 1 & 4028 &      NaN &       NA & NA &     NaN &      NA & Inf & -Inf & -Inf &        NA &        NA &        NA\\\\\n\tCiudad.de.residencia* & 2 & 4028 &      NaN &       NA & NA &     NaN &      NA & Inf & -Inf & -Inf &        NA &        NA &        NA\\\\\n\tLocalidad.de.residencia* & 3 & 4028 &      NaN &       NA & NA &     NaN &      NA & Inf & -Inf & -Inf &        NA &        NA &        NA\\\\\n\tEdad* & 4 & 4028 & 40.65889 & 18.71286 & 38 & 39.9969 & 19.2738 &   1 &  103 &  102 & 0.3444343 & -0.296616 & 0.2948462\\\\\n\tSexo* & 5 & 4028 &      NaN &       NA & NA &     NaN &      NA & Inf & -Inf & -Inf &        NA &        NA &        NA\\\\\n\tTipo.de.caso* & 6 & 4028 &      NaN &       NA & NA &     NaN &      NA & Inf & -Inf & -Inf &        NA &        NA &        NA\\\\\n\tUbicacion* & 7 & 4028 &      NaN &       NA & NA &     NaN &      NA & Inf & -Inf & -Inf &        NA &        NA &        NA\\\\\n\tEstado* & 8 & 4028 &      NaN &       NA & NA &     NaN &      NA & Inf & -Inf & -Inf &        NA &        NA &        NA\\\\\n\\end{tabular}\n",
            "text/markdown": "\nA psych: 8 × 13\n\n| <!--/--> | vars &lt;int&gt; | n &lt;dbl&gt; | mean &lt;dbl&gt; | sd &lt;dbl&gt; | median &lt;dbl&gt; | trimmed &lt;dbl&gt; | mad &lt;dbl&gt; | min &lt;dbl&gt; | max &lt;dbl&gt; | range &lt;dbl&gt; | skew &lt;dbl&gt; | kurtosis &lt;dbl&gt; | se &lt;dbl&gt; |\n|---|---|---|---|---|---|---|---|---|---|---|---|---|---|\n| Fecha.de.diagnostico* | 1 | 4028 |      NaN |       NA | NA |     NaN |      NA | Inf | -Inf | -Inf |        NA |        NA |        NA |\n| Ciudad.de.residencia* | 2 | 4028 |      NaN |       NA | NA |     NaN |      NA | Inf | -Inf | -Inf |        NA |        NA |        NA |\n| Localidad.de.residencia* | 3 | 4028 |      NaN |       NA | NA |     NaN |      NA | Inf | -Inf | -Inf |        NA |        NA |        NA |\n| Edad* | 4 | 4028 | 40.65889 | 18.71286 | 38 | 39.9969 | 19.2738 |   1 |  103 |  102 | 0.3444343 | -0.296616 | 0.2948462 |\n| Sexo* | 5 | 4028 |      NaN |       NA | NA |     NaN |      NA | Inf | -Inf | -Inf |        NA |        NA |        NA |\n| Tipo.de.caso* | 6 | 4028 |      NaN |       NA | NA |     NaN |      NA | Inf | -Inf | -Inf |        NA |        NA |        NA |\n| Ubicacion* | 7 | 4028 |      NaN |       NA | NA |     NaN |      NA | Inf | -Inf | -Inf |        NA |        NA |        NA |\n| Estado* | 8 | 4028 |      NaN |       NA | NA |     NaN |      NA | Inf | -Inf | -Inf |        NA |        NA |        NA |\n\n",
            "text/html": [
              "<table>\n",
              "<caption>A psych: 8 × 13</caption>\n",
              "<thead>\n",
              "\t<tr><th></th><th scope=col>vars</th><th scope=col>n</th><th scope=col>mean</th><th scope=col>sd</th><th scope=col>median</th><th scope=col>trimmed</th><th scope=col>mad</th><th scope=col>min</th><th scope=col>max</th><th scope=col>range</th><th scope=col>skew</th><th scope=col>kurtosis</th><th scope=col>se</th></tr>\n",
              "\t<tr><th></th><th scope=col>&lt;int&gt;</th><th scope=col>&lt;dbl&gt;</th><th scope=col>&lt;dbl&gt;</th><th scope=col>&lt;dbl&gt;</th><th scope=col>&lt;dbl&gt;</th><th scope=col>&lt;dbl&gt;</th><th scope=col>&lt;dbl&gt;</th><th scope=col>&lt;dbl&gt;</th><th scope=col>&lt;dbl&gt;</th><th scope=col>&lt;dbl&gt;</th><th scope=col>&lt;dbl&gt;</th><th scope=col>&lt;dbl&gt;</th><th scope=col>&lt;dbl&gt;</th></tr>\n",
              "</thead>\n",
              "<tbody>\n",
              "\t<tr><th scope=row>Fecha.de.diagnostico*</th><td>1</td><td>4028</td><td>     NaN</td><td>      NA</td><td>NA</td><td>    NaN</td><td>     NA</td><td>Inf</td><td>-Inf</td><td>-Inf</td><td>       NA</td><td>       NA</td><td>       NA</td></tr>\n",
              "\t<tr><th scope=row>Ciudad.de.residencia*</th><td>2</td><td>4028</td><td>     NaN</td><td>      NA</td><td>NA</td><td>    NaN</td><td>     NA</td><td>Inf</td><td>-Inf</td><td>-Inf</td><td>       NA</td><td>       NA</td><td>       NA</td></tr>\n",
              "\t<tr><th scope=row>Localidad.de.residencia*</th><td>3</td><td>4028</td><td>     NaN</td><td>      NA</td><td>NA</td><td>    NaN</td><td>     NA</td><td>Inf</td><td>-Inf</td><td>-Inf</td><td>       NA</td><td>       NA</td><td>       NA</td></tr>\n",
              "\t<tr><th scope=row>Edad*</th><td>4</td><td>4028</td><td>40.65889</td><td>18.71286</td><td>38</td><td>39.9969</td><td>19.2738</td><td>  1</td><td> 103</td><td> 102</td><td>0.3444343</td><td>-0.296616</td><td>0.2948462</td></tr>\n",
              "\t<tr><th scope=row>Sexo*</th><td>5</td><td>4028</td><td>     NaN</td><td>      NA</td><td>NA</td><td>    NaN</td><td>     NA</td><td>Inf</td><td>-Inf</td><td>-Inf</td><td>       NA</td><td>       NA</td><td>       NA</td></tr>\n",
              "\t<tr><th scope=row>Tipo.de.caso*</th><td>6</td><td>4028</td><td>     NaN</td><td>      NA</td><td>NA</td><td>    NaN</td><td>     NA</td><td>Inf</td><td>-Inf</td><td>-Inf</td><td>       NA</td><td>       NA</td><td>       NA</td></tr>\n",
              "\t<tr><th scope=row>Ubicacion*</th><td>7</td><td>4028</td><td>     NaN</td><td>      NA</td><td>NA</td><td>    NaN</td><td>     NA</td><td>Inf</td><td>-Inf</td><td>-Inf</td><td>       NA</td><td>       NA</td><td>       NA</td></tr>\n",
              "\t<tr><th scope=row>Estado*</th><td>8</td><td>4028</td><td>     NaN</td><td>      NA</td><td>NA</td><td>    NaN</td><td>     NA</td><td>Inf</td><td>-Inf</td><td>-Inf</td><td>       NA</td><td>       NA</td><td>       NA</td></tr>\n",
              "</tbody>\n",
              "</table>\n"
            ]
          },
          "metadata": {
            "tags": []
          }
        }
      ]
    },
    {
      "cell_type": "code",
      "metadata": {
        "id": "aLOMcIhe8q39",
        "colab_type": "code",
        "colab": {
          "base_uri": "https://localhost:8080/",
          "height": 186
        },
        "outputId": "7f0f8160-70f1-4262-95d0-98393bf91966"
      },
      "source": [
        "str(COVID_19)"
      ],
      "execution_count": 36,
      "outputs": [
        {
          "output_type": "stream",
          "text": [
            "'data.frame':\t4028 obs. of  8 variables:\n",
            " $ Fecha.de.diagnostico   : POSIXct, format: \"2020-04-10\" \"2020-04-10\" ...\n",
            " $ Ciudad.de.residencia   : Factor w/ 2 levels \"Bogota\",\"Fuera de Bogota\": 1 1 1 1 1 1 1 1 1 1 ...\n",
            " $ Localidad.de.residencia: Factor w/ 21 levels \"Antonio Narino\",..: 20 6 6 7 9 17 6 17 6 7 ...\n",
            " $ Edad                   : num  19 22 28 36 42 61 73 54 54 23 ...\n",
            " $ Sexo                   : Factor w/ 2 levels \"F\",\"M\": 1 1 1 1 1 1 1 2 1 2 ...\n",
            " $ Tipo.de.caso           : Factor w/ 4 levels \"Desconocido\",..: 3 3 3 3 3 3 3 3 4 4 ...\n",
            " $ Ubicacion              : Factor w/ 5 levels \"Casa\",\"Fallecido\",..: 1 1 1 1 1 1 1 1 1 1 ...\n",
            " $ Estado                 : Factor w/ 6 levels \"(No causa Directa)\",..: 5 5 5 5 5 5 5 5 5 5 ...\n"
          ],
          "name": "stdout"
        }
      ]
    },
    {
      "cell_type": "code",
      "metadata": {
        "id": "n2y7tDBB-g4y",
        "colab_type": "code",
        "colab": {}
      },
      "source": [
        ""
      ],
      "execution_count": 0,
      "outputs": []
    },
    {
      "cell_type": "markdown",
      "metadata": {
        "id": "0vURRLIH_141",
        "colab_type": "text"
      },
      "source": [
        "# Libreria grafica"
      ]
    },
    {
      "cell_type": "code",
      "metadata": {
        "id": "rbmqEecC_3MZ",
        "colab_type": "code",
        "colab": {
          "base_uri": "https://localhost:8080/",
          "height": 350
        },
        "outputId": "e485b54d-a936-49a8-d49e-c414b5e2e457"
      },
      "source": [
        "install.packages('fdth')\n",
        "library(fdth)"
      ],
      "execution_count": 42,
      "outputs": [
        {
          "output_type": "stream",
          "text": [
            "Installing package into ‘/usr/local/lib/R/site-library’\n",
            "(as ‘lib’ is unspecified)\n",
            "\n",
            "also installing the dependency ‘xtable’\n",
            "\n",
            "\n",
            "\n",
            "Attaching package: ‘fdth’\n",
            "\n",
            "\n",
            "The following object is masked from ‘package:modeest’:\n",
            "\n",
            "    mfv\n",
            "\n",
            "\n",
            "The following objects are masked from ‘package:stats’:\n",
            "\n",
            "    sd, var\n",
            "\n",
            "\n"
          ],
          "name": "stderr"
        }
      ]
    },
    {
      "cell_type": "code",
      "metadata": {
        "id": "WNUV6Iy6_912",
        "colab_type": "code",
        "colab": {
          "base_uri": "https://localhost:8080/",
          "height": 378
        },
        "outputId": "a57f54a7-aa15-4524-b986-b96c73dace1a"
      },
      "source": [
        "Tabla_frec <- fdt(Edad, breaks='Sturges')\n",
        "Tabla_frec"
      ],
      "execution_count": 44,
      "outputs": [
        {
          "output_type": "display_data",
          "data": {
            "text/plain": [
              "      Class limits   f   rf rf(%)   cf  cf(%)\n",
              "    [0.99,8.91615) 132 0.03  3.28  132   3.28\n",
              " [8.91615,16.8423) 192 0.05  4.77  324   8.04\n",
              " [16.8423,24.7685) 444 0.11 11.02  768  19.07\n",
              " [24.7685,32.6946) 766 0.19 19.02 1534  38.08\n",
              " [32.6946,40.6208) 655 0.16 16.26 2189  54.34\n",
              " [40.6208,48.5469) 530 0.13 13.16 2719  67.50\n",
              " [48.5469,56.4731) 453 0.11 11.25 3172  78.75\n",
              " [56.4731,64.3992) 382 0.09  9.48 3554  88.23\n",
              " [64.3992,72.3254) 240 0.06  5.96 3794  94.19\n",
              " [72.3254,80.2515) 144 0.04  3.57 3938  97.77\n",
              " [80.2515,88.1777)  59 0.01  1.46 3997  99.23\n",
              " [88.1777,96.1038)  28 0.01  0.70 4025  99.93\n",
              "  [96.1038,104.03)   3 0.00  0.07 4028 100.00"
            ],
            "text/latex": "\\begin{description}\n\\item[\\$table] A data.frame: 13 × 6\n\\begin{tabular}{llllll}\n Class limits & f & rf & rf(\\%) & cf & cf(\\%)\\\\\n <fct> & <int> & <dbl> & <dbl> & <dbl> & <dbl>\\\\\n\\hline\n\t {[}0.99,8.91615)    & 132 & 0.0327706058 &  3.27706058 &  132 &   3.277061\\\\\n\t {[}8.91615,16.8423) & 192 & 0.0476663357 &  4.76663357 &  324 &   8.043694\\\\\n\t {[}16.8423,24.7685) & 444 & 0.1102284012 & 11.02284012 &  768 &  19.066534\\\\\n\t {[}24.7685,32.6946) & 766 & 0.1901688183 & 19.01688183 & 1534 &  38.083416\\\\\n\t {[}32.6946,40.6208) & 655 & 0.1626117180 & 16.26117180 & 2189 &  54.344588\\\\\n\t {[}40.6208,48.5469) & 530 & 0.1315789474 & 13.15789474 & 2719 &  67.502483\\\\\n\t {[}48.5469,56.4731) & 453 & 0.1124627607 & 11.24627607 & 3172 &  78.748759\\\\\n\t {[}56.4731,64.3992) & 382 & 0.0948361470 &  9.48361470 & 3554 &  88.232373\\\\\n\t {[}64.3992,72.3254) & 240 & 0.0595829196 &  5.95829196 & 3794 &  94.190665\\\\\n\t {[}72.3254,80.2515) & 144 & 0.0357497517 &  3.57497517 & 3938 &  97.765641\\\\\n\t {[}80.2515,88.1777) &  59 & 0.0146474677 &  1.46474677 & 3997 &  99.230387\\\\\n\t {[}88.1777,96.1038) &  28 & 0.0069513406 &  0.69513406 & 4025 &  99.925521\\\\\n\t {[}96.1038,104.03)  &   3 & 0.0007447865 &  0.07447865 & 4028 & 100.000000\\\\\n\\end{tabular}\n\n\\item[\\$breaks] \\begin{description*}\n\\item[start] 0.99\n\\item[end] 104.03\n\\item[h] 7.92615384615385\n\\item[right] 0\n\\end{description*}\n\n\\end{description}\n",
            "text/markdown": "$table\n:   \nA data.frame: 13 × 6\n\n| Class limits &lt;fct&gt; | f &lt;int&gt; | rf &lt;dbl&gt; | rf(%) &lt;dbl&gt; | cf &lt;dbl&gt; | cf(%) &lt;dbl&gt; |\n|---|---|---|---|---|---|\n| [0.99,8.91615)    | 132 | 0.0327706058 |  3.27706058 |  132 |   3.277061 |\n| [8.91615,16.8423) | 192 | 0.0476663357 |  4.76663357 |  324 |   8.043694 |\n| [16.8423,24.7685) | 444 | 0.1102284012 | 11.02284012 |  768 |  19.066534 |\n| [24.7685,32.6946) | 766 | 0.1901688183 | 19.01688183 | 1534 |  38.083416 |\n| [32.6946,40.6208) | 655 | 0.1626117180 | 16.26117180 | 2189 |  54.344588 |\n| [40.6208,48.5469) | 530 | 0.1315789474 | 13.15789474 | 2719 |  67.502483 |\n| [48.5469,56.4731) | 453 | 0.1124627607 | 11.24627607 | 3172 |  78.748759 |\n| [56.4731,64.3992) | 382 | 0.0948361470 |  9.48361470 | 3554 |  88.232373 |\n| [64.3992,72.3254) | 240 | 0.0595829196 |  5.95829196 | 3794 |  94.190665 |\n| [72.3254,80.2515) | 144 | 0.0357497517 |  3.57497517 | 3938 |  97.765641 |\n| [80.2515,88.1777) |  59 | 0.0146474677 |  1.46474677 | 3997 |  99.230387 |\n| [88.1777,96.1038) |  28 | 0.0069513406 |  0.69513406 | 4025 |  99.925521 |\n| [96.1038,104.03)  |   3 | 0.0007447865 |  0.07447865 | 4028 | 100.000000 |\n\n\n$breaks\n:   start\n:   0.99end\n:   104.03h\n:   7.92615384615385right\n:   0\n\n\n\n\n",
            "text/html": [
              "<dl>\n",
              "\t<dt>$table</dt>\n",
              "\t\t<dd><table>\n",
              "<caption>A data.frame: 13 × 6</caption>\n",
              "<thead>\n",
              "\t<tr><th scope=col>Class limits</th><th scope=col>f</th><th scope=col>rf</th><th scope=col>rf(%)</th><th scope=col>cf</th><th scope=col>cf(%)</th></tr>\n",
              "\t<tr><th scope=col>&lt;fct&gt;</th><th scope=col>&lt;int&gt;</th><th scope=col>&lt;dbl&gt;</th><th scope=col>&lt;dbl&gt;</th><th scope=col>&lt;dbl&gt;</th><th scope=col>&lt;dbl&gt;</th></tr>\n",
              "</thead>\n",
              "<tbody>\n",
              "\t<tr><td>[0.99,8.91615)   </td><td>132</td><td>0.0327706058</td><td> 3.27706058</td><td> 132</td><td>  3.277061</td></tr>\n",
              "\t<tr><td>[8.91615,16.8423)</td><td>192</td><td>0.0476663357</td><td> 4.76663357</td><td> 324</td><td>  8.043694</td></tr>\n",
              "\t<tr><td>[16.8423,24.7685)</td><td>444</td><td>0.1102284012</td><td>11.02284012</td><td> 768</td><td> 19.066534</td></tr>\n",
              "\t<tr><td>[24.7685,32.6946)</td><td>766</td><td>0.1901688183</td><td>19.01688183</td><td>1534</td><td> 38.083416</td></tr>\n",
              "\t<tr><td>[32.6946,40.6208)</td><td>655</td><td>0.1626117180</td><td>16.26117180</td><td>2189</td><td> 54.344588</td></tr>\n",
              "\t<tr><td>[40.6208,48.5469)</td><td>530</td><td>0.1315789474</td><td>13.15789474</td><td>2719</td><td> 67.502483</td></tr>\n",
              "\t<tr><td>[48.5469,56.4731)</td><td>453</td><td>0.1124627607</td><td>11.24627607</td><td>3172</td><td> 78.748759</td></tr>\n",
              "\t<tr><td>[56.4731,64.3992)</td><td>382</td><td>0.0948361470</td><td> 9.48361470</td><td>3554</td><td> 88.232373</td></tr>\n",
              "\t<tr><td>[64.3992,72.3254)</td><td>240</td><td>0.0595829196</td><td> 5.95829196</td><td>3794</td><td> 94.190665</td></tr>\n",
              "\t<tr><td>[72.3254,80.2515)</td><td>144</td><td>0.0357497517</td><td> 3.57497517</td><td>3938</td><td> 97.765641</td></tr>\n",
              "\t<tr><td>[80.2515,88.1777)</td><td> 59</td><td>0.0146474677</td><td> 1.46474677</td><td>3997</td><td> 99.230387</td></tr>\n",
              "\t<tr><td>[88.1777,96.1038)</td><td> 28</td><td>0.0069513406</td><td> 0.69513406</td><td>4025</td><td> 99.925521</td></tr>\n",
              "\t<tr><td>[96.1038,104.03) </td><td>  3</td><td>0.0007447865</td><td> 0.07447865</td><td>4028</td><td>100.000000</td></tr>\n",
              "</tbody>\n",
              "</table>\n",
              "</dd>\n",
              "\t<dt>$breaks</dt>\n",
              "\t\t<dd><style>\n",
              ".dl-inline {width: auto; margin:0; padding: 0}\n",
              ".dl-inline>dt, .dl-inline>dd {float: none; width: auto; display: inline-block}\n",
              ".dl-inline>dt::after {content: \":\\0020\"; padding-right: .5ex}\n",
              ".dl-inline>dt:not(:first-of-type) {padding-left: .5ex}\n",
              "</style><dl class=dl-inline><dt>start</dt><dd>0.99</dd><dt>end</dt><dd>104.03</dd><dt>h</dt><dd>7.92615384615385</dd><dt>right</dt><dd>0</dd></dl>\n",
              "</dd>\n",
              "</dl>\n"
            ]
          },
          "metadata": {
            "tags": []
          }
        }
      ]
    },
    {
      "cell_type": "code",
      "metadata": {
        "id": "hRzdEL5oAN0y",
        "colab_type": "code",
        "colab": {
          "base_uri": "https://localhost:8080/",
          "height": 436
        },
        "outputId": "82a29073-5ea8-4947-f7f3-21f857268448"
      },
      "source": [
        "#histograma\n",
        "hist(Edad, freq=T, main='Hist de ela edad de los contagiados en bogota', xlab='Edad', ylab='')"
      ],
      "execution_count": 45,
      "outputs": [
        {
          "output_type": "display_data",
          "data": {
            "image/png": "[encoded data removed]",
            "text/plain": [
              "Plot with title “Hist de ela edad de los contagiados en bogota”"
            ]
          },
          "metadata": {
            "tags": [],
            "image/png": {
              "width": 420,
              "height": 420
            },
            "text/plain": {
              "width": 420,
              "height": 420
            }
          }
        }
      ]
    },
    {
      "cell_type": "code",
      "metadata": {
        "id": "5PlGlsvOBhqh",
        "colab_type": "code",
        "colab": {}
      },
      "source": [
        ""
      ],
      "execution_count": 0,
      "outputs": []
    }
  ]
}